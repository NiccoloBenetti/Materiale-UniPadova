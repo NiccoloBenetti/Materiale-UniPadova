{
  "cells": [
    {
      "cell_type": "markdown",
      "source": [
        "# [Grounding with Bing Search](https://learn.microsoft.com/en-us/azure/ai-services/agents/how-to/tools/bing-grounding?tabs=python&pivots=overview)\n",
        "![image.png](attachment:fd7610d6-cec1-40f6-a7bd-695163cdd9f0.png)<br/><br/>\n",
        "**Grounding with Bing Search** allows our Azure AI Agents to incorporate real-time public web data when generating responses.<br/>\n",
        "We need to create a Grounding with Bing Search resource, and then connect this resource to your Azure AI Agents.\n",
        "<br/>When a user sends a query, Azure AI Agents decide if Grounding with Bing Search should be leveraged or not. If so, it will leverage Bing to search over public web data and return relevant chunks. Lastly, Azure AI Agents will use returned chunks to generate a response.<br/><br/>\n",
        "![image.png](attachment:4d2c4215-ec52-4749-ba2c-dafd496f7d44.png)\n",
        "![image.png](attachment:6785d8e2-0046-4e34-b817-5a351a8209a6.png)\n",
        "![image.png](attachment:1324e024-504a-47b1-b6d3-ce2982927f28.png)\n",
        "![image.png](attachment:e187d760-5db3-4063-b398-26782d439672.png)\n"
      ],
      "metadata": {},
      "id": "34661703-adec-412d-b660-2fa989e6effa"
    },
    {
      "cell_type": "markdown",
      "source": [
        "## Bing Search Setup\n",
        "\n",
        "### 1 Creating the Grounding with Bing Search resource  \n",
        "- Create a **Grounding with Bing Search** resource within the Resource Group. This resource allows the Foundry project to perform web requests to enrich answers with up-to-date content.\n",
        "\n",
        "### 8.2 Connecting the Resource to AI Foundry  \n",
        "- Go to your AI Foundry project.  \n",
        "- In the **Overview** section click on open in **Management Center**.  \n",
        "- In the **Connected resources** section, click on **New connection > Grounding with Bing Search**.  \n",
        "- Select your service and add the connection.  \n",
        "- Use **API key** for authentication.  \n",
        "- In the `credentials.env` file, save the name of the newly created connection in the variable **BING_CONNECTION_NAME**.\n"
      ],
      "metadata": {
        "jp-MarkdownHeadingCollapsed": true
      },
      "id": "6bc582b3-cf45-4aee-b7c4-c23658b49dd7"
    },
    {
      "cell_type": "markdown",
      "source": [
        "# Constants"
      ],
      "metadata": {},
      "id": "dc713e0d-8aba-48bd-8217-30b9b558a7d6"
    },
    {
      "cell_type": "code",
      "source": [
        "import os\n",
        "from dotenv import load_dotenv # requires python-dotenv\n",
        "# import logging\n",
        "# logging.basicConfig(level=logging.INFO) # Configure logging \n",
        "\n",
        "load_dotenv(dotenv_path='../infra/credentials.env')\n",
        "model_name = os.environ[\"MODEL_DEPLOYMENT_NAME\"]\n",
        "project_connection_string = os.environ[\"AI_PROJECT_CONNECTION_STRING\"]\n",
        "\n",
        "print(f'Project Connection String: <...{project_connection_string[-30:]}>')"
      ],
      "outputs": [
        {
          "output_type": "stream",
          "name": "stdout",
          "text": "Project Connection String: <...ing-rg;aifoundry-upskilling-pj>\n"
        }
      ],
      "execution_count": 1,
      "metadata": {},
      "id": "98d9cc9d-cbef-4b35-a4a3-84802dd4ee06"
    },
    {
      "cell_type": "markdown",
      "source": [
        "# Create AI Foundry Project Client"
      ],
      "metadata": {},
      "id": "7942766e-1a0b-4bbb-9357-864bb2c007a3"
    },
    {
      "cell_type": "code",
      "source": [
        "from azure.ai.projects import AIProjectClient\n",
        "from azure.ai.projects.models import BingGroundingTool # <<<<<<<<<<<<<<< SPECIFIC FOR BING SEARCH\n",
        "from azure.identity import DefaultAzureCredential\n",
        "\n",
        "project_client = AIProjectClient.from_connection_string(\n",
        "    credential=DefaultAzureCredential(), conn_str=project_connection_string\n",
        ")\n",
        "\n",
        "project_client.scope"
      ],
      "outputs": [
        {
          "output_type": "execute_result",
          "execution_count": 2,
          "data": {
            "text/plain": "{'subscription_id': 'dbc342d5-96b5-4aef-a49d-5f6cbd7db6ce',\n 'resource_group_name': 'aifoundry-upskilling-rg',\n 'project_name': 'aifoundry-upskilling-pj'}"
          },
          "metadata": {}
        }
      ],
      "execution_count": 2,
      "metadata": {},
      "id": "5a9abb62-b855-402f-9e22-583ffe6bf8cb"
    },
    {
      "cell_type": "markdown",
      "source": [
        "# Create the BingGroundingTool in 2 steps"
      ],
      "metadata": {},
      "id": "6d5e03a1-910f-4442-b9b1-307176a34d8b"
    },
    {
      "cell_type": "markdown",
      "source": [
        "## First, retrieve the BING Connection already associated to the AI Foundry project..."
      ],
      "metadata": {},
      "id": "65057e77-1391-441a-999b-03901aec114d"
    },
    {
      "cell_type": "code",
      "source": [
        "bing_connection = project_client.connections.get(connection_name=os.environ[\"BING_CONNECTION_NAME\"])\n",
        "\n",
        "print(bing_connection)"
      ],
      "outputs": [
        {
          "output_type": "stream",
          "name": "stdout",
          "text": "{\n \"name\": \"bingsearchaievaluation\",\n \"id\": \"/subscriptions/dbc342d5-96b5-4aef-a49d-5f6cbd7db6ce/resourceGroups/aifoundry-upskilling-rg/providers/Microsoft.MachineLearningServices/workspaces/aifoundry-upskilling-pj/connections/bingsearchaievaluation\",\n \"authentication_type\": \"ApiKey\",\n \"connection_type\": \"ApiKey\",\n \"endpoint_url\": \"https://api.bing.microsoft.com\",\n \"key\": null\n \"token_credential\": null\n}\n\n"
        }
      ],
      "execution_count": 3,
      "metadata": {},
      "id": "c2f4c841-42aa-4245-9bdd-a5811b9f424a"
    },
    {
      "cell_type": "markdown",
      "source": [
        "## ...then, initialize `BingGroundingTool` and add the connection id to it"
      ],
      "metadata": {},
      "id": "10dab165-eee3-403e-96bf-1de0c7129b22"
    },
    {
      "cell_type": "code",
      "source": [
        "bing = BingGroundingTool(connection_id=bing_connection.id)\n",
        "print(f\"bing.definitions: {bing.definitions}\")\n",
        "print(f\"bing.resources: {bing.resources}\")"
      ],
      "outputs": [
        {
          "output_type": "stream",
          "name": "stdout",
          "text": "bing.definitions: [{'type': 'bing_grounding', 'bing_grounding': {'connections': [{'connection_id': '/subscriptions/dbc342d5-96b5-4aef-a49d-5f6cbd7db6ce/resourceGroups/aifoundry-upskilling-rg/providers/Microsoft.MachineLearningServices/workspaces/aifoundry-upskilling-pj/connections/bingsearchaievaluation'}]}}]\nbing.resources: {}\n"
        }
      ],
      "execution_count": 4,
      "metadata": {},
      "id": "0740ca80-42fe-4532-ba8c-6374526177a0"
    },
    {
      "cell_type": "markdown",
      "source": [
        "# ***Load*** or ***Create*** an AI Foundry Agent"
      ],
      "metadata": {},
      "id": "4fdf36fe-7b6c-4c90-adfe-18a7d3c7f438"
    },
    {
      "cell_type": "code",
      "source": [
        "project_client.agents.list_agents()['data']"
      ],
      "outputs": [
        {
          "output_type": "execute_result",
          "execution_count": 5,
          "data": {
            "text/plain": "[]"
          },
          "metadata": {}
        }
      ],
      "execution_count": 5,
      "metadata": {},
      "id": "41982c61-d474-43c6-944a-c1bfcf2dfd25"
    },
    {
      "cell_type": "code",
      "source": [
        "# Agent creation\n",
        "# Notices that FileSearchTool as tool and tool_resources must be added or the assistant unable to search the file\n",
        "\n",
        "assistant_id = \"\" # ex: asst_j1qWBdGsjbK4hHcO0M0n3M5p\n",
        "\n",
        "if assistant_id != \"\":\n",
        "    agent = project_client.agents.get_agent(assistant_id=assistant_id)\n",
        "else:\n",
        "    agent = project_client.agents.create_agent(\n",
        "        model=model_name,\n",
        "        name=\"aiagent-PYTHON-bing\",\n",
        "        instructions=\"You are an helpful assistant. You search the web and summarize the results clearly and concisely\",\n",
        "        tools=bing.definitions,\n",
        "        headers={\"x-ms-enable-preview\": \"true\"}\n",
        "    )\n",
        "\n",
        "print(f\"Agent: {agent}\")"
      ],
      "outputs": [
        {
          "output_type": "stream",
          "name": "stdout",
          "text": "Agent: {'id': 'asst_2r2N3IhcwLUvY3k05irBOyrd', 'object': 'assistant', 'created_at': 1744704484, 'name': 'aiagent-PYTHON-bing', 'description': None, 'model': 'gpt-4o', 'instructions': 'You are an helpful assistant. You search the web and summarize the results clearly and concisely', 'tools': [{'type': 'bing_grounding', 'bing_grounding': {'connections': [{'connection_id': '/subscriptions/dbc342d5-96b5-4aef-a49d-5f6cbd7db6ce/resourceGroups/aifoundry-upskilling-rg/providers/Microsoft.MachineLearningServices/workspaces/aifoundry-upskilling-pj/connections/bingsearchaievaluation'}]}}], 'top_p': 1.0, 'temperature': 1.0, 'tool_resources': {}, 'metadata': {}, 'response_format': 'auto'}\n"
        }
      ],
      "execution_count": 6,
      "metadata": {},
      "id": "a57f633c-5707-43e7-919c-aeb0728b3992"
    },
    {
      "cell_type": "markdown",
      "source": [
        "# Create the thread and attach a new message to it"
      ],
      "metadata": {},
      "id": "0e71597a-eec6-47dd-87c7-e0f0629a18bc"
    },
    {
      "cell_type": "code",
      "source": [
        "# Create a thread\n",
        "thread = project_client.agents.create_thread()\n",
        "print(f\"Created thread: {thread}\\n\")"
      ],
      "outputs": [
        {
          "output_type": "stream",
          "name": "stdout",
          "text": "Created thread: {'id': 'thread_13sy1e9PyE3PBJiMGPGJGysm', 'object': 'thread', 'created_at': 1744704485, 'metadata': {}, 'tool_resources': {}}\n\n"
        }
      ],
      "execution_count": 7,
      "metadata": {},
      "id": "06f80125-1252-4060-bdf5-3b52acc42a47"
    },
    {
      "cell_type": "code",
      "source": [
        "# Add a user message to the thread\n",
        "message = project_client.agents.create_message(\n",
        "    thread_id=thread.id, \n",
        "    role=\"user\", \n",
        "    content=\"What is the top news today?\", # \"What is the top news today\", \"Quali sono i programmi TV stasera?\"\n",
        ")\n",
        "print(f\"Created message: {message}\")"
      ],
      "outputs": [
        {
          "output_type": "stream",
          "name": "stdout",
          "text": "Created message: {'id': 'msg_2cbLlR24MnkVWrJ6syrWpOgA', 'object': 'thread.message', 'created_at': 1744704485, 'assistant_id': None, 'thread_id': 'thread_13sy1e9PyE3PBJiMGPGJGysm', 'run_id': None, 'role': 'user', 'content': [{'type': 'text', 'text': {'value': 'What is the top news today?', 'annotations': []}}], 'attachments': [], 'metadata': {}}\n"
        }
      ],
      "execution_count": 8,
      "metadata": {},
      "id": "b79213ec-2c43-45e0-8f94-8a0aeffcdc69"
    },
    {
      "cell_type": "code",
      "source": [
        "project_client.agents.list_messages(thread_id=thread.id).as_dict()"
      ],
      "outputs": [
        {
          "output_type": "execute_result",
          "execution_count": 9,
          "data": {
            "text/plain": "{'object': 'list',\n 'data': [{'id': 'msg_2cbLlR24MnkVWrJ6syrWpOgA',\n   'object': 'thread.message',\n   'created_at': 1744704485,\n   'assistant_id': None,\n   'thread_id': 'thread_13sy1e9PyE3PBJiMGPGJGysm',\n   'run_id': None,\n   'role': 'user',\n   'content': [{'type': 'text',\n     'text': {'value': 'What is the top news today?', 'annotations': []}}],\n   'attachments': [],\n   'metadata': {}}],\n 'first_id': 'msg_2cbLlR24MnkVWrJ6syrWpOgA',\n 'last_id': 'msg_2cbLlR24MnkVWrJ6syrWpOgA',\n 'has_more': False}"
          },
          "metadata": {}
        }
      ],
      "execution_count": 9,
      "metadata": {},
      "id": "388d7003-a6e3-4b1e-8f1a-ccd62368fd68"
    },
    {
      "cell_type": "markdown",
      "source": [
        "# Run the agent synchronously"
      ],
      "metadata": {},
      "id": "162865aa-4557-4038-95cc-6740b70c4d81"
    },
    {
      "cell_type": "code",
      "source": [
        "%%time\n",
        "# Create and process assistant run in thread with tools\n",
        "run = project_client.agents.create_and_process_run\\\n",
        "    (thread_id=thread.id, agent_id=agent.id, tool_choice='required',)\n",
        "\n",
        "print(f\"Run finished with status: {run.status}.\\n\\nRun: {run}\")\n",
        "\n",
        "if run.status == \"failed\":\n",
        "    # Check if you got \"Rate limit is exceeded.\", then you want to get more quota\n",
        "    print(f\"Run failed: {run.last_error}\")"
      ],
      "outputs": [
        {
          "output_type": "stream",
          "name": "stdout",
          "text": "Run finished with status: completed.\n\nRun: {'id': 'run_6ycCAXyGUqaCVUSqoXoass9K', 'object': 'thread.run', 'created_at': 1744704487, 'assistant_id': 'asst_2r2N3IhcwLUvY3k05irBOyrd', 'thread_id': 'thread_13sy1e9PyE3PBJiMGPGJGysm', 'status': 'completed', 'started_at': 1744704487, 'expires_at': None, 'cancelled_at': None, 'failed_at': None, 'completed_at': 1744704492, 'required_action': None, 'last_error': None, 'model': 'gpt-4o', 'instructions': 'You are an helpful assistant. You search the web and summarize the results clearly and concisely', 'tools': [{'type': 'bing_grounding', 'bing_grounding': {'connections': [{'connection_id': '/subscriptions/dbc342d5-96b5-4aef-a49d-5f6cbd7db6ce/resourceGroups/aifoundry-upskilling-rg/providers/Microsoft.MachineLearningServices/workspaces/aifoundry-upskilling-pj/connections/bingsearchaievaluation'}]}}], 'tool_resources': {}, 'metadata': {}, 'temperature': 1.0, 'top_p': 1.0, 'max_completion_tokens': None, 'max_prompt_tokens': None, 'truncation_strategy': {'type': 'auto', 'last_messages': None}, 'incomplete_details': None, 'usage': {'prompt_tokens': 1699, 'completion_tokens': 119, 'total_tokens': 1818, 'prompt_token_details': {'cached_tokens': 0}}, 'response_format': 'auto', 'tool_choice': 'required', 'parallel_tool_calls': True}\nCPU times: user 19.7 ms, sys: 0 ns, total: 19.7 ms\nWall time: 6.64 s\n"
        }
      ],
      "execution_count": 10,
      "metadata": {},
      "id": "8604f495-2519-42a7-a19a-026538cf2c2c"
    },
    {
      "cell_type": "markdown",
      "source": [
        "# Fetch messages from the thread after the agent run execution"
      ],
      "metadata": {},
      "id": "ee9d7f25-29a4-41d7-8b56-a2727266d094"
    },
    {
      "cell_type": "code",
      "source": [
        "from azure.ai.projects.models import MessageTextContent, MessageImageFileContent\n",
        "\n",
        "if run.status == 'completed':    \n",
        "    messages = project_client.agents.list_messages(thread_id=thread.id)\n",
        "    messages_nr = len(messages.data)\n",
        "    print(f\"Here are the {messages_nr} messages:\\n\")\n",
        "    \n",
        "    for i, message in enumerate(reversed(messages.data), 1):\n",
        "        j = 0\n",
        "        print(f\"\\n===== MESSAGE {i} =====\")\n",
        "        for c in message.content:\n",
        "            j +=1\n",
        "            if (type(c) is MessageImageFileContent):\n",
        "                print(f\"\\nCONTENT {j} (MessageImageFileContent) --> image_file id: {c.image_file.file_id}\")\n",
        "            elif (type(c) is MessageTextContent):\n",
        "                print(f\"\\nCONTENT {j} (MessageTextContent) --> Text: {c.text.value}\\n\")\n",
        "                for a in c.text.annotations:\n",
        "                    print(f\">>> Annotation in MessageTextContent {j} of message {i}: {a.text}\\n\")\n",
        "\n",
        "else:\n",
        "    print(f\"Sorry, I can't proceed because the run status is {run.status}\")"
      ],
      "outputs": [
        {
          "output_type": "stream",
          "name": "stdout",
          "text": "Here are the 2 messages:\n\n\n===== MESSAGE 1 =====\n\nCONTENT 1 (MessageTextContent) --> Text: What is the top news today?\n\n\n===== MESSAGE 2 =====\n\nCONTENT 1 (MessageTextContent) --> Text: Here are some of the top news stories for April 15, 2025:\n\n1. Ukraine can potentially join the EU, but not NATO, according to Russia during peace talks to end the ongoing war【3:2†source】.\n2. The Philippines has raised concerns regarding the South China Sea during ASEAN-China talks【3:9†source】.\n3. Apple shares have increased following relief from tariffs【3:9†source】.\n\nThese headlines capture important political and economic developments occurring today.\n\n>>> Annotation in MessageTextContent 1 of message 2: 【3:2†source】\n\n>>> Annotation in MessageTextContent 1 of message 2: 【3:9†source】\n\n>>> Annotation in MessageTextContent 1 of message 2: 【3:9†source】\n\n"
        }
      ],
      "execution_count": 11,
      "metadata": {},
      "id": "8948c674-196a-4226-8e01-958822fff6bf"
    },
    {
      "cell_type": "code",
      "source": [
        "from azure.ai.projects.models import FilePurpose, MessageRole\n",
        "\n",
        "# Get the last message from the sender\n",
        "last_msg = messages.get_last_text_message_by_role(MessageRole.AGENT)\n",
        "if last_msg:\n",
        "    print(f\"Last Message: {last_msg.text.value}\")"
      ],
      "outputs": [
        {
          "output_type": "stream",
          "name": "stdout",
          "text": "Last Message: Here are some of the top news stories for April 15, 2025:\n\n1. Ukraine can potentially join the EU, but not NATO, according to Russia during peace talks to end the ongoing war【3:2†source】.\n2. The Philippines has raised concerns regarding the South China Sea during ASEAN-China talks【3:9†source】.\n3. Apple shares have increased following relief from tariffs【3:9†source】.\n\nThese headlines capture important political and economic developments occurring today.\n"
        }
      ],
      "execution_count": 12,
      "metadata": {},
      "id": "0d3222fb-0f69-43ec-8762-65cc8242df67"
    },
    {
      "cell_type": "markdown",
      "source": [
        "# Print annotations from the messages"
      ],
      "metadata": {},
      "id": "3f1af78b-d00b-4e9f-a449-f007fe1ecc2f"
    },
    {
      "cell_type": "code",
      "source": [
        "print(f\"Number of annotation(s): {len(last_msg.text.annotations)}\")\n",
        "\n",
        "for annotation in last_msg.text.annotations:\n",
        "    print(annotation[\"text\"], annotation[\"url_citation\"][\"url\"])"
      ],
      "outputs": [
        {
          "output_type": "stream",
          "name": "stdout",
          "text": "Number of annotation(s): 3\n【3:2†source】 https://www.ndtv.com/video/top-headlines-of-the-day-april-15-2025-926594\n【3:9†source】 https://www.schooldekho.org/school/blog/details/school-assembly-news-headlines-today-15-april-2025-1781\n【3:9†source】 https://www.schooldekho.org/school/blog/details/school-assembly-news-headlines-today-15-april-2025-1781\n"
        }
      ],
      "execution_count": 13,
      "metadata": {},
      "id": "f7a46d95-6368-428e-8335-761e3661e7b1"
    },
    {
      "cell_type": "markdown",
      "source": [
        "# Run Steps"
      ],
      "metadata": {},
      "id": "fe4020af-2bd6-4550-a2f5-c19a48daa95c"
    },
    {
      "cell_type": "code",
      "source": [
        "run_steps = project_client.agents.list_run_steps(run_id=run.id, thread_id=thread.id)\n",
        "\n",
        "print(f\"Nr of run step(s): {len(run_steps['data'])}\\n\")\n",
        "i=0\n",
        "for rs in run_steps[\"data\"]:\n",
        "    i += 1\n",
        "    print(f\"Run step {i}: {rs}\", '\\n')"
      ],
      "outputs": [
        {
          "output_type": "stream",
          "name": "stdout",
          "text": "Nr of run step(s): 2\n\nRun step 1: {'id': 'step_prwksvL20SxLVlAp7KIxFf2f', 'object': 'thread.run.step', 'created_at': 1744704489, 'run_id': 'run_6ycCAXyGUqaCVUSqoXoass9K', 'assistant_id': 'asst_2r2N3IhcwLUvY3k05irBOyrd', 'thread_id': 'thread_13sy1e9PyE3PBJiMGPGJGysm', 'type': 'message_creation', 'status': 'completed', 'cancelled_at': None, 'completed_at': 1744704492, 'expires_at': None, 'failed_at': None, 'last_error': None, 'step_details': {'type': 'message_creation', 'message_creation': {'message_id': 'msg_M3NwV0TO9tUMbOwvHKr1hcBv'}}, 'usage': {'prompt_tokens': 1237, 'completion_tokens': 104, 'total_tokens': 1341, 'prompt_token_details': {'cached_tokens': 0}}} \n\nRun step 2: {'id': 'step_CZWIbv9GFWJYcivQhZjBmoK9', 'object': 'thread.run.step', 'created_at': 1744704488, 'run_id': 'run_6ycCAXyGUqaCVUSqoXoass9K', 'assistant_id': 'asst_2r2N3IhcwLUvY3k05irBOyrd', 'thread_id': 'thread_13sy1e9PyE3PBJiMGPGJGysm', 'type': 'tool_calls', 'status': 'completed', 'cancelled_at': None, 'completed_at': 1744704489, 'expires_at': None, 'failed_at': None, 'last_error': None, 'step_details': {'type': 'tool_calls', 'tool_calls': [{'id': 'call_58oEIdCBNWIP4OfZ4LIShMHu', 'type': 'bing_grounding', 'bing_grounding': {'requesturl': 'https://api.bing.microsoft.com/v7.0/search?q=\"top news April 15 2025\"'}}]}, 'usage': {'prompt_tokens': 462, 'completion_tokens': 15, 'total_tokens': 477, 'prompt_token_details': {'cached_tokens': 0}}} \n\n"
        }
      ],
      "execution_count": 14,
      "metadata": {},
      "id": "a13a57be-292d-4008-b3de-68c9878b2980"
    },
    {
      "cell_type": "markdown",
      "source": [
        "# START Teardown"
      ],
      "metadata": {},
      "id": "944ec759-c053-4ab7-81aa-15cfa4961468"
    },
    {
      "cell_type": "code",
      "source": [
        "# Delete all agents\n",
        "\n",
        "print(f\"{len(project_client.agents.list_agents()['data'])} agent(s) will now be deleted\")\n",
        "\n",
        "i=0\n",
        "for pca in project_client.agents.list_agents()['data']:\n",
        "    i += 1\n",
        "    project_client.agents.delete_agent(pca.id)\n",
        "    print(f\"\\n{i} - Agent {pca.name} has been deleted\")"
      ],
      "outputs": [],
      "execution_count": null,
      "metadata": {},
      "id": "48399858-16e3-4b7c-a13a-aa3ed8320539"
    }
  ],
  "metadata": {
    "kernelspec": {
      "display_name": "nico_env",
      "language": "python",
      "name": "nico_env"
    },
    "language_info": {
      "codemirror_mode": {
        "name": "ipython",
        "version": 3
      },
      "file_extension": ".py",
      "mimetype": "text/x-python",
      "name": "python",
      "nbconvert_exporter": "python",
      "pygments_lexer": "ipython3",
      "version": "3.10.16"
    },
    "microsoft": {
      "ms_spell_check": {
        "ms_spell_check_language": "en"
      }
    },
    "nteract": {
      "version": "nteract-front-end@1.0.0"
    }
  },
  "nbformat": 4,
  "nbformat_minor": 5
}