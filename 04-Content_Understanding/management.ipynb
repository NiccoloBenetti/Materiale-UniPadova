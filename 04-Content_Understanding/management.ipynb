{
  "cells": [
    {
      "cell_type": "markdown",
      "source": [
        "# Manage Analyzers in Your Resource"
      ],
      "metadata": {}
    },
    {
      "cell_type": "markdown",
      "source": [
        "This notebook demo how to create a simple analyzer and manage its lifecycle.\n",
        "\n",
        "Source: https://github.com/Azure-Samples/azure-ai-content-understanding-python.git"
      ],
      "metadata": {}
    },
    {
      "cell_type": "markdown",
      "source": [
        "## Create Azure AI Content Understanding Client\n",
        "\n",
        "> The [AzureContentUnderstandingClient](python/content_understanding_client.py) is a utility class containing functions to interact with the Content Understanding API. \n",
        "\n",
        "\n",
        "Before the official release of the Content Understanding SDK, it can be regarded as a lightweight SDK.\n"
      ],
      "metadata": {}
    },
    {
      "cell_type": "code",
      "source": [
        "import logging\n",
        "import json\n",
        "import os\n",
        "import sys\n",
        "from pathlib import Path\n",
        "from dotenv import find_dotenv, load_dotenv\n",
        "from azure.identity import DefaultAzureCredential, get_bearer_token_provider"
      ],
      "outputs": [],
      "execution_count": 2,
      "metadata": {
        "gather": {
          "logged": 1744733060050
        }
      }
    },
    {
      "cell_type": "code",
      "source": [
        "load_dotenv(dotenv_path='../infra/credentials.env', override=True)"
      ],
      "outputs": [
        {
          "output_type": "execute_result",
          "execution_count": 19,
          "data": {
            "text/plain": "True"
          },
          "metadata": {}
        }
      ],
      "execution_count": 19,
      "metadata": {
        "gather": {
          "logged": 1744733371973
        }
      }
    },
    {
      "cell_type": "code",
      "source": [
        "logging.basicConfig(level=logging.INFO)"
      ],
      "outputs": [],
      "execution_count": 4,
      "metadata": {
        "gather": {
          "logged": 1744733061969
        }
      }
    },
    {
      "cell_type": "code",
      "source": [
        "AZURE_AI_ENDPOINT = os.getenv(\"AZURE_CU_ENDPOINT\")\n",
        "AZURE_AI_API_VERSION = os.getenv(\"AZURE_CU_API_VERSION\", \"2024-12-01-preview\")\n",
        "print(f\"Current Azure Content Understanding endpoint: {AZURE_AI_ENDPOINT}\")\n",
        "print(f\"Current Azure Content Understanding API version: {AZURE_AI_API_VERSION}\")"
      ],
      "outputs": [
        {
          "output_type": "stream",
          "name": "stdout",
          "text": "Current Azure Content Understanding endpoint: https://ai-aifoundryupskillinghub687267079310.services.ai.azure.com/\nCurrent Azure Content Understanding API version: 2024-12-01-preview\n"
        }
      ],
      "execution_count": 5,
      "metadata": {
        "gather": {
          "logged": 1744733063121
        }
      }
    },
    {
      "cell_type": "code",
      "source": [
        "# only if necessary, add the parent directory to the path to use shared modules\n",
        "# parent_dir = Path(Path.cwd()).parent\n",
        "# sys.path.append(str(parent_dir))\n",
        "\n",
        "# import the utility class AzureContentUnderstandingClient, which is a wrapper around the Azure Content Understanding REST API client\n",
        "from python.content_understanding_client import AzureContentUnderstandingClient"
      ],
      "outputs": [],
      "execution_count": 6,
      "metadata": {
        "gather": {
          "logged": 1744733073927
        }
      }
    },
    {
      "cell_type": "code",
      "source": [
        "credential = DefaultAzureCredential()\n",
        "token_provider = get_bearer_token_provider(credential, \"https://cognitiveservices.azure.com/.default\")"
      ],
      "outputs": [
        {
          "output_type": "stream",
          "name": "stderr",
          "text": "INFO:azure.identity._credentials.environment:No environment configuration found.\nINFO:azure.identity._credentials.managed_identity:ManagedIdentityCredential will use Azure ML managed identity\n"
        }
      ],
      "execution_count": 7,
      "metadata": {
        "gather": {
          "logged": 1744733075992
        }
      }
    },
    {
      "cell_type": "code",
      "source": [
        "client = AzureContentUnderstandingClient(\n",
        "    endpoint=AZURE_AI_ENDPOINT,\n",
        "    api_version=AZURE_AI_API_VERSION,\n",
        "    token_provider=token_provider,\n",
        "    x_ms_useragent=\"azure-ai-content-understanding-python/analyzer_management\", # This header is used for sample usage telemetry, please comment out this line if you want to opt out.\n",
        ")"
      ],
      "outputs": [
        {
          "output_type": "stream",
          "name": "stderr",
          "text": "INFO:azure.core.pipeline.policies.http_logging_policy:Request URL: 'http://127.0.0.1:46808/MSI/auth?api-version=REDACTED&resource=REDACTED'\nRequest method: 'GET'\nRequest headers:\n    'secret': 'REDACTED'\n    'User-Agent': 'azsdk-python-identity/1.21.0 Python/3.10.16 (Linux-5.15.0-1073-azure-x86_64-with-glibc2.31)'\nNo body was attached to the request\nINFO:azure.core.pipeline.policies.http_logging_policy:Response status: 200\nResponse headers:\n    'Content-Type': 'application/json'\n    'Date': 'Tue, 15 Apr 2025 16:04:38 GMT'\n    'Transfer-Encoding': 'chunked'\nINFO:azure.identity._credentials.chained:DefaultAzureCredential acquired a token from ManagedIdentityCredential\n"
        }
      ],
      "execution_count": 8,
      "metadata": {
        "gather": {
          "logged": 1744733079225
        }
      }
    },
    {
      "cell_type": "markdown",
      "source": [
        "## Create a simple analyzer\n",
        "We first create an analyzer from a template to extract invoice fields."
      ],
      "metadata": {}
    },
    {
      "cell_type": "code",
      "source": [
        "import uuid\n",
        "\n",
        "ANALYZER_TEMPLATE = \"analyzer_templates/my_invoice_analyzer_template.json\" #call_recording_analytics.json\"\n",
        "ANALYZER_ID = \"my_invoice_20250415\"\n",
        "# ANALYZER_ID = \"analyzer-management-sample-\" + str(uuid.uuid4())\n",
        "\n",
        "response = client.begin_create_analyzer(ANALYZER_ID, analyzer_template_path=ANALYZER_TEMPLATE)\n",
        "result = client.poll_result(response)\n",
        "\n",
        "print(json.dumps(result, indent=2))"
      ],
      "outputs": [
        {
          "output_type": "stream",
          "name": "stderr",
          "text": "INFO:python.content_understanding_client:Analyzer my_invoice_20250415 create request accepted.\nINFO:python.content_understanding_client:Request 93c6127b-92ca-46ec-9aa6-66ab7357935d in progress ...\n"
        },
        {
          "output_type": "stream",
          "name": "stdout",
          "text": "{\n  \"id\": \"93c6127b-92ca-46ec-9aa6-66ab7357935d\",\n  \"status\": \"Succeeded\",\n  \"result\": {\n    \"analyzerId\": \"my_invoice_20250415\",\n    \"description\": \"Invoice analyzer template\",\n    \"createdAt\": \"2025-04-15T16:11:27Z\",\n    \"lastModifiedAt\": \"2025-04-15T16:11:28Z\",\n    \"config\": {\n      \"returnDetails\": false,\n      \"enableOcr\": true,\n      \"enableLayout\": true,\n      \"enableBarcode\": false,\n      \"enableFormula\": false,\n      \"disableContentFiltering\": false\n    },\n    \"fieldSchema\": {\n      \"fields\": {\n        \"InvoiceNr\": {\n          \"type\": \"string\",\n          \"method\": \"extract\",\n          \"description\": \"The ID of the invoice\"\n        },\n        \"InvoiceDate\": {\n          \"type\": \"date\",\n          \"method\": \"extract\",\n          \"description\": \"The date when the invoice was issued\"\n        },\n        \"DueDate\": {\n          \"type\": \"date\",\n          \"method\": \"extract\",\n          \"description\": \"The invoice due date\"\n        },\n        \"Company\": {\n          \"type\": \"string\",\n          \"method\": \"extract\",\n          \"description\": \"The name of the company issuing the invoice\"\n        },\n        \"InvoiceItems\": {\n          \"type\": \"array\",\n          \"method\": \"generate\",\n          \"description\": \"The invoice lines with their details\",\n          \"items\": {\n            \"type\": \"object\",\n            \"method\": \"extract\",\n            \"properties\": {\n              \"ItemCode\": {\n                \"type\": \"string\",\n                \"method\": \"extract\",\n                \"description\": \"The line item code\"\n              },\n              \"ItemName\": {\n                \"type\": \"string\",\n                \"method\": \"extract\",\n                \"description\": \"The line item description\"\n              },\n              \"Quantity\": {\n                \"type\": \"integer\",\n                \"method\": \"extract\",\n                \"description\": \"The quantity with respect to the line item\"\n              },\n              \"UM\": {\n                \"type\": \"string\",\n                \"method\": \"extract\",\n                \"description\": \"The unit measure with respect to the quantity of the line item\"\n              },\n              \"TotalAmount\": {\n                \"type\": \"number\",\n                \"method\": \"extract\",\n                \"description\": \"The total line amount, tax included\"\n              }\n            }\n          }\n        },\n        \"AmountDue\": {\n          \"type\": \"number\",\n          \"method\": \"extract\",\n          \"description\": \"The total amount due, tax included\"\n        },\n        \"CustomerID\": {\n          \"type\": \"string\",\n          \"method\": \"extract\",\n          \"description\": \"The ID of the Customer if present, otherwise use a fixed value \\\"N/A\\\"\"\n        }\n      }\n    },\n    \"warnings\": [],\n    \"status\": \"ready\",\n    \"scenario\": \"document\"\n  }\n}\n"
        }
      ],
      "execution_count": 21,
      "metadata": {
        "gather": {
          "logged": 1744733490439
        }
      }
    },
    {
      "cell_type": "markdown",
      "source": [
        "## List all analyzers created in your resource"
      ],
      "metadata": {}
    },
    {
      "cell_type": "markdown",
      "source": [
        "After the analyzer is successfully created, we can use it to analyze our input files."
      ],
      "metadata": {}
    },
    {
      "cell_type": "code",
      "source": [
        "all_analyzers = client.get_all_analyzers()\n",
        "print(f\"Number of analyzers in your resource: {len(all_analyzers['value'])}\")\n",
        "print(f\"First 3 analyzer details: {json.dumps(all_analyzers['value'][:3], indent=2)}\")"
      ],
      "outputs": [
        {
          "output_type": "stream",
          "name": "stdout",
          "text": "Number of analyzers in your resource: 11\nFirst 3 analyzer details: [\n  {\n    \"analyzerId\": \"prebuilt-read\",\n    \"description\": \"Extract content elements such as words, barcodes, and formulas from documents.\",\n    \"config\": {\n      \"returnDetails\": true,\n      \"enableOcr\": true,\n      \"enableLayout\": false,\n      \"enableBarcode\": false,\n      \"enableFormula\": false\n    },\n    \"warnings\": [],\n    \"status\": \"undefined\",\n    \"scenario\": \"document\"\n  },\n  {\n    \"analyzerId\": \"prebuilt-layout\",\n    \"description\": \"Extract various content and layout elements such as words, paragraphs, and tables from documents.\",\n    \"config\": {\n      \"returnDetails\": true,\n      \"enableOcr\": true,\n      \"enableLayout\": true,\n      \"enableBarcode\": false,\n      \"enableFormula\": false\n    },\n    \"warnings\": [],\n    \"status\": \"undefined\",\n    \"scenario\": \"document\"\n  },\n  {\n    \"analyzerId\": \"analyzer-management-sample-a706ced3-c0c1-4603-b1bc-d560c3fec847\",\n    \"description\": \"Sample invoice analyzer\",\n    \"createdAt\": \"2025-04-10T15:15:27Z\",\n    \"lastModifiedAt\": \"2025-04-10T15:15:31Z\",\n    \"config\": {\n      \"returnDetails\": true,\n      \"enableOcr\": true,\n      \"enableLayout\": true,\n      \"enableBarcode\": false,\n      \"enableFormula\": false,\n      \"disableContentFiltering\": false\n    },\n    \"fieldSchema\": {\n      \"fields\": {\n        \"VendorName\": {\n          \"type\": \"string\",\n          \"method\": \"extract\",\n          \"description\": \"Vendor issuing the invoice\"\n        },\n        \"Items\": {\n          \"type\": \"array\",\n          \"method\": \"extract\",\n          \"items\": {\n            \"type\": \"object\",\n            \"properties\": {\n              \"Description\": {\n                \"type\": \"string\",\n                \"method\": \"extract\",\n                \"description\": \"Description of the item\"\n              },\n              \"Amount\": {\n                \"type\": \"number\",\n                \"method\": \"extract\",\n                \"description\": \"Amount of the item\"\n              }\n            }\n          }\n        }\n      }\n    },\n    \"warnings\": [],\n    \"status\": \"ready\",\n    \"scenario\": \"document\"\n  }\n]\n"
        }
      ],
      "execution_count": 17,
      "metadata": {
        "gather": {
          "logged": 1744733339383
        }
      }
    },
    {
      "cell_type": "code",
      "source": [
        "import pandas as pd\n",
        "df_analyzers = pd.json_normalize(all_analyzers['value'])\n",
        "df_analyzers_sorted = df_analyzers.sort_values(by='createdAt', ascending=False)\n",
        "df_analyzers_sorted[['analyzerId', 'createdAt']]"
      ],
      "outputs": [
        {
          "output_type": "execute_result",
          "execution_count": 18,
          "data": {
            "text/plain": "                                           analyzerId             createdAt\n8                                 my_invoice_20250415  2025-04-15T16:08:50Z\n10                          my_invoice_analyzer_elisa  2025-04-11T10:13:32Z\n4   content-understanding-search-sample-4d23a4ef-c...  2025-04-10T16:42:26Z\n5   content-understanding-search-sample-52bb9c5b-9...  2025-04-10T16:42:07Z\n7   content-understanding-search-sample-c189f090-8...  2025-04-10T16:37:34Z\n3   content-understanding-search-sample-06f395bb-2...  2025-04-10T15:59:37Z\n6   content-understanding-search-sample-b4d7ed6b-7...  2025-04-10T15:41:08Z\n9                                 my_invoice_analyzer  2025-04-10T15:18:00Z\n2   analyzer-management-sample-a706ced3-c0c1-4603-...  2025-04-10T15:15:27Z\n0                                       prebuilt-read                   NaN\n1                                     prebuilt-layout                   NaN",
            "text/html": "<div>\n<style scoped>\n    .dataframe tbody tr th:only-of-type {\n        vertical-align: middle;\n    }\n\n    .dataframe tbody tr th {\n        vertical-align: top;\n    }\n\n    .dataframe thead th {\n        text-align: right;\n    }\n</style>\n<table border=\"1\" class=\"dataframe\">\n  <thead>\n    <tr style=\"text-align: right;\">\n      <th></th>\n      <th>analyzerId</th>\n      <th>createdAt</th>\n    </tr>\n  </thead>\n  <tbody>\n    <tr>\n      <th>8</th>\n      <td>my_invoice_20250415</td>\n      <td>2025-04-15T16:08:50Z</td>\n    </tr>\n    <tr>\n      <th>10</th>\n      <td>my_invoice_analyzer_elisa</td>\n      <td>2025-04-11T10:13:32Z</td>\n    </tr>\n    <tr>\n      <th>4</th>\n      <td>content-understanding-search-sample-4d23a4ef-c...</td>\n      <td>2025-04-10T16:42:26Z</td>\n    </tr>\n    <tr>\n      <th>5</th>\n      <td>content-understanding-search-sample-52bb9c5b-9...</td>\n      <td>2025-04-10T16:42:07Z</td>\n    </tr>\n    <tr>\n      <th>7</th>\n      <td>content-understanding-search-sample-c189f090-8...</td>\n      <td>2025-04-10T16:37:34Z</td>\n    </tr>\n    <tr>\n      <th>3</th>\n      <td>content-understanding-search-sample-06f395bb-2...</td>\n      <td>2025-04-10T15:59:37Z</td>\n    </tr>\n    <tr>\n      <th>6</th>\n      <td>content-understanding-search-sample-b4d7ed6b-7...</td>\n      <td>2025-04-10T15:41:08Z</td>\n    </tr>\n    <tr>\n      <th>9</th>\n      <td>my_invoice_analyzer</td>\n      <td>2025-04-10T15:18:00Z</td>\n    </tr>\n    <tr>\n      <th>2</th>\n      <td>analyzer-management-sample-a706ced3-c0c1-4603-...</td>\n      <td>2025-04-10T15:15:27Z</td>\n    </tr>\n    <tr>\n      <th>0</th>\n      <td>prebuilt-read</td>\n      <td>NaN</td>\n    </tr>\n    <tr>\n      <th>1</th>\n      <td>prebuilt-layout</td>\n      <td>NaN</td>\n    </tr>\n  </tbody>\n</table>\n</div>"
          },
          "metadata": {}
        }
      ],
      "execution_count": 18,
      "metadata": {
        "gather": {
          "logged": 1744733341982
        }
      }
    },
    {
      "cell_type": "markdown",
      "source": [
        "## Get analyzer details with id\n",
        "\n",
        "Remember the analyzer id when you create it. You can use the id to look up detail analyzer definitions afterwards."
      ],
      "metadata": {}
    },
    {
      "cell_type": "code",
      "source": [
        "result = client.get_analyzer_detail_by_id(ANALYZER_ID)\n",
        "print(json.dumps(result, indent=2))"
      ],
      "outputs": [],
      "execution_count": null,
      "metadata": {
        "gather": {
          "logged": 1744296640864
        }
      }
    },
    {
      "cell_type": "markdown",
      "source": [
        "## Delete Analyzer\n",
        "If you don't need an analyzer anymore, delete it with its id."
      ],
      "metadata": {}
    },
    {
      "cell_type": "code",
      "source": [
        "client.delete_analyzer(ANALYZER_ID)"
      ],
      "outputs": [
        {
          "output_type": "stream",
          "name": "stderr",
          "text": "INFO:python.content_understanding_client:Analyzer my_invoice_20250415 deleted.\n"
        },
        {
          "output_type": "execute_result",
          "execution_count": 20,
          "data": {
            "text/plain": "<Response [204]>"
          },
          "metadata": {}
        }
      ],
      "execution_count": 20,
      "metadata": {
        "gather": {
          "logged": 1744733475042
        }
      }
    },
    {
      "cell_type": "code",
      "source": [
        "client.delete_analyzer(\"my_invoice_analyzer\")"
      ],
      "outputs": [],
      "execution_count": null,
      "metadata": {
        "gather": {
          "logged": 1744298251941
        }
      }
    }
  ],
  "metadata": {
    "kernel_info": {
      "name": "my_env"
    },
    "kernelspec": {
      "name": "my_env",
      "language": "python",
      "display_name": "my_env"
    },
    "language_info": {
      "name": "python",
      "version": "3.10.16",
      "mimetype": "text/x-python",
      "codemirror_mode": {
        "name": "ipython",
        "version": 3
      },
      "pygments_lexer": "ipython3",
      "nbconvert_exporter": "python",
      "file_extension": ".py"
    },
    "microsoft": {
      "host": {
        "AzureML": {
          "notebookHasBeenCompleted": true
        }
      },
      "ms_spell_check": {
        "ms_spell_check_language": "en"
      }
    },
    "nteract": {
      "version": "nteract-front-end@1.0.0"
    }
  },
  "nbformat": 4,
  "nbformat_minor": 4
}