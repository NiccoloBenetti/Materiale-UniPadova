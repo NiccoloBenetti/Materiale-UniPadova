{
 "cells": [
  {
   "cell_type": "markdown",
   "metadata": {},
   "source": [
    "## Setup"
   ]
  },
  {
   "cell_type": "markdown",
   "metadata": {},
   "source": [
    "\n",
    "The goal of this quickstart is to provide a reference for the most common uses cases \n",
    "of interacting with prebuilt models of Azure Document Intelligence (prebuilt-read and prebuilt-layout).\n",
    "\n",
    "Some add-on capabilities are also explored, \n",
    "together with the usage of markdown output format for the layout model.\n",
    "This option is particularly powerful when the results need to be served as context to a LLM,\n",
    "as demonstrated in the last section of this notebook.\n",
    "\n",
    "### Document Intelligence Configuration\n",
    "\n",
    "- Create a new **Document Intelligence** resource within the same Resource Group. During configuration, select the free pricing tier.  \n",
    "- Once the resource is created, copy the **key** and **endpoint** values into the `credentials.env` file.\n",
    "\n"
   ]
  },
  {
   "cell_type": "markdown",
   "metadata": {},
   "source": [
    "### Import libraries\n",
    "\n",
    "If you forgot to install ai-doc-intelligence, please do so with pip install command in the terminal of your compute"
   ]
  },
  {
   "cell_type": "code",
   "execution_count": 1,
   "metadata": {},
   "outputs": [],
   "source": [
    "#!pip install azure-ai-documentintelligence==1.0.1"
   ]
  },
  {
   "cell_type": "code",
   "execution_count": 1,
   "metadata": {
    "gather": {
     "logged": 1744292979758
    }
   },
   "outputs": [],
   "source": [
    "import os\n",
    "from dotenv import load_dotenv\n",
    "from azure.core.credentials import AzureKeyCredential\n",
    "from azure.ai.documentintelligence import DocumentIntelligenceClient\n",
    "from azure.ai.documentintelligence.models import AnalyzeResult\n",
    "from azure.ai.documentintelligence.models import AnalyzeDocumentRequest\n",
    "from azure.ai.documentintelligence.models import DocumentAnalysisFeature\n",
    "# import base64\n",
    "import pandas as pd"
   ]
  },
  {
   "cell_type": "markdown",
   "metadata": {},
   "source": [
    "### Document Intelligence client"
   ]
  },
  {
   "cell_type": "code",
   "execution_count": 2,
   "metadata": {
    "gather": {
     "logged": 1744293291186
    }
   },
   "outputs": [
    {
     "data": {
      "text/plain": [
       "True"
      ]
     },
     "execution_count": 2,
     "metadata": {},
     "output_type": "execute_result"
    }
   ],
   "source": [
    "# Load environment variables from .env file\n",
    "load_dotenv(dotenv_path='../infra/credentials.env', override=True)"
   ]
  },
  {
   "cell_type": "code",
   "execution_count": 3,
   "metadata": {
    "gather": {
     "logged": 1744293292512
    }
   },
   "outputs": [
    {
     "name": "stdout",
     "output_type": "stream",
     "text": [
      "Current endpoint: https://ep-di-standalone.cognitiveservices.azure.com\n"
     ]
    }
   ],
   "source": [
    "# Be aware if your deployment is single-service (Azure Document Intelligence resource) or multi-service (Azure AI Services resource)\n",
    "azure_docintelligence_endpoint = os.environ.get('AZURE_DOCUMENT_INTELLIGENCE_ENDPOINT')\n",
    "azure_docintelligence_key = os.environ.get('AZURE_DOCUMENT_INTELLIGENCE_KEY')\n",
    "print(f'Current endpoint: {azure_docintelligence_endpoint}')"
   ]
  },
  {
   "cell_type": "code",
   "execution_count": 4,
   "metadata": {
    "gather": {
     "logged": 1744293295661
    }
   },
   "outputs": [],
   "source": [
    "document_intelligence_client = DocumentIntelligenceClient(\n",
    "    endpoint=azure_docintelligence_endpoint, \n",
    "    credential=AzureKeyCredential(azure_docintelligence_key),\n",
    "    # api_version=\"2024-11-30\" # v4.0 (default)\n",
    ")"
   ]
  },
  {
   "cell_type": "markdown",
   "metadata": {},
   "source": [
    "## Sample document"
   ]
  },
  {
   "cell_type": "code",
   "execution_count": 6,
   "metadata": {},
   "outputs": [],
   "source": [
    "# a lot of test files in different formats are available in this repo:\n",
    "# https://github.com/Azure-Samples/cognitive-services-REST-api-samples/tree/master/curl/form-recognizer"
   ]
  },
  {
   "cell_type": "code",
   "execution_count": 7,
   "metadata": {},
   "outputs": [],
   "source": [
    "# for an example of how to use a local file, see the Prebuilt-layout --> Key-value pairs section"
   ]
  },
  {
   "cell_type": "code",
   "execution_count": 5,
   "metadata": {
    "gather": {
     "logged": 1744293302740
    }
   },
   "outputs": [],
   "source": [
    "# get the document file from a URL\n",
    "formUrl = \"https://raw.githubusercontent.com/Azure-Samples/cognitive-services-REST-api-samples/master/curl/form-recognizer/sample-layout.pdf\""
   ]
  },
  {
   "cell_type": "code",
   "execution_count": 9,
   "metadata": {},
   "outputs": [],
   "source": [
    "#formUrl = \"https://raw.githubusercontent.com/Azure-Samples/cognitive-services-REST-api-samples/master/curl/form-recognizer/invoice-logic-apps-tutorial.pdf\""
   ]
  },
  {
   "cell_type": "code",
   "execution_count": 10,
   "metadata": {},
   "outputs": [],
   "source": [
    "#formUrl = \"https://raw.githubusercontent.com/Azure-Samples/cognitive-services-REST-api-samples/master/curl/form-recognizer/invoice_sample.jpg\""
   ]
  },
  {
   "cell_type": "markdown",
   "metadata": {},
   "source": [
    "## Analyze document"
   ]
  },
  {
   "cell_type": "markdown",
   "metadata": {},
   "source": [
    "### Prebuilt-read"
   ]
  },
  {
   "cell_type": "code",
   "execution_count": 6,
   "metadata": {
    "gather": {
     "logged": 1744293307452
    }
   },
   "outputs": [],
   "source": [
    "poller = document_intelligence_client.begin_analyze_document(\n",
    "    model_id=\"prebuilt-read\", body=AnalyzeDocumentRequest(url_source=formUrl\n",
    "))"
   ]
  },
  {
   "cell_type": "code",
   "execution_count": 7,
   "metadata": {
    "gather": {
     "logged": 1744293309033
    }
   },
   "outputs": [
    {
     "data": {
      "text/plain": [
       "<azure.ai.documentintelligence._operations._patch.AnalyzeDocumentLROPoller at 0x7f4a3f299570>"
      ]
     },
     "execution_count": 7,
     "metadata": {},
     "output_type": "execute_result"
    }
   ],
   "source": [
    "# An instance of AnalyzeDocumentLROPoller that returns AnalyzeResult. \n",
    "# (LRO = long-running operation)\n",
    "poller"
   ]
  },
  {
   "cell_type": "code",
   "execution_count": 8,
   "metadata": {
    "gather": {
     "logged": 1744293311060
    }
   },
   "outputs": [],
   "source": [
    "# The result() method is designed to retrieve the result of a long-running operation (LRO), \n",
    "# which is a common pattern in cloud services where certain tasks, such as analyzing data or deploying resources, take time to complete.\n",
    "# It abstracts the complexity of polling and waiting, handling the operation's result once it is available.\n",
    "\n",
    "# Returns: The deserialized resource of the long running operation, if one is available\n",
    "result: AnalyzeResult = poller.result(timeout=1000)"
   ]
  },
  {
   "cell_type": "code",
   "execution_count": 9,
   "metadata": {
    "gather": {
     "logged": 1744293315030
    }
   },
   "outputs": [
    {
     "name": "stdout",
     "output_type": "stream",
     "text": [
      "{'apiVersion': '2024-11-30', 'modelId': 'prebuilt-read', 'stringIndexType': 'textElements', 'content': 'UNITED STATES SECURITIES AND EXCHANGE COMMISSION Washington, D.C. 20549\\nFORM 10-Q\\n☒ QUARTERLY REPORT PURSUANT TO SECTION 13 OR 15(d) OF THE SECURITIES EXCHANGE ACT OF 1934\\nFor the Quarterly Period Ended March 31, 2020\\nOR\\n☐ TRANSITION REPORT PURSUANT TO SECTION 13 OR 15(d) OF THE SECURITIES EXCHANGE ACT OF 1934\\nFor the Transition Period From to Commission File Number 001-37845\\nMICROSOFT CORPORATION\\nWASHINGTON (STATE OF INCORPORATION) ONE MICROSOFT WAY, REDMOND, WASHINGTON 98052-6399 (425) 882-8080 www.microsoft.com/investor\\n91-1144442 (I.R.S. ID)\\nSecurities registered pursuant to Section 12(b) of the Act:\\nTitle of each class\\nTrading Symbol\\nName of exchange on which registered\\nCommon stock, $0.00000625 par value per share\\nMSFT\\nNASDAQ\\n2.125% Notes due 2021\\nMSFT\\nNASDAQ\\n3.125% Notes due 2028\\nMSFT\\nNASDAQ\\n2.625% Notes due 2033\\nMSFT\\nNASDAQ\\nSecurities registered pursuant to Section 12(g) of the Act:\\nNONE\\nIndicate by check mark whether the registrant (1) has filed all reports required to be filed by Section 13 or 15(d) of the Securities Exchange Act of 1934 during the preceding 12 months (or for such shorter period that the registrant was required to file such reports), and (2) has been subject to such filing requirements for the past 90 days. Yes No\\nIndicate by check mark whether the registrant has submitted electronically every Interactive Data File required to be submitted pursuant to Rule 405 of Regulation S-T (§232.405 of this chapter) during the preceding 12 months (or for such shorter period that the registrant was required to submit such files). Yes No\\nIndicate by check mark whether the registrant is a large accelerated filer, an accelerated filer, a non-accelerated filer, a smaller reporting company, or an emerging growth company. See the definitions of \"large accelerated filer,\" \"accelerated filer,\" \"smaller reporting company,\" and \"emerging growth company\" in Rule 12b-2 of the Exchange Act.\\nLarge accelerated filer\\nNon-accelerated filer\\nAccelerated filer Smaller reporting company Emerging growth company\\nIf an emerging growth company, indicate by check mark if the registrant has elected not to use the extended transition period for complying with any new or revised financial accounting standards provided pursuant to Section 13(a) of the Exchange Act.\\nIndicate by check mark whether the registrant is a shell company (as defined in Rule 12b-2 of the Exchange Act).\\nYes\\nNo\\nIndicate the number of shares outstanding of each of the issuer\\'s classes of common stock, as of the latest practicable date.\\nClass\\nOutstanding as of April 24, 2020\\nCommon Stock, $0.00000625 par value per share\\n7,583,440,247 shares', 'pages': [{'pageNumber': 1, 'angle': 0, 'width': 8.5, 'height': 11, 'unit': 'inch', 'words': [{'content': 'UNITED', 'polygon': [3.4723, 0.6638, 4.1923, 0.6666, 4.1921, 0.8429, 3.4693, 0.8451], 'confidence': 0.997, 'span': {'offset': 0, 'length': 6}}, {'content': 'STATES', 'polygon': [4.2596, 0.6667, 5.0284, 0.6661, 5.0284, 0.8451, 4.2597, 0.843], 'confidence': 0.998, 'span': {'offset': 7, 'length': 6}}, {'content': 'SECURITIES', 'polygon': [2.1751, 0.882, 3.3419, 0.8827, 3.3433, 1.0662, 2.1782, 1.0688], 'confidence': 0.993, 'span': {'offset': 14, 'length': 10}}, {'content': 'AND', 'polygon': [3.4027, 0.8827, 3.819, 0.8828, 3.8196, 1.0659, 3.4039, 1.0661], 'confidence': 0.999, 'span': {'offset': 25, 'length': 3}}, {'content': 'EXCHANGE', 'polygon': [3.8919, 0.8828, 4.9767, 0.8825, 4.9756, 1.0669, 3.8924, 1.0659], 'confidence': 0.993, 'span': {'offset': 29, 'length': 8}}, {'content': 'COMMISSION', 'polygon': [5.0465, 0.8825, 6.3225, 0.8814, 6.3225, 1.0694, 5.0454, 1.067], 'confidence': 0.993, 'span': {'offset': 38, 'length': 10}}, {'content': 'Washington,', 'polygon': [3.4474, 1.0939, 4.2872, 1.0957, 4.2856, 1.2491, 3.4474, 1.2483], 'confidence': 0.995, 'span': {'offset': 49, 'length': 11}}, {'content': 'D.C.', 'polygon': [4.3395, 1.0957, 4.6061, 1.0952, 4.6039, 1.246, 4.3378, 1.2488], 'confidence': 0.995, 'span': {'offset': 61, 'length': 4}}, {'content': '20549', 'polygon': [4.651, 1.0951, 5.0521, 1.0933, 5.0491, 1.2384, 4.6487, 1.2453], 'confidence': 0.998, 'span': {'offset': 66, 'length': 5}}, {'content': 'FORM', 'polygon': [3.7106, 1.3933, 4.2835, 1.395, 4.2772, 1.5851, 3.7021, 1.5824], 'confidence': 0.992, 'span': {'offset': 72, 'length': 4}}, {'content': '10-Q', 'polygon': [4.3586, 1.395, 4.7944, 1.3949, 4.7944, 1.5851, 4.3527, 1.5851], 'confidence': 0.992, 'span': {'offset': 77, 'length': 4}}, {'content': '☒', 'polygon': [0.6694, 1.7746, 0.7764, 1.7746, 0.7764, 1.8833, 0.6694, 1.8833], 'confidence': 1, 'span': {'offset': 82, 'length': 1}}, {'content': 'QUARTERLY', 'polygon': [0.9679, 1.7576, 1.8535, 1.7542, 1.8535, 1.9065, 0.9679, 1.9019], 'confidence': 0.994, 'span': {'offset': 84, 'length': 9}}, {'content': 'REPORT', 'polygon': [1.9035, 1.754, 2.4738, 1.7522, 2.4738, 1.9091, 1.9035, 1.9067], 'confidence': 0.996, 'span': {'offset': 94, 'length': 6}}, {'content': 'PURSUANT', 'polygon': [2.5263, 1.752, 3.2911, 1.7501, 3.2911, 1.9119, 2.5263, 1.9093], 'confidence': 0.992, 'span': {'offset': 101, 'length': 8}}, {'content': 'TO', 'polygon': [3.3358, 1.75, 3.525, 1.7496, 3.525, 1.9125, 3.3358, 1.912], 'confidence': 0.997, 'span': {'offset': 110, 'length': 2}}, {'content': 'SECTION', 'polygon': [3.5749, 1.7495, 4.1794, 1.7484, 4.1794, 1.9139, 3.5749, 1.9126], 'confidence': 0.994, 'span': {'offset': 113, 'length': 7}}, {'content': '13', 'polygon': [4.2425, 1.7484, 4.3844, 1.7482, 4.3844, 1.9141, 4.2425, 1.9139], 'confidence': 0.993, 'span': {'offset': 121, 'length': 2}}, {'content': 'OR', 'polygon': [4.4343, 1.7481, 4.6393, 1.7479, 4.6393, 1.9144, 4.4343, 1.9142], 'confidence': 0.998, 'span': {'offset': 124, 'length': 2}}, {'content': '15(d)', 'polygon': [4.6919, 1.7478, 5.0099, 1.7475, 5.0099, 1.9145, 4.6919, 1.9145], 'confidence': 0.994, 'span': {'offset': 127, 'length': 5}}, {'content': 'OF', 'polygon': [5.0625, 1.7475, 5.249, 1.7475, 5.249, 1.9145, 5.0625, 1.9145], 'confidence': 0.99, 'span': {'offset': 133, 'length': 2}}, {'content': 'THE', 'polygon': [5.2964, 1.7475, 5.5697, 1.7474, 5.5697, 1.9145, 5.2964, 1.9145], 'confidence': 0.998, 'span': {'offset': 136, 'length': 3}}, {'content': 'SECURITIES', 'polygon': [5.6222, 1.7474, 6.4475, 1.7477, 6.4475, 1.9138, 5.6222, 1.9145], 'confidence': 0.993, 'span': {'offset': 140, 'length': 10}}, {'content': 'EXCHANGE', 'polygon': [6.5027, 1.7477, 7.2779, 1.7486, 7.2779, 1.9119, 6.5027, 1.9137], 'confidence': 0.994, 'span': {'offset': 151, 'length': 8}}, {'content': 'ACT', 'polygon': [7.3252, 1.7486, 7.6117, 1.7491, 7.6117, 1.911, 7.3252, 1.9118], 'confidence': 0.997, 'span': {'offset': 160, 'length': 3}}, {'content': 'OF', 'polygon': [7.6616, 1.7492, 7.8697, 1.7495, 7.8697, 1.9102, 7.6616, 1.9108], 'confidence': 0.998, 'span': {'offset': 164, 'length': 2}}, {'content': '1934', 'polygon': [0.9837, 1.9288, 1.3132, 1.9288, 1.3132, 2.0673, 0.9837, 2.0673], 'confidence': 0.988, 'span': {'offset': 167, 'length': 4}}, {'content': 'For', 'polygon': [0.9798, 2.142, 1.1534, 2.1403, 1.1504, 2.2726, 0.9768, 2.2711], 'confidence': 0.992, 'span': {'offset': 172, 'length': 3}}, {'content': 'the', 'polygon': [1.1808, 2.14, 1.3635, 2.1383, 1.3605, 2.2745, 1.1778, 2.2729], 'confidence': 0.998, 'span': {'offset': 176, 'length': 3}}, {'content': 'Quarterly', 'polygon': [1.3978, 2.138, 1.8888, 2.1349, 1.8858, 2.2771, 1.3947, 2.2747], 'confidence': 0.995, 'span': {'offset': 180, 'length': 9}}, {'content': 'Period', 'polygon': [1.9276, 2.1347, 2.2634, 2.1337, 2.2603, 2.2773, 1.9246, 2.2773], 'confidence': 0.997, 'span': {'offset': 190, 'length': 6}}, {'content': 'Ended', 'polygon': [2.3022, 2.1336, 2.6242, 2.1334, 2.6212, 2.2773, 2.2992, 2.2773], 'confidence': 0.997, 'span': {'offset': 197, 'length': 5}}, {'content': 'March', 'polygon': [2.6516, 2.1334, 2.9919, 2.1341, 2.9889, 2.276, 2.6486, 2.2773], 'confidence': 0.997, 'span': {'offset': 203, 'length': 5}}, {'content': '31,', 'polygon': [3.0285, 2.1342, 3.1769, 2.1348, 3.1739, 2.2749, 3.0254, 2.2758], 'confidence': 0.993, 'span': {'offset': 209, 'length': 3}}, {'content': '2020', 'polygon': [3.2135, 2.135, 3.4716, 2.1363, 3.4708, 2.2727, 3.2104, 2.2746], 'confidence': 0.989, 'span': {'offset': 213, 'length': 4}}, {'content': 'OR', 'polygon': [4.1163, 2.2582, 4.3455, 2.2583, 4.3455, 2.4254, 4.1163, 2.4228], 'confidence': 0.992, 'span': {'offset': 218, 'length': 2}}, {'content': '☐', 'polygon': [0.6694, 2.6955, 0.777, 2.6955, 0.777, 2.8042, 0.6694, 2.8042], 'confidence': 1, 'span': {'offset': 221, 'length': 1}}, {'content': 'TRANSITION', 'polygon': [0.9749, 2.6792, 1.8288, 2.6757, 1.8292, 2.8293, 0.9749, 2.824], 'confidence': 0.992, 'span': {'offset': 223, 'length': 10}}, {'content': 'REPORT', 'polygon': [1.8898, 2.6755, 2.4599, 2.6737, 2.4605, 2.8326, 1.8902, 2.8297], 'confidence': 0.995, 'span': {'offset': 234, 'length': 6}}, {'content': 'PURSUANT', 'polygon': [2.5129, 2.6735, 3.2766, 2.6715, 3.2777, 2.8359, 2.5136, 2.8328], 'confidence': 0.995, 'span': {'offset': 241, 'length': 8}}, {'content': 'TO', 'polygon': [3.3217, 2.6715, 3.51, 2.6711, 3.5111, 2.8365, 3.3228, 2.836], 'confidence': 0.996, 'span': {'offset': 250, 'length': 2}}, {'content': 'SECTION', 'polygon': [3.5657, 2.671, 4.1703, 2.67, 4.1717, 2.8381, 3.5668, 2.8367], 'confidence': 0.992, 'span': {'offset': 253, 'length': 7}}, {'content': '13', 'polygon': [4.2313, 2.67, 4.3745, 2.6698, 4.376, 2.8384, 4.2327, 2.8382], 'confidence': 0.994, 'span': {'offset': 261, 'length': 2}}, {'content': 'OR', 'polygon': [4.4275, 2.6698, 4.629, 2.6696, 4.6306, 2.8387, 4.429, 2.8384], 'confidence': 0.998, 'span': {'offset': 264, 'length': 2}}, {'content': '15(d)', 'polygon': [4.6847, 2.6696, 5.0029, 2.6694, 5.0047, 2.839, 4.6864, 2.8388], 'confidence': 0.989, 'span': {'offset': 267, 'length': 5}}, {'content': 'OF', 'polygon': [5.056, 2.6694, 5.2416, 2.6694, 5.2435, 2.8389, 5.0578, 2.839], 'confidence': 0.995, 'span': {'offset': 273, 'length': 2}}, {'content': 'THE', 'polygon': [5.292, 2.6694, 5.5651, 2.6695, 5.5671, 2.8388, 5.2939, 2.8389], 'confidence': 0.996, 'span': {'offset': 276, 'length': 3}}, {'content': 'SECURITIES', 'polygon': [5.6181, 2.6695, 6.4428, 2.6702, 6.4453, 2.8375, 5.6202, 2.8388], 'confidence': 0.992, 'span': {'offset': 280, 'length': 10}}, {'content': 'EXCHANGE', 'polygon': [6.4985, 2.6702, 7.2755, 2.6716, 7.2783, 2.835, 6.501, 2.8373], 'confidence': 0.992, 'span': {'offset': 291, 'length': 8}}, {'content': 'ACT', 'polygon': [7.3206, 2.6717, 7.6096, 2.6724, 7.6125, 2.8337, 7.3234, 2.8348], 'confidence': 0.996, 'span': {'offset': 300, 'length': 3}}, {'content': 'OF', 'polygon': [7.66, 2.6725, 7.8695, 2.673, 7.8697, 2.8328, 7.663, 2.8335], 'confidence': 0.999, 'span': {'offset': 304, 'length': 2}}, {'content': '1934', 'polygon': [0.9789, 2.8503, 1.318, 2.855, 1.318, 2.9935, 0.9789, 2.9886], 'confidence': 0.989, 'span': {'offset': 307, 'length': 4}}, {'content': 'For', 'polygon': [0.9739, 3.0631, 1.1548, 3.0622, 1.1541, 3.1927, 0.9738, 3.192], 'confidence': 0.997, 'span': {'offset': 312, 'length': 3}}, {'content': 'the', 'polygon': [1.1806, 3.062, 1.3615, 3.0614, 1.3601, 3.1934, 1.1799, 3.1928], 'confidence': 0.999, 'span': {'offset': 316, 'length': 3}}, {'content': 'Transition', 'polygon': [1.3938, 3.0613, 1.9301, 3.061, 1.9266, 3.194, 1.3923, 3.1935], 'confidence': 0.995, 'span': {'offset': 320, 'length': 10}}, {'content': 'Period', 'polygon': [1.9667, 3.0611, 2.3048, 3.0624, 2.2999, 3.1938, 1.963, 3.194], 'confidence': 0.997, 'span': {'offset': 331, 'length': 6}}, {'content': 'From', 'polygon': [2.3457, 3.0626, 2.636, 3.0644, 2.6304, 3.1929, 2.3407, 3.1937], 'confidence': 0.992, 'span': {'offset': 338, 'length': 4}}, {'content': 'to', 'polygon': [3.1612, 3.0794, 3.2695, 3.0794, 3.2695, 3.1749, 3.1612, 3.1749], 'confidence': 0.995, 'span': {'offset': 343, 'length': 2}}, {'content': 'Commission', 'polygon': [3.2317, 3.2506, 3.9387, 3.2416, 3.9387, 3.385, 3.2317, 3.3789], 'confidence': 0.994, 'span': {'offset': 346, 'length': 10}}, {'content': 'File', 'polygon': [3.9845, 3.2412, 4.1652, 3.2399, 4.1652, 3.385, 3.9845, 3.385], 'confidence': 0.993, 'span': {'offset': 357, 'length': 4}}, {'content': 'Number', 'polygon': [4.1927, 3.2398, 4.6641, 3.2388, 4.6641, 3.3835, 4.1927, 3.385], 'confidence': 0.992, 'span': {'offset': 362, 'length': 6}}, {'content': '001-37845', 'polygon': [4.6961, 3.2388, 5.2815, 3.2417, 5.2815, 3.3752, 4.6961, 3.3832], 'confidence': 0.992, 'span': {'offset': 369, 'length': 9}}, {'content': 'MICROSOFT', 'polygon': [2.5246, 3.5523, 4.0245, 3.5463, 4.0215, 3.766, 2.5215, 3.7638], 'confidence': 0.994, 'span': {'offset': 379, 'length': 9}}, {'content': 'CORPORATION', 'polygon': [4.1057, 3.5462, 5.9787, 3.5513, 5.9787, 3.7587, 4.1027, 3.7659], 'confidence': 0.992, 'span': {'offset': 389, 'length': 11}}, {'content': 'WASHINGTON', 'polygon': [1.9854, 3.9384, 2.827, 3.9413, 2.8262, 4.0668, 1.9824, 4.0677], 'confidence': 0.996, 'span': {'offset': 401, 'length': 10}}, {'content': '(STATE', 'polygon': [1.6959, 4.0831, 2.0571, 4.0808, 2.0571, 4.2049, 1.6959, 4.2105], 'confidence': 0.995, 'span': {'offset': 412, 'length': 6}}, {'content': 'OF', 'polygon': [2.0872, 4.0807, 2.2096, 4.0804, 2.2096, 4.2033, 2.0872, 4.2045], 'confidence': 0.997, 'span': {'offset': 419, 'length': 2}}, {'content': 'INCORPORATION)', 'polygon': [2.2337, 4.0804, 3.123, 4.0849, 3.123, 4.2045, 2.2337, 4.2031], 'confidence': 0.989, 'span': {'offset': 422, 'length': 14}}, {'content': 'ONE', 'polygon': [2.5766, 4.2641, 2.8148, 4.2614, 2.8118, 4.3814, 2.5735, 4.3786], 'confidence': 0.998, 'span': {'offset': 437, 'length': 3}}, {'content': 'MICROSOFT', 'polygon': [2.8427, 4.2611, 3.5252, 4.2547, 3.5222, 4.3883, 2.8397, 4.3818], 'confidence': 0.989, 'span': {'offset': 441, 'length': 9}}, {'content': 'WAY,', 'polygon': [3.5552, 4.2545, 3.8428, 4.253, 3.8398, 4.3899, 3.5522, 4.3886], 'confidence': 0.989, 'span': {'offset': 451, 'length': 4}}, {'content': 'REDMOND,', 'polygon': [3.8815, 4.2528, 4.4781, 4.2512, 4.4751, 4.3911, 3.8784, 4.3901], 'confidence': 0.993, 'span': {'offset': 456, 'length': 8}}, {'content': 'WASHINGTON', 'polygon': [4.5125, 4.2512, 5.2809, 4.2529, 5.2778, 4.3875, 4.5094, 4.391], 'confidence': 0.992, 'span': {'offset': 465, 'length': 10}}, {'content': '98052-6399', 'polygon': [5.3173, 4.2531, 5.9247, 4.257, 5.9217, 4.3813, 5.3143, 4.3873], 'confidence': 0.993, 'span': {'offset': 476, 'length': 10}}, {'content': '(425)', 'polygon': [3.8548, 4.3926, 4.1233, 4.3893, 4.1212, 4.5186, 3.8548, 4.526], 'confidence': 0.995, 'span': {'offset': 487, 'length': 5}}, {'content': '882-8080', 'polygon': [4.1595, 4.3889, 4.6416, 4.3864, 4.6413, 4.5161, 4.1571, 4.5179], 'confidence': 0.994, 'span': {'offset': 493, 'length': 8}}, {'content': 'www.microsoft.com/investor', 'polygon': [3.4753, 4.5371, 5.0188, 4.524, 5.0188, 4.6433, 3.4753, 4.64], 'confidence': 0.99, 'span': {'offset': 502, 'length': 26}}, {'content': '91-1144442', 'polygon': [5.7551, 3.9426, 6.4132, 3.9457, 6.4132, 4.0692, 5.7551, 4.0703], 'confidence': 0.995, 'span': {'offset': 529, 'length': 10}}, {'content': '(I.R.S.', 'polygon': [5.863, 4.0834, 6.1358, 4.0877, 6.1327, 4.2033, 5.8599, 4.2007], 'confidence': 0.924, 'span': {'offset': 540, 'length': 7}}, {'content': 'ID)', 'polygon': [6.1585, 4.0881, 6.3225, 4.0905, 6.3222, 4.2036, 6.1555, 4.2033], 'confidence': 0.992, 'span': {'offset': 548, 'length': 3}}, {'content': 'Securities', 'polygon': [0.6164, 4.7245, 1.1338, 4.7235, 1.1308, 4.8575, 0.6133, 4.8551], 'confidence': 0.993, 'span': {'offset': 552, 'length': 10}}, {'content': 'registered', 'polygon': [1.1606, 4.7234, 1.7003, 4.7223, 1.6973, 4.8589, 1.1575, 4.8576], 'confidence': 0.992, 'span': {'offset': 563, 'length': 10}}, {'content': 'pursuant', 'polygon': [1.7404, 4.7223, 2.1999, 4.7212, 2.1968, 4.8591, 1.7374, 4.859], 'confidence': 0.995, 'span': {'offset': 574, 'length': 8}}, {'content': 'to', 'polygon': [2.2289, 4.7212, 2.327, 4.7209, 2.324, 4.8591, 2.2258, 4.8591], 'confidence': 0.997, 'span': {'offset': 583, 'length': 2}}, {'content': 'Section', 'polygon': [2.3627, 4.7208, 2.753, 4.7199, 2.75, 4.8582, 2.3597, 4.859], 'confidence': 0.995, 'span': {'offset': 586, 'length': 7}}, {'content': '12(b)', 'polygon': [2.7976, 4.7198, 3.063, 4.7191, 3.06, 4.8571, 2.7946, 4.8581], 'confidence': 0.992, 'span': {'offset': 594, 'length': 5}}, {'content': 'of', 'polygon': [3.0987, 4.719, 3.1991, 4.7187, 3.196, 4.8566, 3.0957, 4.8569], 'confidence': 0.997, 'span': {'offset': 600, 'length': 2}}, {'content': 'the', 'polygon': [3.2258, 4.7187, 3.3886, 4.7182, 3.3856, 4.8555, 3.2228, 4.8564], 'confidence': 0.998, 'span': {'offset': 603, 'length': 3}}, {'content': 'Act:', 'polygon': [3.4221, 4.7181, 3.634, 4.7175, 3.634, 4.8541, 3.4191, 4.8553], 'confidence': 0.99, 'span': {'offset': 607, 'length': 4}}, {'content': 'Title', 'polygon': [0.6164, 4.9515, 0.8495, 4.9529, 0.8472, 5.0764, 0.6133, 5.0821], 'confidence': 0.996, 'span': {'offset': 612, 'length': 5}}, {'content': 'of', 'polygon': [0.8874, 4.9532, 0.989, 4.9538, 0.9872, 5.0743, 0.8852, 5.0757], 'confidence': 0.997, 'span': {'offset': 618, 'length': 2}}, {'content': 'each', 'polygon': [1.0169, 4.954, 1.266, 4.9555, 1.265, 5.0731, 1.0151, 5.074], 'confidence': 0.992, 'span': {'offset': 621, 'length': 4}}, {'content': 'class', 'polygon': [1.3059, 4.9558, 1.5806, 4.9575, 1.5806, 5.0769, 1.305, 5.0734], 'confidence': 0.996, 'span': {'offset': 626, 'length': 5}}, {'content': 'Trading', 'polygon': [4.3321, 4.9525, 4.7389, 4.9516, 4.7344, 5.0894, 4.3291, 5.0846], 'confidence': 0.998, 'span': {'offset': 632, 'length': 7}}, {'content': 'Symbol', 'polygon': [4.7792, 4.9517, 5.186, 4.954, 5.1844, 5.0868, 4.7745, 5.0894], 'confidence': 0.996, 'span': {'offset': 640, 'length': 6}}, {'content': 'Name', 'polygon': [5.5714, 4.9501, 5.8938, 4.9517, 5.8933, 5.0838, 5.5713, 5.0796], 'confidence': 0.992, 'span': {'offset': 647, 'length': 4}}, {'content': 'of', 'polygon': [5.9308, 4.9519, 6.0353, 4.9523, 6.0347, 5.0851, 5.9303, 5.0841], 'confidence': 0.997, 'span': {'offset': 652, 'length': 2}}, {'content': 'exchange', 'polygon': [6.0615, 4.9524, 6.5712, 4.9536, 6.5698, 5.0882, 6.0608, 5.0854], 'confidence': 0.995, 'span': {'offset': 655, 'length': 8}}, {'content': 'on', 'polygon': [6.6061, 4.9537, 6.7346, 4.9538, 6.7329, 5.0886, 6.6046, 5.0883], 'confidence': 0.999, 'span': {'offset': 664, 'length': 2}}, {'content': 'which', 'polygon': [6.7695, 4.9538, 7.0679, 4.9537, 7.0657, 5.0879, 6.7677, 5.0886], 'confidence': 0.998, 'span': {'offset': 667, 'length': 5}}, {'content': 'registered', 'polygon': [7.1093, 4.9536, 7.6404, 4.9522, 7.6404, 5.0836, 7.107, 5.0877], 'confidence': 0.995, 'span': {'offset': 673, 'length': 10}}, {'content': 'Common', 'polygon': [0.6223, 5.1557, 1.1345, 5.1549, 1.1315, 5.2881, 0.6193, 5.284], 'confidence': 0.996, 'span': {'offset': 684, 'length': 6}}, {'content': 'stock,', 'polygon': [1.1748, 5.1549, 1.508, 5.1547, 1.505, 5.2906, 1.1717, 5.2884], 'confidence': 0.995, 'span': {'offset': 691, 'length': 6}}, {'content': '$0.00000625', 'polygon': [1.5483, 5.1547, 2.2349, 5.1552, 2.2319, 5.2945, 1.5452, 5.2909], 'confidence': 0.992, 'span': {'offset': 698, 'length': 11}}, {'content': 'par', 'polygon': [2.2729, 5.1553, 2.4563, 5.1557, 2.4533, 5.2953, 2.2699, 5.2946], 'confidence': 0.999, 'span': {'offset': 710, 'length': 3}}, {'content': 'value', 'polygon': [2.4832, 5.1557, 2.7851, 5.1565, 2.7821, 5.2963, 2.4801, 5.2954], 'confidence': 0.997, 'span': {'offset': 714, 'length': 5}}, {'content': 'per', 'polygon': [2.8254, 5.1566, 3.0065, 5.1571, 3.0035, 5.2969, 2.8223, 5.2965], 'confidence': 0.999, 'span': {'offset': 720, 'length': 3}}, {'content': 'share', 'polygon': [3.0379, 5.1572, 3.3666, 5.1584, 3.3658, 5.2975, 3.0348, 5.2969], 'confidence': 0.997, 'span': {'offset': 724, 'length': 5}}, {'content': 'MSFT', 'polygon': [4.5795, 5.1515, 4.9217, 5.1515, 4.9217, 5.2708, 4.5795, 5.2708], 'confidence': 0.991, 'span': {'offset': 730, 'length': 4}}, {'content': 'NASDAQ', 'polygon': [6.3493, 5.1604, 6.8716, 5.1537, 6.8716, 5.2762, 6.3462, 5.2745], 'confidence': 0.996, 'span': {'offset': 735, 'length': 6}}, {'content': '2.125%', 'polygon': [0.6134, 5.3141, 1.0274, 5.3169, 1.0254, 5.4385, 0.6103, 5.4395], 'confidence': 0.993, 'span': {'offset': 742, 'length': 6}}, {'content': 'Notes', 'polygon': [1.0666, 5.317, 1.3859, 5.3162, 1.3847, 5.4396, 1.0646, 5.4386], 'confidence': 0.995, 'span': {'offset': 749, 'length': 5}}, {'content': 'due', 'polygon': [1.4251, 5.3159, 1.629, 5.314, 1.6283, 5.4414, 1.4239, 5.4399], 'confidence': 0.995, 'span': {'offset': 755, 'length': 3}}, {'content': '2021', 'polygon': [1.664, 5.3136, 1.934, 5.3096, 1.934, 5.4427, 1.6634, 5.4417], 'confidence': 0.99, 'span': {'offset': 759, 'length': 4}}, {'content': 'MSFT', 'polygon': [4.5827, 5.309, 4.9249, 5.309, 4.9241, 5.4283, 4.5818, 5.426], 'confidence': 0.989, 'span': {'offset': 764, 'length': 4}}, {'content': 'NASDAQ', 'polygon': [6.3289, 5.2934, 6.8812, 5.2966, 6.8802, 5.4562, 6.3246, 5.457], 'confidence': 0.994, 'span': {'offset': 769, 'length': 6}}, {'content': '3.125%', 'polygon': [0.6174, 5.474, 1.0257, 5.4765, 1.0257, 5.6003, 0.6174, 5.6098], 'confidence': 0.996, 'span': {'offset': 776, 'length': 6}}, {'content': 'Notes', 'polygon': [1.0673, 5.4766, 1.384, 5.4767, 1.384, 5.5982, 1.0673, 5.5999], 'confidence': 0.995, 'span': {'offset': 783, 'length': 5}}, {'content': 'due', 'polygon': [1.4256, 5.4765, 1.6298, 5.4756, 1.6298, 5.6004, 1.4256, 5.5985], 'confidence': 0.997, 'span': {'offset': 789, 'length': 3}}, {'content': '2028', 'polygon': [1.6652, 5.4753, 1.9388, 5.4731, 1.9388, 5.6068, 1.6652, 5.6009], 'confidence': 0.989, 'span': {'offset': 793, 'length': 4}}, {'content': 'MSFT', 'polygon': [4.5827, 5.4714, 4.9249, 5.4714, 4.9249, 5.5907, 4.5827, 5.5907], 'confidence': 0.992, 'span': {'offset': 798, 'length': 4}}, {'content': 'NASDAQ', 'polygon': [6.3433, 5.4757, 6.8716, 5.4725, 6.8705, 5.6003, 6.3402, 5.5941], 'confidence': 0.995, 'span': {'offset': 803, 'length': 6}}, {'content': '2.625%', 'polygon': [0.6104, 5.634, 1.0277, 5.6393, 1.0256, 5.7592, 0.6074, 5.7616], 'confidence': 0.994, 'span': {'offset': 810, 'length': 6}}, {'content': 'Notes', 'polygon': [1.0678, 5.6395, 1.3848, 5.6396, 1.3836, 5.7585, 1.0658, 5.7591], 'confidence': 0.996, 'span': {'offset': 817, 'length': 5}}, {'content': 'due', 'polygon': [1.4249, 5.6394, 1.6296, 5.6375, 1.6289, 5.7587, 1.4238, 5.7585], 'confidence': 0.998, 'span': {'offset': 823, 'length': 3}}, {'content': '2033', 'polygon': [1.6657, 5.637, 1.9388, 5.6325, 1.9388, 5.7598, 1.6651, 5.7588], 'confidence': 0.991, 'span': {'offset': 827, 'length': 4}}, {'content': 'MSFT', 'polygon': [4.5821, 5.6289, 4.9214, 5.6289, 4.9223, 5.7506, 4.5829, 5.753], 'confidence': 0.99, 'span': {'offset': 832, 'length': 4}}, {'content': 'NASDAQ', 'polygon': [6.3413, 5.6337, 6.8764, 5.6315, 6.8764, 5.7551, 6.3413, 5.7554], 'confidence': 0.995, 'span': {'offset': 837, 'length': 6}}, {'content': 'Securities', 'polygon': [0.6193, 5.8368, 1.1365, 5.835, 1.134, 5.9632, 0.6163, 5.9615], 'confidence': 0.993, 'span': {'offset': 844, 'length': 10}}, {'content': 'registered', 'polygon': [1.1628, 5.8349, 1.6998, 5.8331, 1.6978, 5.9648, 1.1604, 5.9633], 'confidence': 0.992, 'span': {'offset': 855, 'length': 10}}, {'content': 'pursuant', 'polygon': [1.7414, 5.8329, 2.1994, 5.8314, 2.198, 5.966, 1.7395, 5.9649], 'confidence': 0.994, 'span': {'offset': 866, 'length': 8}}, {'content': 'to', 'polygon': [2.2279, 5.8313, 2.3265, 5.831, 2.3252, 5.9662, 2.2265, 5.966], 'confidence': 0.998, 'span': {'offset': 875, 'length': 2}}, {'content': 'Section', 'polygon': [2.3638, 5.8308, 2.7517, 5.8296, 2.7508, 5.967, 2.3625, 5.9664], 'confidence': 0.995, 'span': {'offset': 878, 'length': 7}}, {'content': '12(g)', 'polygon': [2.7955, 5.8295, 3.0607, 5.8286, 3.0601, 5.9675, 2.7947, 5.9671], 'confidence': 0.993, 'span': {'offset': 886, 'length': 5}}, {'content': 'of', 'polygon': [3.0958, 5.8285, 3.1988, 5.8282, 3.1983, 5.9677, 3.0952, 5.9675], 'confidence': 0.998, 'span': {'offset': 892, 'length': 2}}, {'content': 'the', 'polygon': [3.2251, 5.8281, 3.3872, 5.8276, 3.387, 5.9679, 3.2247, 5.9677], 'confidence': 0.998, 'span': {'offset': 895, 'length': 3}}, {'content': 'Act:', 'polygon': [3.4201, 5.8275, 3.634, 5.8269, 3.634, 5.9679, 3.4199, 5.9679], 'confidence': 0.989, 'span': {'offset': 899, 'length': 4}}, {'content': 'NONE', 'polygon': [0.6193, 6.061, 0.9789, 6.0597, 0.9789, 6.1767, 0.6193, 6.1746], 'confidence': 0.99, 'span': {'offset': 904, 'length': 4}}, {'content': 'Indicate', 'polygon': [0.6383, 6.2519, 1.0472, 6.251, 1.0442, 6.3842, 0.6353, 6.3836], 'confidence': 0.992, 'span': {'offset': 909, 'length': 8}}, {'content': 'by', 'polygon': [1.0745, 6.2509, 1.2198, 6.2506, 1.2168, 6.3845, 1.0714, 6.3842], 'confidence': 0.992, 'span': {'offset': 918, 'length': 2}}, {'content': 'check', 'polygon': [1.2539, 6.2505, 1.5469, 6.2499, 1.5439, 6.385, 1.2509, 6.3845], 'confidence': 0.996, 'span': {'offset': 921, 'length': 5}}, {'content': 'mark', 'polygon': [1.5742, 6.2498, 1.8377, 6.2493, 1.8347, 6.3854, 1.5712, 6.385], 'confidence': 0.992, 'span': {'offset': 927, 'length': 4}}, {'content': 'whether', 'polygon': [1.865, 6.2493, 2.292, 6.2485, 2.289, 6.3859, 1.8619, 6.3854], 'confidence': 0.992, 'span': {'offset': 932, 'length': 7}}, {'content': 'the', 'polygon': [2.3193, 6.2485, 2.4987, 6.2482, 2.4957, 6.3861, 2.3162, 6.3859], 'confidence': 0.998, 'span': {'offset': 940, 'length': 3}}, {'content': 'registrant', 'polygon': [2.5373, 6.2481, 3.028, 6.2475, 3.025, 6.3866, 2.5343, 6.3861], 'confidence': 0.992, 'span': {'offset': 944, 'length': 10}}, {'content': '(1)', 'polygon': [3.0598, 6.2474, 3.2006, 6.2473, 3.1976, 6.3867, 3.0568, 6.3866], 'confidence': 0.977, 'span': {'offset': 955, 'length': 3}}, {'content': 'has', 'polygon': [3.237, 6.2472, 3.421, 6.247, 3.4179, 6.3869, 3.2339, 6.3867], 'confidence': 0.997, 'span': {'offset': 959, 'length': 3}}, {'content': 'filed', 'polygon': [3.4551, 6.247, 3.6686, 6.2467, 3.6655, 6.3871, 3.452, 6.3869], 'confidence': 0.995, 'span': {'offset': 963, 'length': 5}}, {'content': 'all', 'polygon': [3.7049, 6.2467, 3.8185, 6.2466, 3.8155, 6.3871, 3.7019, 6.3871], 'confidence': 0.995, 'span': {'offset': 969, 'length': 3}}, {'content': 'reports', 'polygon': [3.8571, 6.2466, 4.2183, 6.2464, 4.2153, 6.3873, 3.8541, 6.3872], 'confidence': 0.993, 'span': {'offset': 973, 'length': 7}}, {'content': 'required', 'polygon': [4.2569, 6.2463, 4.6817, 6.2461, 4.6787, 6.3874, 4.2539, 6.3873], 'confidence': 0.992, 'span': {'offset': 981, 'length': 8}}, {'content': 'to', 'polygon': [4.718, 6.246, 4.8135, 6.246, 4.8104, 6.3875, 4.715, 6.3875], 'confidence': 0.998, 'span': {'offset': 990, 'length': 2}}, {'content': 'be', 'polygon': [4.8498, 6.246, 4.977, 6.246, 4.974, 6.3875, 4.8468, 6.3875], 'confidence': 0.996, 'span': {'offset': 993, 'length': 2}}, {'content': 'filed', 'polygon': [5.0088, 6.246, 5.2223, 6.246, 5.2193, 6.3875, 5.0058, 6.3875], 'confidence': 0.995, 'span': {'offset': 996, 'length': 5}}, {'content': 'by', 'polygon': [5.2632, 6.246, 5.3836, 6.246, 5.3806, 6.3875, 5.2602, 6.3875], 'confidence': 0.997, 'span': {'offset': 1002, 'length': 2}}, {'content': 'Section', 'polygon': [5.42, 6.246, 5.8039, 6.2459, 5.8008, 6.3874, 5.4169, 6.3875], 'confidence': 0.995, 'span': {'offset': 1005, 'length': 7}}, {'content': '13', 'polygon': [5.8516, 6.246, 5.9697, 6.246, 5.9666, 6.3874, 5.8485, 6.3874], 'confidence': 0.995, 'span': {'offset': 1013, 'length': 2}}, {'content': 'or', 'polygon': [6.006, 6.246, 6.1128, 6.2461, 6.1098, 6.3873, 6.003, 6.3873], 'confidence': 0.995, 'span': {'offset': 1016, 'length': 2}}, {'content': '15(d)', 'polygon': [6.1491, 6.2461, 6.4149, 6.2462, 6.4119, 6.3872, 6.1461, 6.3873], 'confidence': 0.977, 'span': {'offset': 1019, 'length': 5}}, {'content': 'of', 'polygon': [6.449, 6.2462, 6.5512, 6.2463, 6.5482, 6.3871, 6.4459, 6.3872], 'confidence': 0.997, 'span': {'offset': 1025, 'length': 2}}, {'content': 'the', 'polygon': [6.5785, 6.2463, 6.7397, 6.2464, 6.7367, 6.387, 6.5754, 6.3871], 'confidence': 0.993, 'span': {'offset': 1028, 'length': 3}}, {'content': 'Securities', 'polygon': [6.7784, 6.2464, 7.2917, 6.2469, 7.2887, 6.3866, 6.7753, 6.387], 'confidence': 0.992, 'span': {'offset': 1032, 'length': 10}}, {'content': 'Exchange', 'polygon': [7.3326, 6.2469, 7.8601, 6.2474, 7.8601, 6.3861, 7.3296, 6.3866], 'confidence': 0.995, 'span': {'offset': 1043, 'length': 8}}, {'content': 'Act', 'polygon': [0.6424, 6.3838, 0.8235, 6.3843, 0.8204, 6.5227, 0.6393, 6.5227], 'confidence': 0.998, 'span': {'offset': 1052, 'length': 3}}, {'content': 'of', 'polygon': [0.861, 6.3844, 0.9648, 6.3847, 0.9618, 6.5227, 0.858, 6.5227], 'confidence': 0.996, 'span': {'offset': 1056, 'length': 2}}, {'content': '1934', 'polygon': [1.0068, 6.3848, 1.2564, 6.3855, 1.2533, 6.5227, 1.0038, 6.5227], 'confidence': 0.992, 'span': {'offset': 1059, 'length': 4}}, {'content': 'during', 'polygon': [1.3006, 6.3856, 1.623, 6.3866, 1.62, 6.5226, 1.2975, 6.5227], 'confidence': 0.994, 'span': {'offset': 1064, 'length': 6}}, {'content': 'the', 'polygon': [1.665, 6.3867, 1.8284, 6.387, 1.8254, 6.5226, 1.662, 6.5226], 'confidence': 0.999, 'span': {'offset': 1071, 'length': 3}}, {'content': 'preceding', 'polygon': [1.8748, 6.3871, 2.385, 6.3882, 2.382, 6.5226, 1.8718, 6.5226], 'confidence': 0.992, 'span': {'offset': 1075, 'length': 9}}, {'content': '12', 'polygon': [2.438, 6.3883, 2.5573, 6.3885, 2.5543, 6.5227, 2.435, 6.5227], 'confidence': 0.991, 'span': {'offset': 1085, 'length': 2}}, {'content': 'months', 'polygon': [2.6037, 6.3886, 2.9858, 6.3892, 2.9828, 6.5227, 2.6007, 6.5227], 'confidence': 0.995, 'span': {'offset': 1088, 'length': 6}}, {'content': '(or', 'polygon': [3.03, 6.3893, 3.1735, 6.3895, 3.1705, 6.5227, 3.0269, 6.5227], 'confidence': 0.984, 'span': {'offset': 1095, 'length': 3}}, {'content': 'for', 'polygon': [3.2089, 6.3895, 3.3502, 6.3897, 3.3472, 6.5228, 3.2059, 6.5227], 'confidence': 0.998, 'span': {'offset': 1099, 'length': 3}}, {'content': 'such', 'polygon': [3.39, 6.3897, 3.633, 6.3901, 3.6299, 6.5228, 3.387, 6.5228], 'confidence': 0.992, 'span': {'offset': 1103, 'length': 4}}, {'content': 'shorter', 'polygon': [3.6793, 6.3901, 4.046, 6.3904, 4.043, 6.5229, 3.6763, 6.5228], 'confidence': 0.993, 'span': {'offset': 1108, 'length': 7}}, {'content': 'period', 'polygon': [4.088, 6.3904, 4.4082, 6.3906, 4.4052, 6.523, 4.0849, 6.5229], 'confidence': 0.994, 'span': {'offset': 1116, 'length': 6}}, {'content': 'that', 'polygon': [4.4502, 6.3906, 4.6512, 6.3907, 4.6481, 6.5231, 4.4472, 6.523], 'confidence': 0.992, 'span': {'offset': 1123, 'length': 4}}, {'content': 'the', 'polygon': [4.6865, 6.3908, 4.85, 6.3908, 4.8469, 6.5231, 4.6835, 6.5231], 'confidence': 0.996, 'span': {'offset': 1128, 'length': 3}}, {'content': 'registrant', 'polygon': [4.8964, 6.3908, 5.3867, 6.3907, 5.3837, 6.5233, 4.8933, 6.5232], 'confidence': 0.992, 'span': {'offset': 1132, 'length': 10}}, {'content': 'was', 'polygon': [5.422, 6.3907, 5.6319, 6.3906, 5.6288, 6.5234, 5.419, 6.5234], 'confidence': 0.997, 'span': {'offset': 1143, 'length': 3}}, {'content': 'required', 'polygon': [5.676, 6.3906, 6.1001, 6.3903, 6.0971, 6.5237, 5.673, 6.5235], 'confidence': 0.994, 'span': {'offset': 1147, 'length': 8}}, {'content': 'to', 'polygon': [6.1443, 6.3903, 6.2415, 6.3902, 6.2384, 6.5237, 6.1413, 6.5237], 'confidence': 0.998, 'span': {'offset': 1156, 'length': 2}}, {'content': 'file', 'polygon': [6.2812, 6.3902, 6.4336, 6.39, 6.4306, 6.5238, 6.2782, 6.5238], 'confidence': 0.989, 'span': {'offset': 1159, 'length': 4}}, {'content': 'such', 'polygon': [6.4756, 6.39, 6.7208, 6.3897, 6.7177, 6.524, 6.4726, 6.5239], 'confidence': 0.992, 'span': {'offset': 1164, 'length': 4}}, {'content': 'reports),', 'polygon': [6.7694, 6.3897, 7.1956, 6.389, 7.1926, 6.5243, 6.7663, 6.524], 'confidence': 0.985, 'span': {'offset': 1169, 'length': 9}}, {'content': 'and', 'polygon': [7.242, 6.389, 7.4342, 6.3886, 7.4311, 6.5244, 7.239, 6.5243], 'confidence': 0.995, 'span': {'offset': 1179, 'length': 3}}, {'content': '(2)', 'polygon': [7.4828, 6.3885, 7.6131, 6.3883, 7.6101, 6.5245, 7.4797, 6.5245], 'confidence': 0.995, 'span': {'offset': 1183, 'length': 3}}, {'content': 'has', 'polygon': [7.6396, 6.3883, 7.8553, 6.3879, 7.8553, 6.5247, 7.6366, 6.5245], 'confidence': 0.992, 'span': {'offset': 1187, 'length': 3}}, {'content': 'been', 'polygon': [0.6353, 6.5401, 0.9077, 6.5364, 0.9046, 6.6662, 0.6323, 6.6626], 'confidence': 0.992, 'span': {'offset': 1191, 'length': 4}}, {'content': 'subject', 'polygon': [0.9489, 6.5359, 1.3036, 6.532, 1.3006, 6.6707, 0.9458, 6.6667], 'confidence': 0.995, 'span': {'offset': 1196, 'length': 7}}, {'content': 'to', 'polygon': [1.3311, 6.5317, 1.4501, 6.5306, 1.4471, 6.6721, 1.3281, 6.671], 'confidence': 0.999, 'span': {'offset': 1204, 'length': 2}}, {'content': 'such', 'polygon': [1.4845, 6.5303, 1.7271, 6.5287, 1.724, 6.6741, 1.4814, 6.6724], 'confidence': 0.992, 'span': {'offset': 1207, 'length': 4}}, {'content': 'filing', 'polygon': [1.7637, 6.5285, 2.004, 6.5273, 2.001, 6.6745, 1.7607, 6.6743], 'confidence': 0.995, 'span': {'offset': 1212, 'length': 6}}, {'content': 'requirements', 'polygon': [2.0452, 6.5272, 2.7273, 6.5276, 2.7243, 6.6745, 2.0422, 6.6745], 'confidence': 0.993, 'span': {'offset': 1219, 'length': 12}}, {'content': 'for', 'polygon': [2.7594, 6.5277, 2.8875, 6.528, 2.8845, 6.6745, 2.7563, 6.6745], 'confidence': 0.998, 'span': {'offset': 1232, 'length': 3}}, {'content': 'the', 'polygon': [2.915, 6.5281, 3.0913, 6.5294, 3.0882, 6.674, 2.912, 6.6745], 'confidence': 0.999, 'span': {'offset': 1236, 'length': 3}}, {'content': 'past', 'polygon': [3.1347, 6.5297, 3.3545, 6.5313, 3.3514, 6.6723, 3.1317, 6.6737], 'confidence': 0.992, 'span': {'offset': 1240, 'length': 4}}, {'content': '90', 'polygon': [3.3865, 6.5315, 3.5147, 6.533, 3.5117, 6.6706, 3.3835, 6.6719], 'confidence': 0.998, 'span': {'offset': 1245, 'length': 2}}, {'content': 'days.', 'polygon': [3.549, 6.5334, 3.8346, 6.5365, 3.8346, 6.6674, 3.546, 6.6703], 'confidence': 0.995, 'span': {'offset': 1248, 'length': 5}}, {'content': 'Yes', 'polygon': [3.9616, 6.536, 4.1666, 6.536, 4.1654, 6.6458, 3.9604, 6.6436], 'confidence': 0.998, 'span': {'offset': 1254, 'length': 3}}, {'content': 'No', 'polygon': [4.4744, 6.5408, 4.632, 6.5408, 4.632, 6.6363, 4.4744, 6.6363], 'confidence': 0.992, 'span': {'offset': 1258, 'length': 2}}, {'content': 'Indicate', 'polygon': [0.6434, 6.73, 1.0318, 6.7299, 1.0316, 6.8631, 0.6434, 6.8628], 'confidence': 0.992, 'span': {'offset': 1261, 'length': 8}}, {'content': 'by', 'polygon': [1.0583, 6.7299, 1.2017, 6.7298, 1.2015, 6.8633, 1.0581, 6.8631], 'confidence': 0.995, 'span': {'offset': 1270, 'length': 2}}, {'content': 'check', 'polygon': [1.2304, 6.7298, 1.5085, 6.7297, 1.5081, 6.8635, 1.2301, 6.8633], 'confidence': 0.997, 'span': {'offset': 1273, 'length': 5}}, {'content': 'mark', 'polygon': [1.5349, 6.7297, 1.7997, 6.7296, 1.7992, 6.8637, 1.5346, 6.8635], 'confidence': 0.992, 'span': {'offset': 1279, 'length': 4}}, {'content': 'whether', 'polygon': [1.8262, 6.7296, 2.2323, 6.7296, 2.2316, 6.864, 1.8257, 6.8637], 'confidence': 0.995, 'span': {'offset': 1284, 'length': 7}}, {'content': 'the', 'polygon': [2.2587, 6.7295, 2.4176, 6.7295, 2.4169, 6.8641, 2.2581, 6.864], 'confidence': 0.999, 'span': {'offset': 1292, 'length': 3}}, {'content': 'registrant', 'polygon': [2.4441, 6.7295, 2.9296, 6.7295, 2.9286, 6.8645, 2.4434, 6.8642], 'confidence': 0.992, 'span': {'offset': 1296, 'length': 10}}, {'content': 'has', 'polygon': [2.9561, 6.7295, 3.1569, 6.7295, 3.1558, 6.8646, 2.9551, 6.8645], 'confidence': 0.998, 'span': {'offset': 1307, 'length': 3}}, {'content': 'submitted', 'polygon': [3.1878, 6.7295, 3.6821, 6.7295, 3.6808, 6.8649, 3.1867, 6.8646], 'confidence': 0.993, 'span': {'offset': 1311, 'length': 9}}, {'content': 'electronically', 'polygon': [3.7152, 6.7295, 4.3794, 6.7297, 4.3779, 6.8652, 3.7139, 6.8649], 'confidence': 0.992, 'span': {'offset': 1321, 'length': 14}}, {'content': 'every', 'polygon': [4.4059, 6.7297, 4.6685, 6.7298, 4.6668, 6.8654, 4.4043, 6.8652], 'confidence': 0.996, 'span': {'offset': 1336, 'length': 5}}, {'content': 'Interactive', 'polygon': [4.695, 6.7298, 5.2401, 6.7301, 5.2381, 6.8655, 4.6933, 6.8654], 'confidence': 0.992, 'span': {'offset': 1342, 'length': 11}}, {'content': 'Data', 'polygon': [5.2754, 6.7301, 5.5115, 6.7302, 5.5094, 6.8655, 5.2734, 6.8655], 'confidence': 0.99, 'span': {'offset': 1354, 'length': 4}}, {'content': 'File', 'polygon': [5.5468, 6.7302, 5.7101, 6.7303, 5.708, 6.8655, 5.5447, 6.8655], 'confidence': 0.993, 'span': {'offset': 1359, 'length': 4}}, {'content': 'required', 'polygon': [5.7366, 6.7303, 6.1713, 6.7306, 6.169, 6.8655, 5.7344, 6.8655], 'confidence': 0.992, 'span': {'offset': 1364, 'length': 8}}, {'content': 'to', 'polygon': [6.2044, 6.7307, 6.2839, 6.7307, 6.2815, 6.8655, 6.2021, 6.8655], 'confidence': 0.998, 'span': {'offset': 1373, 'length': 2}}, {'content': 'be', 'polygon': [6.3103, 6.7308, 6.4538, 6.7309, 6.4513, 6.8655, 6.308, 6.8655], 'confidence': 0.996, 'span': {'offset': 1376, 'length': 2}}, {'content': 'submitted', 'polygon': [6.4869, 6.7309, 6.979, 6.7313, 6.9763, 6.8655, 6.4844, 6.8655], 'confidence': 0.993, 'span': {'offset': 1379, 'length': 9}}, {'content': 'pursuant', 'polygon': [7.0165, 6.7313, 7.449, 6.7317, 7.4462, 6.8655, 7.0138, 6.8655], 'confidence': 0.992, 'span': {'offset': 1389, 'length': 8}}, {'content': 'to', 'polygon': [7.4755, 6.7318, 7.5814, 6.7319, 7.5785, 6.8655, 7.4726, 6.8655], 'confidence': 0.998, 'span': {'offset': 1398, 'length': 2}}, {'content': 'Rule', 'polygon': [7.6167, 6.7319, 7.8601, 6.7321, 7.8601, 6.8655, 7.6138, 6.8655], 'confidence': 0.992, 'span': {'offset': 1401, 'length': 4}}, {'content': '405', 'polygon': [0.6413, 6.8653, 0.8399, 6.8658, 0.8399, 6.9964, 0.6413, 6.996], 'confidence': 0.995, 'span': {'offset': 1406, 'length': 3}}, {'content': 'of', 'polygon': [0.8723, 6.8658, 0.9609, 6.866, 0.9609, 6.9966, 0.8723, 6.9965], 'confidence': 0.997, 'span': {'offset': 1410, 'length': 2}}, {'content': 'Regulation', 'polygon': [0.9868, 6.8661, 1.546, 6.8674, 1.546, 6.9978, 0.9868, 6.9967], 'confidence': 0.992, 'span': {'offset': 1413, 'length': 10}}, {'content': 'S-T', 'polygon': [1.5827, 6.8675, 1.7684, 6.8678, 1.7684, 6.9982, 1.5827, 6.9979], 'confidence': 0.993, 'span': {'offset': 1424, 'length': 3}}, {'content': '(§232.405', 'polygon': [1.8029, 6.8679, 2.3168, 6.8687, 2.3168, 6.9991, 1.8029, 6.9983], 'confidence': 0.944, 'span': {'offset': 1428, 'length': 9}}, {'content': 'of', 'polygon': [2.3492, 6.8688, 2.4507, 6.8689, 2.4507, 6.9994, 2.3492, 6.9992], 'confidence': 0.996, 'span': {'offset': 1438, 'length': 2}}, {'content': 'this', 'polygon': [2.4766, 6.869, 2.6515, 6.8693, 2.6515, 6.9997, 2.4766, 6.9994], 'confidence': 0.992, 'span': {'offset': 1441, 'length': 4}}, {'content': 'chapter)', 'polygon': [2.6861, 6.8693, 3.1049, 6.8697, 3.1049, 7.0003, 2.6861, 6.9997], 'confidence': 0.994, 'span': {'offset': 1446, 'length': 8}}, {'content': 'during', 'polygon': [3.1395, 6.8697, 3.4526, 6.87, 3.4526, 7.0007, 3.1395, 7.0003], 'confidence': 0.996, 'span': {'offset': 1455, 'length': 6}}, {'content': 'the', 'polygon': [3.4893, 6.8701, 3.6469, 6.8702, 3.6469, 7.0009, 3.4893, 7.0007], 'confidence': 0.999, 'span': {'offset': 1462, 'length': 3}}, {'content': 'preceding', 'polygon': [3.6836, 6.8702, 4.1824, 6.8704, 4.1824, 7.0014, 3.6836, 7.001], 'confidence': 0.994, 'span': {'offset': 1466, 'length': 9}}, {'content': '12', 'polygon': [4.2277, 6.8704, 4.3422, 6.8704, 4.3421, 7.0015, 4.2277, 7.0014], 'confidence': 0.994, 'span': {'offset': 1476, 'length': 2}}, {'content': 'months', 'polygon': [4.381, 6.8704, 4.7546, 6.8705, 4.7546, 7.0018, 4.381, 7.0015], 'confidence': 0.996, 'span': {'offset': 1479, 'length': 6}}, {'content': '(or', 'polygon': [4.7913, 6.8705, 4.9165, 6.8705, 4.9165, 7.0019, 4.7913, 7.0019], 'confidence': 0.995, 'span': {'offset': 1486, 'length': 3}}, {'content': 'for', 'polygon': [4.9424, 6.8705, 5.0957, 6.8704, 5.0957, 7.002, 4.9424, 7.0019], 'confidence': 0.998, 'span': {'offset': 1490, 'length': 3}}, {'content': 'such', 'polygon': [5.1238, 6.8704, 5.3634, 6.8703, 5.3634, 7.0021, 5.1238, 7.002], 'confidence': 0.992, 'span': {'offset': 1494, 'length': 4}}, {'content': 'shorter', 'polygon': [5.398, 6.8703, 5.7456, 6.8701, 5.7456, 7.0022, 5.398, 7.0021], 'confidence': 0.994, 'span': {'offset': 1499, 'length': 7}}, {'content': 'period', 'polygon': [5.7715, 6.8701, 6.1019, 6.8697, 6.1019, 7.0023, 5.7715, 7.0022], 'confidence': 0.994, 'span': {'offset': 1507, 'length': 6}}, {'content': 'that', 'polygon': [6.1386, 6.8697, 6.3308, 6.8695, 6.3308, 7.0022, 6.1386, 7.0023], 'confidence': 0.992, 'span': {'offset': 1514, 'length': 4}}, {'content': 'the', 'polygon': [6.3588, 6.8694, 6.5057, 6.8693, 6.5057, 7.0022, 6.3588, 7.0022], 'confidence': 0.995, 'span': {'offset': 1519, 'length': 3}}, {'content': 'registrant', 'polygon': [6.5316, 6.8693, 7.0325, 6.8686, 7.0325, 7.0022, 6.5316, 7.0022], 'confidence': 0.992, 'span': {'offset': 1523, 'length': 10}}, {'content': 'was', 'polygon': [7.0584, 6.8685, 7.2635, 6.8681, 7.2635, 7.0021, 7.0584, 7.0021], 'confidence': 0.998, 'span': {'offset': 1534, 'length': 3}}, {'content': 'required', 'polygon': [7.3024, 6.8681, 7.7126, 6.8673, 7.7126, 7.0018, 7.3024, 7.002], 'confidence': 0.994, 'span': {'offset': 1538, 'length': 8}}, {'content': 'to', 'polygon': [7.7494, 6.8673, 7.8649, 6.867, 7.8649, 7.0018, 7.7494, 7.0018], 'confidence': 0.998, 'span': {'offset': 1547, 'length': 2}}, {'content': 'submit', 'polygon': [0.6323, 7.0171, 0.9891, 7.0153, 0.9879, 7.1415, 0.6323, 7.1367], 'confidence': 0.993, 'span': {'offset': 1550, 'length': 6}}, {'content': 'such', 'polygon': [1.0195, 7.0153, 1.2586, 7.0151, 1.2567, 7.1411, 1.0182, 7.1417], 'confidence': 0.992, 'span': {'offset': 1557, 'length': 4}}, {'content': 'files).', 'polygon': [1.2931, 7.0151, 1.6093, 7.016, 1.6093, 7.1353, 1.291, 7.1408], 'confidence': 0.992, 'span': {'offset': 1562, 'length': 7}}, {'content': 'Yes', 'polygon': [1.6898, 7.0182, 1.9069, 7.0182, 1.9069, 7.1232, 1.6898, 7.1233], 'confidence': 0.996, 'span': {'offset': 1570, 'length': 3}}, {'content': 'No', 'polygon': [2.1966, 7.023, 2.3558, 7.023, 2.3558, 7.1185, 2.1966, 7.1185], 'confidence': 0.997, 'span': {'offset': 1574, 'length': 2}}, {'content': 'Indicate', 'polygon': [0.6333, 7.2128, 1.0622, 7.2116, 1.0592, 7.3421, 0.6302, 7.3417], 'confidence': 0.992, 'span': {'offset': 1577, 'length': 8}}, {'content': 'by', 'polygon': [1.1049, 7.2115, 1.2262, 7.2112, 1.2232, 7.3422, 1.1019, 7.3421], 'confidence': 0.997, 'span': {'offset': 1586, 'length': 2}}, {'content': 'check', 'polygon': [1.2644, 7.2111, 1.5721, 7.2102, 1.5691, 7.3425, 1.2614, 7.3423], 'confidence': 0.998, 'span': {'offset': 1589, 'length': 5}}, {'content': 'mark', 'polygon': [1.6125, 7.2101, 1.8731, 7.2095, 1.87, 7.3428, 1.6095, 7.3425], 'confidence': 0.992, 'span': {'offset': 1595, 'length': 4}}, {'content': 'whether', 'polygon': [1.9068, 7.2094, 2.3335, 7.2086, 2.3305, 7.3432, 1.9037, 7.3428], 'confidence': 0.997, 'span': {'offset': 1600, 'length': 7}}, {'content': 'the', 'polygon': [2.3672, 7.2085, 2.5199, 7.2082, 2.5169, 7.3434, 2.3642, 7.3432], 'confidence': 0.999, 'span': {'offset': 1608, 'length': 3}}, {'content': 'registrant', 'polygon': [2.5469, 7.2081, 3.05, 7.2073, 3.047, 7.3439, 2.5438, 7.3434], 'confidence': 0.993, 'span': {'offset': 1612, 'length': 10}}, {'content': 'is', 'polygon': [3.077, 7.2073, 3.1825, 7.2071, 3.1795, 7.344, 3.0739, 7.3439], 'confidence': 0.998, 'span': {'offset': 1623, 'length': 2}}, {'content': 'a', 'polygon': [3.2229, 7.2071, 3.2858, 7.207, 3.2828, 7.3441, 3.2199, 7.344], 'confidence': 0.995, 'span': {'offset': 1626, 'length': 1}}, {'content': 'large', 'polygon': [3.3285, 7.2069, 3.5868, 7.2066, 3.5838, 7.3443, 3.3255, 7.3441], 'confidence': 0.995, 'span': {'offset': 1628, 'length': 5}}, {'content': 'accelerated', 'polygon': [3.6295, 7.2065, 4.2292, 7.2061, 4.2261, 7.3449, 3.6264, 7.3444], 'confidence': 0.995, 'span': {'offset': 1634, 'length': 11}}, {'content': 'filer,', 'polygon': [4.2719, 7.2061, 4.4897, 7.2059, 4.4867, 7.3451, 4.2688, 7.3449], 'confidence': 0.994, 'span': {'offset': 1646, 'length': 6}}, {'content': 'an', 'polygon': [4.5369, 7.2059, 4.6627, 7.2058, 4.6596, 7.3453, 4.5339, 7.3452], 'confidence': 0.998, 'span': {'offset': 1653, 'length': 2}}, {'content': 'accelerated', 'polygon': [4.7053, 7.2058, 5.3118, 7.2058, 5.3087, 7.3459, 4.7023, 7.3453], 'confidence': 0.994, 'span': {'offset': 1656, 'length': 11}}, {'content': 'filer,', 'polygon': [5.3522, 7.2058, 5.5701, 7.2058, 5.567, 7.3461, 5.3492, 7.3459], 'confidence': 0.992, 'span': {'offset': 1668, 'length': 6}}, {'content': 'a', 'polygon': [5.615, 7.2058, 5.6756, 7.2058, 5.6726, 7.3462, 5.612, 7.3462], 'confidence': 0.995, 'span': {'offset': 1675, 'length': 1}}, {'content': 'non-accelerated', 'polygon': [5.7206, 7.2058, 6.5583, 7.2065, 6.5553, 7.347, 5.7175, 7.3463], 'confidence': 0.992, 'span': {'offset': 1677, 'length': 15}}, {'content': 'filer,', 'polygon': [6.5988, 7.2065, 6.8166, 7.2067, 6.8136, 7.3473, 6.5957, 7.3471], 'confidence': 0.993, 'span': {'offset': 1693, 'length': 6}}, {'content': 'a', 'polygon': [6.8616, 7.2067, 6.9244, 7.2068, 6.9214, 7.3474, 6.8585, 7.3473], 'confidence': 0.995, 'span': {'offset': 1700, 'length': 1}}, {'content': 'smaller', 'polygon': [6.9671, 7.2069, 7.349, 7.2075, 7.3459, 7.3477, 6.9641, 7.3474], 'confidence': 0.996, 'span': {'offset': 1702, 'length': 7}}, {'content': 'reporting', 'polygon': [7.3871, 7.2075, 7.8553, 7.2083, 7.8553, 7.3477, 7.3841, 7.3477], 'confidence': 0.995, 'span': {'offset': 1710, 'length': 9}}, {'content': 'company,', 'polygon': [0.6353, 7.3578, 1.1528, 7.3553, 1.1525, 7.4885, 0.6353, 7.4903], 'confidence': 0.992, 'span': {'offset': 1720, 'length': 8}}, {'content': 'or', 'polygon': [1.1951, 7.3551, 1.3022, 7.3546, 1.3019, 7.488, 1.1949, 7.4884], 'confidence': 0.997, 'span': {'offset': 1729, 'length': 2}}, {'content': 'an', 'polygon': [1.3334, 7.3545, 1.4583, 7.3539, 1.458, 7.4875, 1.3331, 7.4879], 'confidence': 0.998, 'span': {'offset': 1732, 'length': 2}}, {'content': 'emerging', 'polygon': [1.4985, 7.3537, 1.9847, 7.3519, 1.9841, 7.486, 1.4981, 7.4873], 'confidence': 0.992, 'span': {'offset': 1735, 'length': 8}}, {'content': 'growth', 'polygon': [2.0226, 7.3517, 2.3705, 7.3506, 2.3698, 7.4851, 2.022, 7.4859], 'confidence': 0.996, 'span': {'offset': 1744, 'length': 6}}, {'content': 'company.', 'polygon': [2.4107, 7.3504, 2.9147, 7.349, 2.9138, 7.4841, 2.4099, 7.485], 'confidence': 0.994, 'span': {'offset': 1751, 'length': 8}}, {'content': 'See', 'polygon': [2.9571, 7.3489, 3.1623, 7.3484, 3.1613, 7.4838, 2.9561, 7.484], 'confidence': 0.997, 'span': {'offset': 1760, 'length': 3}}, {'content': 'the', 'polygon': [3.198, 7.3484, 3.3586, 7.348, 3.3574, 7.4836, 3.1969, 7.4838], 'confidence': 0.998, 'span': {'offset': 1764, 'length': 3}}, {'content': 'definitions', 'polygon': [3.3987, 7.3479, 3.9273, 7.3471, 3.9259, 7.4831, 3.3976, 7.4835], 'confidence': 0.992, 'span': {'offset': 1768, 'length': 11}}, {'content': 'of', 'polygon': [3.963, 7.347, 4.0656, 7.347, 4.0642, 7.4831, 3.9616, 7.4831], 'confidence': 0.997, 'span': {'offset': 1780, 'length': 2}}, {'content': '\"large', 'polygon': [4.0946, 7.3469, 4.3935, 7.3467, 4.3919, 7.4831, 4.0932, 7.4831], 'confidence': 0.941, 'span': {'offset': 1783, 'length': 6}}, {'content': 'accelerated', 'polygon': [4.4314, 7.3466, 5.0336, 7.3465, 5.0317, 7.4835, 4.4298, 7.4831], 'confidence': 0.992, 'span': {'offset': 1790, 'length': 11}}, {'content': 'filer,\"', 'polygon': [5.0715, 7.3465, 5.3191, 7.3466, 5.3171, 7.4838, 5.0696, 7.4835], 'confidence': 0.974, 'span': {'offset': 1802, 'length': 7}}, {'content': '\"accelerated', 'polygon': [5.3458, 7.3466, 6.0127, 7.3472, 6.0105, 7.4849, 5.3439, 7.4838], 'confidence': 0.951, 'span': {'offset': 1810, 'length': 12}}, {'content': 'filer,\"', 'polygon': [6.0484, 7.3472, 6.3094, 7.3477, 6.307, 7.4856, 6.0461, 7.485], 'confidence': 0.961, 'span': {'offset': 1823, 'length': 7}}, {'content': '\"smaller', 'polygon': [6.3473, 7.3477, 6.7688, 7.3485, 6.7662, 7.4866, 6.3449, 7.4856], 'confidence': 0.963, 'span': {'offset': 1831, 'length': 8}}, {'content': 'reporting', 'polygon': [6.8045, 7.3485, 7.2595, 7.3498, 7.2567, 7.4883, 6.8019, 7.4867], 'confidence': 0.993, 'span': {'offset': 1840, 'length': 9}}, {'content': 'company,\"', 'polygon': [7.2996, 7.35, 7.8649, 7.3517, 7.8649, 7.4904, 7.2968, 7.4884], 'confidence': 0.949, 'span': {'offset': 1850, 'length': 9}}, {'content': 'and', 'polygon': [0.6353, 7.4933, 0.8294, 7.4914, 0.8294, 7.6197, 0.6353, 7.6193], 'confidence': 0.998, 'span': {'offset': 1860, 'length': 3}}, {'content': '\"emerging', 'polygon': [0.8559, 7.4912, 1.4028, 7.4866, 1.4028, 7.6198, 0.8559, 7.6198], 'confidence': 0.957, 'span': {'offset': 1864, 'length': 9}}, {'content': 'growth', 'polygon': [1.4447, 7.4863, 1.791, 7.4841, 1.791, 7.6198, 1.4447, 7.6198], 'confidence': 0.998, 'span': {'offset': 1874, 'length': 6}}, {'content': 'company\"', 'polygon': [1.8307, 7.4839, 2.3446, 7.4818, 2.3446, 7.6198, 1.8307, 7.6198], 'confidence': 0.975, 'span': {'offset': 1881, 'length': 8}}, {'content': 'in', 'polygon': [2.3843, 7.4817, 2.4681, 7.4815, 2.4681, 7.6198, 2.3843, 7.6198], 'confidence': 0.997, 'span': {'offset': 1890, 'length': 2}}, {'content': 'Rule', 'polygon': [2.5122, 7.4814, 2.746, 7.4809, 2.746, 7.6198, 2.5122, 7.6198], 'confidence': 0.992, 'span': {'offset': 1893, 'length': 4}}, {'content': '12b-2', 'polygon': [2.7901, 7.4809, 3.0812, 7.4809, 3.0812, 7.6193, 2.7901, 7.6198], 'confidence': 0.992, 'span': {'offset': 1898, 'length': 5}}, {'content': 'of', 'polygon': [3.1165, 7.4809, 3.2114, 7.4809, 3.2114, 7.619, 3.1165, 7.6192], 'confidence': 0.998, 'span': {'offset': 1904, 'length': 2}}, {'content': 'the', 'polygon': [3.2378, 7.4809, 3.4077, 7.4813, 3.4077, 7.6183, 3.2378, 7.6189], 'confidence': 0.999, 'span': {'offset': 1907, 'length': 3}}, {'content': 'Exchange', 'polygon': [3.4496, 7.4814, 3.9679, 7.483, 3.9679, 7.6161, 3.4496, 7.6182], 'confidence': 0.995, 'span': {'offset': 1911, 'length': 8}}, {'content': 'Act.', 'polygon': [3.9987, 7.4831, 4.2166, 7.484, 4.2166, 7.6149, 3.9987, 7.6159], 'confidence': 0.989, 'span': {'offset': 1920, 'length': 4}}, {'content': 'Large', 'polygon': [0.6373, 7.6932, 0.9476, 7.6933, 0.9468, 7.8269, 0.6373, 7.8299], 'confidence': 0.993, 'span': {'offset': 1925, 'length': 5}}, {'content': 'accelerated', 'polygon': [0.9848, 7.6934, 1.5889, 7.6959, 1.5865, 7.8149, 0.9839, 7.8264], 'confidence': 0.993, 'span': {'offset': 1931, 'length': 11}}, {'content': 'filer', 'polygon': [1.6261, 7.6962, 1.8576, 7.6977, 1.8576, 7.8079, 1.6236, 7.814], 'confidence': 0.995, 'span': {'offset': 1943, 'length': 5}}, {'content': 'Non-accelerated', 'polygon': [0.6453, 7.8713, 1.5106, 7.8741, 1.5075, 7.9931, 0.6423, 7.9936], 'confidence': 0.992, 'span': {'offset': 1949, 'length': 15}}, {'content': 'filer', 'polygon': [1.547, 7.8751, 1.7573, 7.8825, 1.7573, 7.9822, 1.5439, 7.9918], 'confidence': 0.996, 'span': {'offset': 1965, 'length': 5}}, {'content': 'Accelerated', 'polygon': [5.3157, 7.6903, 5.954, 7.6954, 5.951, 7.8105, 5.3127, 7.8189], 'confidence': 0.993, 'span': {'offset': 1971, 'length': 11}}, {'content': 'filer', 'polygon': [5.9912, 7.6962, 6.1935, 7.7018, 6.1935, 7.8113, 5.9882, 7.8105], 'confidence': 0.996, 'span': {'offset': 1983, 'length': 5}}, {'content': 'Smaller', 'polygon': [5.3247, 7.87, 5.7248, 7.8721, 5.7226, 8.0057, 5.3217, 8.0009], 'confidence': 0.995, 'span': {'offset': 1989, 'length': 7}}, {'content': 'reporting', 'polygon': [5.7498, 7.8723, 6.227, 7.8786, 6.2259, 8.0065, 5.7477, 8.0058], 'confidence': 0.995, 'span': {'offset': 1997, 'length': 9}}, {'content': 'company', 'polygon': [6.2687, 7.8794, 6.7666, 7.8902, 6.7666, 8.0021, 6.2677, 8.0065], 'confidence': 0.997, 'span': {'offset': 2007, 'length': 7}}, {'content': 'Emerging', 'polygon': [5.3247, 8.042, 5.8352, 8.0431, 5.8352, 8.1784, 5.3247, 8.1756], 'confidence': 0.995, 'span': {'offset': 2015, 'length': 8}}, {'content': 'growth', 'polygon': [5.8743, 8.0433, 6.2219, 8.0462, 6.2219, 8.1784, 5.8743, 8.1784], 'confidence': 0.999, 'span': {'offset': 2024, 'length': 6}}, {'content': 'company', 'polygon': [6.261, 8.0466, 6.7666, 8.0536, 6.7666, 8.1782, 6.261, 8.1784], 'confidence': 0.999, 'span': {'offset': 2031, 'length': 7}}, {'content': 'If', 'polygon': [0.6383, 8.2433, 0.7199, 8.2431, 0.7198, 8.3782, 0.6383, 8.3783], 'confidence': 0.955, 'span': {'offset': 2039, 'length': 2}}, {'content': 'an', 'polygon': [0.7457, 8.2431, 0.8681, 8.243, 0.8679, 8.3779, 0.7456, 8.3781], 'confidence': 0.998, 'span': {'offset': 2042, 'length': 2}}, {'content': 'emerging', 'polygon': [0.9089, 8.2429, 1.3942, 8.2423, 1.3935, 8.377, 0.9086, 8.3779], 'confidence': 0.992, 'span': {'offset': 2045, 'length': 8}}, {'content': 'growth', 'polygon': [1.4307, 8.2422, 1.7786, 8.2419, 1.7776, 8.3764, 1.43, 8.377], 'confidence': 0.997, 'span': {'offset': 2054, 'length': 6}}, {'content': 'company,', 'polygon': [1.8172, 8.2419, 2.3133, 8.2416, 2.3118, 8.3757, 1.8162, 8.3763], 'confidence': 0.992, 'span': {'offset': 2061, 'length': 8}}, {'content': 'indicate', 'polygon': [2.339, 8.2416, 2.7599, 8.2414, 2.7581, 8.3751, 2.3376, 8.3757], 'confidence': 0.993, 'span': {'offset': 2070, 'length': 8}}, {'content': 'by', 'polygon': [2.7986, 8.2414, 2.9188, 8.2415, 2.9169, 8.375, 2.7967, 8.3751], 'confidence': 0.995, 'span': {'offset': 2079, 'length': 2}}, {'content': 'check', 'polygon': [2.9532, 8.2415, 3.2581, 8.2416, 3.2559, 8.3747, 2.9512, 8.375], 'confidence': 0.995, 'span': {'offset': 2082, 'length': 5}}, {'content': 'mark', 'polygon': [3.2946, 8.2416, 3.5415, 8.2416, 3.5391, 8.3744, 3.2924, 8.3747], 'confidence': 0.992, 'span': {'offset': 2088, 'length': 4}}, {'content': 'if', 'polygon': [3.5673, 8.2416, 3.636, 8.2417, 3.6335, 8.3744, 3.5648, 8.3744], 'confidence': 0.996, 'span': {'offset': 2093, 'length': 2}}, {'content': 'the', 'polygon': [3.6618, 8.2417, 3.825, 8.2418, 3.8223, 8.3742, 3.6593, 8.3743], 'confidence': 0.999, 'span': {'offset': 2096, 'length': 3}}, {'content': 'registrant', 'polygon': [3.8508, 8.2418, 4.349, 8.2423, 4.3458, 8.374, 3.848, 8.3742], 'confidence': 0.993, 'span': {'offset': 2100, 'length': 10}}, {'content': 'has', 'polygon': [4.3747, 8.2423, 4.5809, 8.2425, 4.5775, 8.3739, 4.3716, 8.374], 'confidence': 0.998, 'span': {'offset': 2111, 'length': 3}}, {'content': 'elected', 'polygon': [4.6131, 8.2426, 4.9867, 8.2431, 4.983, 8.3737, 4.6097, 8.3738], 'confidence': 0.993, 'span': {'offset': 2115, 'length': 7}}, {'content': 'not', 'polygon': [5.0275, 8.2432, 5.1886, 8.2435, 5.1847, 8.3737, 5.0238, 8.3737], 'confidence': 0.997, 'span': {'offset': 2123, 'length': 3}}, {'content': 'to', 'polygon': [5.2165, 8.2435, 5.3153, 8.2437, 5.3113, 8.3737, 5.2126, 8.3737], 'confidence': 0.998, 'span': {'offset': 2127, 'length': 2}}, {'content': 'use', 'polygon': [5.3518, 8.2438, 5.5364, 8.2441, 5.5323, 8.3737, 5.3478, 8.3737], 'confidence': 0.996, 'span': {'offset': 2130, 'length': 3}}, {'content': 'the', 'polygon': [5.5665, 8.2441, 5.7276, 8.2444, 5.7233, 8.3737, 5.5623, 8.3737], 'confidence': 0.999, 'span': {'offset': 2134, 'length': 3}}, {'content': 'extended', 'polygon': [5.7641, 8.2445, 6.2451, 8.2457, 6.2403, 8.3738, 5.7597, 8.3737], 'confidence': 0.995, 'span': {'offset': 2138, 'length': 8}}, {'content': 'transition', 'polygon': [6.2794, 8.2458, 6.754, 8.247, 6.7488, 8.374, 6.2747, 8.3739], 'confidence': 0.994, 'span': {'offset': 2147, 'length': 10}}, {'content': 'period', 'polygon': [6.7948, 8.2471, 7.1147, 8.2481, 7.1093, 8.3743, 6.7896, 8.3741], 'confidence': 0.993, 'span': {'offset': 2158, 'length': 6}}, {'content': 'for', 'polygon': [7.147, 8.2482, 7.2887, 8.2487, 7.2831, 8.3744, 7.1415, 8.3743], 'confidence': 0.999, 'span': {'offset': 2165, 'length': 3}}, {'content': 'complying', 'polygon': [7.3209, 8.2488, 7.8553, 8.2505, 7.8553, 8.3749, 7.3153, 8.3744], 'confidence': 0.995, 'span': {'offset': 2169, 'length': 9}}, {'content': 'with', 'polygon': [0.6353, 8.4002, 0.8542, 8.3992, 0.8541, 8.5253, 0.6353, 8.5239], 'confidence': 0.992, 'span': {'offset': 2179, 'length': 4}}, {'content': 'any', 'polygon': [0.8944, 8.399, 1.0821, 8.3981, 1.0818, 8.5267, 0.8943, 8.5255], 'confidence': 0.998, 'span': {'offset': 2184, 'length': 3}}, {'content': 'new', 'polygon': [1.12, 8.398, 1.3322, 8.397, 1.3319, 8.5283, 1.1198, 8.527], 'confidence': 0.992, 'span': {'offset': 2188, 'length': 3}}, {'content': 'or', 'polygon': [1.3657, 8.3968, 1.4573, 8.3964, 1.4569, 8.5291, 1.3654, 8.5285], 'confidence': 0.995, 'span': {'offset': 2192, 'length': 2}}, {'content': 'revised', 'polygon': [1.4841, 8.3963, 1.8773, 8.395, 1.8766, 8.5311, 1.4837, 8.5294], 'confidence': 0.993, 'span': {'offset': 2195, 'length': 7}}, {'content': 'financial', 'polygon': [1.913, 8.3949, 2.3419, 8.3936, 2.341, 8.5331, 1.9123, 8.5312], 'confidence': 0.992, 'span': {'offset': 2203, 'length': 9}}, {'content': 'accounting', 'polygon': [2.3821, 8.3935, 2.9472, 8.3924, 2.946, 8.5345, 2.3812, 8.5332], 'confidence': 0.994, 'span': {'offset': 2213, 'length': 10}}, {'content': 'standards', 'polygon': [2.9874, 8.3924, 3.5012, 8.3919, 3.4997, 8.5352, 2.9862, 8.5346], 'confidence': 0.994, 'span': {'offset': 2224, 'length': 9}}, {'content': 'provided', 'polygon': [3.5414, 8.3919, 3.9814, 8.3916, 3.9797, 8.5354, 3.5399, 8.5352], 'confidence': 0.995, 'span': {'offset': 2234, 'length': 8}}, {'content': 'pursuant', 'polygon': [4.0239, 8.3917, 4.484, 8.3921, 4.482, 8.5346, 4.0221, 8.5353], 'confidence': 0.992, 'span': {'offset': 2243, 'length': 8}}, {'content': 'to', 'polygon': [4.5108, 8.3921, 4.6091, 8.3922, 4.607, 8.5344, 4.5088, 8.5346], 'confidence': 0.996, 'span': {'offset': 2252, 'length': 2}}, {'content': 'Section', 'polygon': [4.6471, 8.3922, 5.0335, 8.3928, 5.0312, 8.5333, 4.645, 8.5343], 'confidence': 0.995, 'span': {'offset': 2255, 'length': 7}}, {'content': '13(a)', 'polygon': [5.0804, 8.3929, 5.3462, 8.3935, 5.3438, 8.5322, 5.0781, 8.5331], 'confidence': 0.989, 'span': {'offset': 2263, 'length': 5}}, {'content': 'of', 'polygon': [5.382, 8.3936, 5.4825, 8.3939, 5.48, 8.5317, 5.3795, 8.532], 'confidence': 0.998, 'span': {'offset': 2269, 'length': 2}}, {'content': 'the', 'polygon': [5.5093, 8.3939, 5.6723, 8.3943, 5.6697, 8.5309, 5.5068, 8.5316], 'confidence': 0.998, 'span': {'offset': 2272, 'length': 3}}, {'content': 'Exchange', 'polygon': [5.7148, 8.3944, 6.2308, 8.3963, 6.2279, 8.5278, 5.7122, 8.5306], 'confidence': 0.995, 'span': {'offset': 2276, 'length': 8}}, {'content': 'Act.', 'polygon': [6.2643, 8.3964, 6.5039, 8.3972, 6.5039, 8.5263, 6.2614, 8.5276], 'confidence': 0.991, 'span': {'offset': 2285, 'length': 4}}, {'content': 'Indicate', 'polygon': [0.6434, 8.6015, 1.0502, 8.5993, 1.0502, 8.7339, 0.6434, 8.7322], 'confidence': 0.992, 'span': {'offset': 2290, 'length': 8}}, {'content': 'by', 'polygon': [1.0854, 8.5991, 1.203, 8.5985, 1.203, 8.7345, 1.0854, 8.7341], 'confidence': 0.996, 'span': {'offset': 2299, 'length': 2}}, {'content': 'check', 'polygon': [1.2359, 8.5983, 1.5181, 8.5969, 1.5181, 8.7359, 1.2359, 8.7347], 'confidence': 0.995, 'span': {'offset': 2302, 'length': 5}}, {'content': 'mark', 'polygon': [1.5463, 8.5968, 1.8096, 8.5957, 1.8096, 8.7367, 1.5463, 8.7359], 'confidence': 0.992, 'span': {'offset': 2308, 'length': 4}}, {'content': 'whether', 'polygon': [1.8379, 8.5956, 2.2517, 8.594, 2.2517, 8.738, 1.8379, 8.7368], 'confidence': 0.995, 'span': {'offset': 2313, 'length': 7}}, {'content': 'the', 'polygon': [2.2799, 8.5939, 2.4398, 8.5934, 2.4398, 8.7384, 2.2799, 8.7381], 'confidence': 0.999, 'span': {'offset': 2321, 'length': 3}}, {'content': 'registrant', 'polygon': [2.468, 8.5934, 2.9477, 8.5921, 2.9477, 8.7393, 2.468, 8.7385], 'confidence': 0.992, 'span': {'offset': 2325, 'length': 10}}, {'content': 'is', 'polygon': [2.9759, 8.592, 3.0793, 8.5918, 3.0793, 8.7396, 2.9759, 8.7394], 'confidence': 0.997, 'span': {'offset': 2336, 'length': 2}}, {'content': 'a', 'polygon': [3.1123, 8.5917, 3.1734, 8.5916, 3.1734, 8.7397, 3.1123, 8.7397], 'confidence': 0.995, 'span': {'offset': 2339, 'length': 1}}, {'content': 'shell', 'polygon': [3.211, 8.5916, 3.4391, 8.5913, 3.4391, 8.7399, 3.211, 8.7397], 'confidence': 0.996, 'span': {'offset': 2341, 'length': 5}}, {'content': 'company', 'polygon': [3.4767, 8.5912, 3.9446, 8.5907, 3.9446, 8.7402, 3.4767, 8.7399], 'confidence': 0.994, 'span': {'offset': 2347, 'length': 7}}, {'content': '(as', 'polygon': [3.9799, 8.5907, 4.1351, 8.5907, 4.1351, 8.7401, 3.9799, 8.7401], 'confidence': 0.978, 'span': {'offset': 2355, 'length': 3}}, {'content': 'defined', 'polygon': [4.168, 8.5907, 4.5277, 8.5908, 4.5277, 8.7399, 4.168, 8.74], 'confidence': 0.994, 'span': {'offset': 2359, 'length': 7}}, {'content': 'in', 'polygon': [4.556, 8.5908, 4.6618, 8.5908, 4.6618, 8.7398, 4.556, 8.7398], 'confidence': 0.996, 'span': {'offset': 2367, 'length': 2}}, {'content': 'Rule', 'polygon': [4.7017, 8.5908, 4.9322, 8.5911, 4.9322, 8.7394, 4.7017, 8.7398], 'confidence': 0.992, 'span': {'offset': 2370, 'length': 4}}, {'content': '12b-2', 'polygon': [4.9745, 8.5911, 5.259, 8.5916, 5.259, 8.7389, 4.9745, 8.7393], 'confidence': 0.993, 'span': {'offset': 2375, 'length': 5}}, {'content': 'of', 'polygon': [5.2919, 8.5916, 5.3742, 8.5918, 5.3742, 8.7387, 5.2919, 8.7388], 'confidence': 0.996, 'span': {'offset': 2381, 'length': 2}}, {'content': 'the', 'polygon': [5.4024, 8.5918, 5.5764, 8.5921, 5.5764, 8.7383, 5.4024, 8.7386], 'confidence': 0.998, 'span': {'offset': 2384, 'length': 3}}, {'content': 'Exchange', 'polygon': [5.614, 8.5922, 6.1219, 8.5936, 6.1219, 8.7367, 5.614, 8.7381], 'confidence': 0.992, 'span': {'offset': 2388, 'length': 8}}, {'content': 'Act).', 'polygon': [6.1525, 8.5937, 6.4037, 8.5944, 6.4037, 8.7359, 6.1525, 8.7366], 'confidence': 0.982, 'span': {'offset': 2397, 'length': 5}}, {'content': 'Yes', 'polygon': [6.5039, 8.6033, 6.7475, 8.6033, 6.7475, 8.7083, 6.5039, 8.7058], 'confidence': 0.996, 'span': {'offset': 2403, 'length': 3}}, {'content': 'No', 'polygon': [7.0149, 8.6081, 7.1741, 8.6081, 7.1741, 8.7036, 7.0149, 8.7036], 'confidence': 0.993, 'span': {'offset': 2407, 'length': 2}}, {'content': 'Indicate', 'polygon': [0.6424, 8.8027, 1.0499, 8.8021, 1.0471, 8.9292, 0.6393, 8.9262], 'confidence': 0.992, 'span': {'offset': 2410, 'length': 8}}, {'content': 'the', 'polygon': [1.0832, 8.802, 1.2271, 8.8018, 1.2244, 8.9305, 1.0803, 8.9295], 'confidence': 0.999, 'span': {'offset': 2419, 'length': 3}}, {'content': 'number', 'polygon': [1.2537, 8.8018, 1.6701, 8.8012, 1.6676, 8.9336, 1.251, 8.9307], 'confidence': 0.996, 'span': {'offset': 2423, 'length': 6}}, {'content': 'of', 'polygon': [1.6989, 8.8012, 1.7853, 8.8011, 1.7829, 8.9342, 1.6964, 8.9338], 'confidence': 0.998, 'span': {'offset': 2430, 'length': 2}}, {'content': 'shares', 'polygon': [1.8119, 8.8011, 2.1685, 8.8007, 2.1662, 8.9363, 1.8094, 8.9344], 'confidence': 0.993, 'span': {'offset': 2433, 'length': 6}}, {'content': 'outstanding', 'polygon': [2.2018, 8.8007, 2.7932, 8.8003, 2.7912, 8.9389, 2.1995, 8.9364], 'confidence': 0.993, 'span': {'offset': 2440, 'length': 11}}, {'content': 'of', 'polygon': [2.8309, 8.8003, 2.9195, 8.8002, 2.9175, 8.9393, 2.8289, 8.939], 'confidence': 0.997, 'span': {'offset': 2452, 'length': 2}}, {'content': 'each', 'polygon': [2.946, 8.8002, 3.203, 8.8001, 3.2012, 8.9402, 2.9441, 8.9394], 'confidence': 0.989, 'span': {'offset': 2455, 'length': 4}}, {'content': 'of', 'polygon': [3.2384, 8.8001, 3.3182, 8.8, 3.3164, 8.9405, 3.2366, 8.9403], 'confidence': 0.992, 'span': {'offset': 2460, 'length': 2}}, {'content': 'the', 'polygon': [3.3447, 8.8, 3.5042, 8.8, 3.5026, 8.9408, 3.343, 8.9406], 'confidence': 0.996, 'span': {'offset': 2463, 'length': 3}}, {'content': \"issuer's\", 'polygon': [3.5308, 8.8, 3.945, 8.8, 3.9436, 8.9413, 3.5292, 8.9408], 'confidence': 0.992, 'span': {'offset': 2467, 'length': 8}}, {'content': 'classes', 'polygon': [3.976, 8.8, 4.3593, 8.8001, 4.358, 8.9415, 3.9746, 8.9413], 'confidence': 0.995, 'span': {'offset': 2476, 'length': 7}}, {'content': 'of', 'polygon': [4.3903, 8.8001, 4.4944, 8.8002, 4.4932, 8.9413, 4.389, 8.9414], 'confidence': 0.996, 'span': {'offset': 2484, 'length': 2}}, {'content': 'common', 'polygon': [4.521, 8.8002, 4.9573, 8.8004, 4.9564, 8.9409, 4.5198, 8.9413], 'confidence': 0.996, 'span': {'offset': 2487, 'length': 6}}, {'content': 'stock,', 'polygon': [4.9928, 8.8004, 5.2874, 8.8007, 5.2866, 8.9402, 4.9918, 8.9408], 'confidence': 0.994, 'span': {'offset': 2494, 'length': 6}}, {'content': 'as', 'polygon': [5.325, 8.8007, 5.4446, 8.8008, 5.4439, 8.9397, 5.3243, 8.94], 'confidence': 0.997, 'span': {'offset': 2501, 'length': 2}}, {'content': 'of', 'polygon': [5.4801, 8.8009, 5.5598, 8.801, 5.5592, 8.9393, 5.4794, 8.9395], 'confidence': 0.994, 'span': {'offset': 2504, 'length': 2}}, {'content': 'the', 'polygon': [5.5864, 8.801, 5.7459, 8.8011, 5.7453, 8.9387, 5.5858, 8.9392], 'confidence': 0.996, 'span': {'offset': 2507, 'length': 3}}, {'content': 'latest', 'polygon': [5.7725, 8.8012, 6.0737, 8.8015, 6.0733, 8.9375, 5.7719, 8.9386], 'confidence': 0.994, 'span': {'offset': 2511, 'length': 6}}, {'content': 'practicable', 'polygon': [6.107, 8.8016, 6.6563, 8.8024, 6.6562, 8.9345, 6.1066, 8.9374], 'confidence': 0.993, 'span': {'offset': 2518, 'length': 11}}, {'content': 'date.', 'polygon': [6.6895, 8.8024, 6.948, 8.8028, 6.948, 8.9329, 6.6894, 8.9343], 'confidence': 0.992, 'span': {'offset': 2530, 'length': 5}}, {'content': 'Class', 'polygon': [0.6399, 9.0807, 0.9455, 9.0807, 0.9455, 9.181, 0.6399, 9.181], 'confidence': 0.995, 'span': {'offset': 2536, 'length': 5}}, {'content': 'Outstanding', 'polygon': [6.1126, 9.0849, 6.7332, 9.0805, 6.7309, 9.2101, 6.1126, 9.2134], 'confidence': 0.994, 'span': {'offset': 2542, 'length': 11}}, {'content': 'as', 'polygon': [6.7711, 9.0803, 6.8805, 9.08, 6.8776, 9.2094, 6.7686, 9.2099], 'confidence': 0.997, 'span': {'offset': 2554, 'length': 2}}, {'content': 'of', 'polygon': [6.9142, 9.08, 7.0131, 9.0798, 7.0097, 9.2089, 6.9111, 9.2093], 'confidence': 0.998, 'span': {'offset': 2557, 'length': 2}}, {'content': 'April', 'polygon': [7.0404, 9.0797, 7.276, 9.0799, 7.2716, 9.2081, 7.0369, 9.2088], 'confidence': 0.994, 'span': {'offset': 2560, 'length': 5}}, {'content': '24,', 'polygon': [7.3076, 9.08, 7.4486, 9.0805, 7.4435, 9.2076, 7.3031, 9.208], 'confidence': 0.995, 'span': {'offset': 2566, 'length': 3}}, {'content': '2020', 'polygon': [7.4822, 9.0806, 7.7264, 9.0819, 7.7223, 9.2071, 7.4771, 9.2076], 'confidence': 0.99, 'span': {'offset': 2570, 'length': 4}}, {'content': 'Common', 'polygon': [0.6413, 9.3005, 1.1234, 9.2973, 1.1229, 9.4305, 0.6413, 9.4236], 'confidence': 0.993, 'span': {'offset': 2575, 'length': 6}}, {'content': 'Stock,', 'polygon': [1.1632, 9.2971, 1.4817, 9.2961, 1.4807, 9.4344, 1.1626, 9.431], 'confidence': 0.994, 'span': {'offset': 2582, 'length': 6}}, {'content': '$0.00000625', 'polygon': [1.5215, 9.2961, 2.2094, 9.2971, 2.2075, 9.4385, 1.5205, 9.4347], 'confidence': 0.993, 'span': {'offset': 2589, 'length': 11}}, {'content': 'par', 'polygon': [2.2492, 9.2973, 2.4172, 9.2982, 2.4152, 9.4387, 2.2473, 9.4385], 'confidence': 0.995, 'span': {'offset': 2601, 'length': 3}}, {'content': 'value', 'polygon': [2.446, 9.2984, 2.7269, 9.3006, 2.7245, 9.4383, 2.4439, 9.4388], 'confidence': 0.996, 'span': {'offset': 2605, 'length': 5}}, {'content': 'per', 'polygon': [2.7689, 9.301, 2.937, 9.3026, 2.9343, 9.4376, 2.7664, 9.4382], 'confidence': 0.997, 'span': {'offset': 2611, 'length': 3}}, {'content': 'share', 'polygon': [2.9679, 9.303, 3.2758, 9.3067, 3.2745, 9.4357, 2.9652, 9.4374], 'confidence': 0.997, 'span': {'offset': 2615, 'length': 5}}, {'content': '7,583,440,247', 'polygon': [6.546, 9.3188, 7.3206, 9.3246, 7.3166, 9.4559, 6.546, 9.4577], 'confidence': 0.992, 'span': {'offset': 2621, 'length': 13}}, {'content': 'shares', 'polygon': [7.3602, 9.3244, 7.7312, 9.3198, 7.7282, 9.4579, 7.3561, 9.4562], 'confidence': 0.995, 'span': {'offset': 2635, 'length': 6}}], 'lines': [{'content': 'UNITED STATES', 'polygon': [3.4669, 0.6636, 5.0236, 0.6636, 5.0236, 0.8403, 3.4669, 0.8403], 'spans': [{'offset': 0, 'length': 13}]}, {'content': 'SECURITIES AND EXCHANGE COMMISSION', 'polygon': [2.1728, 0.8785, 6.3177, 0.8785, 6.3177, 1.0647, 2.1728, 1.0647], 'spans': [{'offset': 14, 'length': 34}]}, {'content': 'Washington, D.C. 20549', 'polygon': [3.443, 1.0933, 5.0475, 1.0933, 5.0475, 1.2413, 3.443, 1.2461], 'spans': [{'offset': 49, 'length': 22}]}, {'content': 'FORM 10-Q', 'polygon': [3.7008, 1.3893, 4.7896, 1.3941, 4.7896, 1.5803, 3.7008, 1.5803], 'spans': [{'offset': 72, 'length': 9}]}, {'content': '☒', 'polygon': [0.6694, 1.7746, 0.7764, 1.7746, 0.7764, 1.8833, 0.6694, 1.8833], 'spans': [{'offset': 82, 'length': 1}]}, {'content': 'QUARTERLY REPORT PURSUANT TO SECTION 13 OR 15(d) OF THE SECURITIES EXCHANGE ACT OF', 'polygon': [0.9646, 1.7426, 7.8649, 1.7426, 7.8649, 1.9097, 0.9646, 1.9097], 'spans': [{'offset': 84, 'length': 82}]}, {'content': '1934', 'polygon': [0.9837, 1.9288, 1.3084, 1.9336, 1.3084, 2.0625, 0.9837, 2.0673], 'spans': [{'offset': 167, 'length': 4}]}, {'content': 'For the Quarterly Period Ended March 31, 2020', 'polygon': [0.9742, 2.1341, 3.4669, 2.1293, 3.4669, 2.2726, 0.9742, 2.2726], 'spans': [{'offset': 172, 'length': 45}]}, {'content': 'OR', 'polygon': [4.1211, 2.2582, 4.3407, 2.263, 4.3407, 2.4253, 4.1163, 2.4253], 'spans': [{'offset': 218, 'length': 2}]}, {'content': '☐', 'polygon': [0.6694, 2.6955, 0.777, 2.6955, 0.777, 2.8042, 0.6694, 2.8042], 'spans': [{'offset': 221, 'length': 1}]}, {'content': 'TRANSITION REPORT PURSUANT TO SECTION 13 OR 15(d) OF THE SECURITIES EXCHANGE ACT OF', 'polygon': [0.9742, 2.6688, 7.8649, 2.6688, 7.8649, 2.8359, 0.9742, 2.8312], 'spans': [{'offset': 223, 'length': 83}]}, {'content': '1934', 'polygon': [0.9789, 2.8503, 1.3132, 2.855, 1.3084, 2.9935, 0.9789, 2.9887], 'spans': [{'offset': 307, 'length': 4}]}, {'content': 'For the Transition Period From', 'polygon': [0.9694, 3.0603, 2.6312, 3.0603, 2.6312, 3.1892, 0.9694, 3.1892], 'spans': [{'offset': 312, 'length': 30}]}, {'content': 'to', 'polygon': [3.1612, 3.0794, 3.2663, 3.0794, 3.2663, 3.1749, 3.1612, 3.1749], 'spans': [{'offset': 343, 'length': 2}]}, {'content': 'Commission File Number 001-37845', 'polygon': [3.2281, 3.2418, 5.2767, 3.237, 5.2767, 3.3754, 3.2281, 3.385], 'spans': [{'offset': 346, 'length': 32}]}, {'content': 'MICROSOFT CORPORATION', 'polygon': [2.5213, 3.5473, 5.9739, 3.5425, 5.9739, 3.7574, 2.5213, 3.7622], 'spans': [{'offset': 379, 'length': 21}]}, {'content': 'WASHINGTON', 'polygon': [1.9817, 3.934, 2.8222, 3.934, 2.8222, 4.0629, 1.9817, 4.0629], 'spans': [{'offset': 401, 'length': 10}]}, {'content': '(STATE OF INCORPORATION)', 'polygon': [1.6952, 4.0773, 3.1183, 4.0773, 3.1183, 4.2062, 1.6952, 4.2062], 'spans': [{'offset': 412, 'length': 24}]}, {'content': 'ONE MICROSOFT WAY, REDMOND, WASHINGTON 98052-6399', 'polygon': [2.5691, 4.2491, 5.9213, 4.2491, 5.9213, 4.3876, 2.5691, 4.3876], 'spans': [{'offset': 437, 'length': 49}]}, {'content': '(425) 882-8080', 'polygon': [3.8537, 4.3924, 4.6368, 4.3828, 4.6368, 4.5117, 3.8537, 4.5213], 'spans': [{'offset': 487, 'length': 14}]}, {'content': 'www.microsoft.com/investor', 'polygon': [3.4716, 4.5213, 5.014, 4.5165, 5.014, 4.6406, 3.4716, 4.6454], 'spans': [{'offset': 502, 'length': 26}]}, {'content': '91-1144442', 'polygon': [5.7542, 3.9388, 6.4084, 3.9388, 6.4084, 4.0677, 5.7542, 4.0677], 'spans': [{'offset': 529, 'length': 10}]}, {'content': '(I.R.S. ID)', 'polygon': [5.8593, 4.082, 6.3177, 4.0868, 6.3177, 4.2014, 5.8593, 4.1966], 'spans': [{'offset': 540, 'length': 11}]}, {'content': 'Securities registered pursuant to Section 12(b) of the Act:', 'polygon': [0.6112, 4.7218, 3.6292, 4.717, 3.634, 4.8507, 0.6112, 4.8555], 'spans': [{'offset': 552, 'length': 59}]}, {'content': 'Title of each class', 'polygon': [0.6112, 4.951, 1.5758, 4.951, 1.5758, 5.0799, 0.6112, 5.0799], 'spans': [{'offset': 612, 'length': 19}]}, {'content': 'Trading Symbol', 'polygon': [4.3264, 4.951, 5.1812, 4.951, 5.1812, 5.0846, 4.3264, 5.0846], 'spans': [{'offset': 632, 'length': 14}]}, {'content': 'Name of exchange on which registered', 'polygon': [5.568, 4.9462, 7.6357, 4.951, 7.6357, 5.0846, 5.568, 5.0846], 'spans': [{'offset': 647, 'length': 36}]}, {'content': 'Common stock, $0.00000625 par value per share', 'polygon': [0.616, 5.1515, 3.3618, 5.1563, 3.3618, 5.2947, 0.616, 5.2852], 'spans': [{'offset': 684, 'length': 45}]}, {'content': 'MSFT', 'polygon': [4.5843, 5.1515, 4.9185, 5.1515, 4.9185, 5.2708, 4.5795, 5.2708], 'spans': [{'offset': 730, 'length': 4}]}, {'content': 'NASDAQ', 'polygon': [6.3416, 5.1563, 6.8669, 5.1515, 6.8716, 5.2708, 6.3416, 5.2756], 'spans': [{'offset': 735, 'length': 6}]}, {'content': '2.125% Notes due 2021', 'polygon': [0.6065, 5.309, 1.9292, 5.309, 1.9292, 5.4379, 0.6065, 5.4379], 'spans': [{'offset': 742, 'length': 21}]}, {'content': 'MSFT', 'polygon': [4.5795, 5.309, 4.9233, 5.3138, 4.9233, 5.4284, 4.5747, 5.4284], 'spans': [{'offset': 764, 'length': 4}]}, {'content': 'NASDAQ', 'polygon': [6.3225, 5.2899, 6.8764, 5.2899, 6.8764, 5.4523, 6.3225, 5.457], 'spans': [{'offset': 769, 'length': 6}]}, {'content': '3.125% Notes due 2028', 'polygon': [0.616, 5.4714, 1.934, 5.4714, 1.934, 5.605, 0.616, 5.605], 'spans': [{'offset': 776, 'length': 21}]}, {'content': 'MSFT', 'polygon': [4.5795, 5.4714, 4.9233, 5.4714, 4.9233, 5.5907, 4.5747, 5.5907], 'spans': [{'offset': 798, 'length': 4}]}, {'content': 'NASDAQ', 'polygon': [6.3368, 5.4714, 6.8669, 5.4714, 6.8669, 5.6003, 6.3368, 5.5955], 'spans': [{'offset': 803, 'length': 6}]}, {'content': '2.625% Notes due 2033', 'polygon': [0.6065, 5.6337, 1.934, 5.6289, 1.934, 5.753, 0.6065, 5.7578], 'spans': [{'offset': 810, 'length': 21}]}, {'content': 'MSFT', 'polygon': [4.5747, 5.6337, 4.9185, 5.6289, 4.9185, 5.753, 4.5747, 5.753], 'spans': [{'offset': 832, 'length': 4}]}, {'content': 'NASDAQ', 'polygon': [6.3368, 5.6289, 6.8716, 5.6289, 6.8764, 5.753, 6.3368, 5.753], 'spans': [{'offset': 837, 'length': 6}]}, {'content': 'Securities registered pursuant to Section 12(g) of the Act:', 'polygon': [0.616, 5.8247, 3.6292, 5.8247, 3.6292, 5.9631, 0.616, 5.9631], 'spans': [{'offset': 844, 'length': 59}]}, {'content': 'NONE', 'polygon': [0.616, 6.0586, 0.9742, 6.0586, 0.9742, 6.1732, 0.616, 6.1732], 'spans': [{'offset': 904, 'length': 4}]}, {'content': 'Indicate by check mark whether the registrant (1) has filed all reports required to be filed by Section 13 or 15(d) of the Securities Exchange', 'polygon': [0.6351, 6.2448, 7.8553, 6.2448, 7.8553, 6.3832, 0.6351, 6.3832], 'spans': [{'offset': 909, 'length': 142}]}, {'content': 'Act of 1934 during the preceding 12 months (or for such shorter period that the registrant was required to file such reports), and (2) has', 'polygon': [0.6351, 6.3832, 7.8506, 6.3832, 7.8506, 6.5217, 0.6351, 6.5169], 'spans': [{'offset': 1052, 'length': 138}]}, {'content': 'been subject to such filing requirements for the past 90 days.', 'polygon': [0.6303, 6.5265, 3.8298, 6.5265, 3.8298, 6.6697, 0.6303, 6.6697], 'spans': [{'offset': 1191, 'length': 62}]}, {'content': 'Yes', 'polygon': [3.9396, 6.536, 4.164, 6.5456, 4.164, 6.6411, 3.9396, 6.6458], 'spans': [{'offset': 1254, 'length': 3}]}, {'content': 'No', 'polygon': [4.4792, 6.5408, 4.6272, 6.5408, 4.6272, 6.6363, 4.4744, 6.6363], 'spans': [{'offset': 1258, 'length': 2}]}, {'content': 'Indicate by check mark whether the registrant has submitted electronically every Interactive Data File required to be submitted pursuant to Rule', 'polygon': [0.6399, 6.727, 7.8553, 6.727, 7.8553, 6.8607, 0.6399, 6.8607], 'spans': [{'offset': 1261, 'length': 144}]}, {'content': '405 of Regulation S-T (§232.405 of this chapter) during the preceding 12 months (or for such shorter period that the registrant was required to', 'polygon': [0.6399, 6.8607, 7.8601, 6.8655, 7.8601, 6.9991, 0.6399, 6.9944], 'spans': [{'offset': 1406, 'length': 143}]}, {'content': 'submit such files).', 'polygon': [0.6303, 7.0135, 1.6045, 7.0135, 1.6045, 7.1376, 0.6303, 7.1376], 'spans': [{'offset': 1550, 'length': 19}]}, {'content': 'Yes', 'polygon': [1.6618, 7.0182, 1.9053, 7.023, 1.9006, 7.1185, 1.6618, 7.1233], 'spans': [{'offset': 1570, 'length': 3}]}, {'content': 'No', 'polygon': [2.1966, 7.023, 2.3542, 7.023, 2.3494, 7.1185, 2.1966, 7.1185], 'spans': [{'offset': 1574, 'length': 2}]}, {'content': 'Indicate by check mark whether the registrant is a large accelerated filer, an accelerated filer, a non-accelerated filer, a smaller reporting', 'polygon': [0.6208, 7.2044, 7.8506, 7.2044, 7.8506, 7.3429, 0.6208, 7.3429], 'spans': [{'offset': 1577, 'length': 142}]}, {'content': 'company, or an emerging growth company. See the definitions of \"large accelerated filer,\" \"accelerated filer,\" \"smaller reporting company,\"', 'polygon': [0.6351, 7.3477, 7.8601, 7.3429, 7.8601, 7.4861, 0.6351, 7.4909], 'spans': [{'offset': 1720, 'length': 139}]}, {'content': 'and \"emerging growth company\" in Rule 12b-2 of the Exchange Act.', 'polygon': [0.6351, 7.4813, 4.2118, 7.4766, 4.2118, 7.615, 0.6351, 7.6198], 'spans': [{'offset': 1860, 'length': 64}]}, {'content': 'Large accelerated filer', 'polygon': [0.6351, 7.6914, 1.8528, 7.6914, 1.8528, 7.8155, 0.6351, 7.8251], 'spans': [{'offset': 1925, 'length': 23}]}, {'content': 'Non-accelerated filer', 'polygon': [0.6399, 7.8633, 1.7525, 7.8633, 1.7525, 7.997, 0.6399, 7.997], 'spans': [{'offset': 1949, 'length': 21}]}, {'content': 'Accelerated filer', 'polygon': [5.3101, 7.6866, 6.1888, 7.6866, 6.1888, 7.8155, 5.3101, 7.8155], 'spans': [{'offset': 1971, 'length': 17}]}, {'content': 'Smaller reporting company', 'polygon': [5.3197, 7.8681, 6.7618, 7.8776, 6.7618, 8.0065, 5.3197, 7.997], 'spans': [{'offset': 1989, 'length': 25}]}, {'content': 'Emerging growth company', 'polygon': [5.3244, 8.0399, 6.7618, 8.0447, 6.7618, 8.1784, 5.3244, 8.1736], 'spans': [{'offset': 2015, 'length': 23}]}, {'content': 'If an emerging growth company, indicate by check mark if the registrant has elected not to use the extended transition period for complying', 'polygon': [0.6351, 8.2405, 7.8506, 8.2405, 7.8506, 8.3741, 0.6351, 8.3741], 'spans': [{'offset': 2039, 'length': 139}]}, {'content': 'with any new or revised financial accounting standards provided pursuant to Section 13(a) of the Exchange Act.', 'polygon': [0.6351, 8.3885, 6.4992, 8.3885, 6.4992, 8.5317, 0.6351, 8.5317], 'spans': [{'offset': 2179, 'length': 110}]}, {'content': 'Indicate by check mark whether the registrant is a shell company (as defined in Rule 12b-2 of the Exchange Act).', 'polygon': [0.6399, 8.589, 6.3989, 8.589, 6.3989, 8.7322, 0.6399, 8.737], 'spans': [{'offset': 2290, 'length': 112}]}, {'content': 'Yes', 'polygon': [6.5087, 8.6033, 6.7379, 8.6081, 6.7427, 8.7083, 6.5039, 8.7083], 'spans': [{'offset': 2403, 'length': 3}]}, {'content': 'No', 'polygon': [7.0197, 8.6081, 7.1725, 8.6081, 7.1677, 8.7036, 7.0149, 8.7036], 'spans': [{'offset': 2407, 'length': 2}]}, {'content': \"Indicate the number of shares outstanding of each of the issuer's classes of common stock, as of the latest practicable date.\", 'polygon': [0.6351, 8.799, 6.9433, 8.799, 6.9433, 8.9375, 0.6351, 8.9327], 'spans': [{'offset': 2410, 'length': 125}]}, {'content': 'Class', 'polygon': [0.6447, 9.0807, 0.9407, 9.0807, 0.936, 9.181, 0.6399, 9.181], 'spans': [{'offset': 2536, 'length': 5}]}, {'content': 'Outstanding as of April 24, 2020', 'polygon': [6.1124, 9.0807, 7.7216, 9.076, 7.7216, 9.2049, 6.1124, 9.2096], 'spans': [{'offset': 2542, 'length': 32}]}, {'content': 'Common Stock, $0.00000625 par value per share', 'polygon': [0.6399, 9.2956, 3.2711, 9.3003, 3.2711, 9.4388, 0.6399, 9.4293], 'spans': [{'offset': 2575, 'length': 45}]}, {'content': '7,583,440,247 shares', 'polygon': [6.5421, 9.3147, 7.7264, 9.3194, 7.7264, 9.4531, 6.5421, 9.4531], 'spans': [{'offset': 2621, 'length': 20}]}], 'spans': [{'offset': 0, 'length': 2641}]}], 'paragraphs': [{'spans': [{'offset': 0, 'length': 71}], 'boundingRegions': [{'pageNumber': 1, 'polygon': [2.1728, 0.6636, 6.3177, 0.6636, 6.3177, 1.2461, 2.1728, 1.2461]}], 'content': 'UNITED STATES SECURITIES AND EXCHANGE COMMISSION Washington, D.C. 20549'}, {'spans': [{'offset': 72, 'length': 9}], 'boundingRegions': [{'pageNumber': 1, 'polygon': [3.7008, 1.3893, 4.7896, 1.3893, 4.7896, 1.5803, 3.7008, 1.5803]}], 'content': 'FORM 10-Q'}, {'spans': [{'offset': 82, 'length': 89}], 'boundingRegions': [{'pageNumber': 1, 'polygon': [0.6694, 1.7426, 7.8649, 1.7426, 7.8649, 2.0673, 0.6694, 2.0673]}], 'content': '☒ QUARTERLY REPORT PURSUANT TO SECTION 13 OR 15(d) OF THE SECURITIES EXCHANGE ACT OF 1934'}, {'spans': [{'offset': 172, 'length': 45}], 'boundingRegions': [{'pageNumber': 1, 'polygon': [0.9742, 2.1341, 3.4669, 2.1293, 3.4669, 2.2726, 0.9742, 2.2726]}], 'content': 'For the Quarterly Period Ended March 31, 2020'}, {'spans': [{'offset': 218, 'length': 2}], 'boundingRegions': [{'pageNumber': 1, 'polygon': [4.1211, 2.2582, 4.3407, 2.263, 4.3407, 2.4253, 4.1163, 2.4253]}], 'content': 'OR'}, {'spans': [{'offset': 221, 'length': 90}], 'boundingRegions': [{'pageNumber': 1, 'polygon': [0.6694, 2.6688, 7.8649, 2.6688, 7.8649, 2.9935, 0.6694, 2.9935]}], 'content': '☐ TRANSITION REPORT PURSUANT TO SECTION 13 OR 15(d) OF THE SECURITIES EXCHANGE ACT OF 1934'}, {'spans': [{'offset': 312, 'length': 66}], 'boundingRegions': [{'pageNumber': 1, 'polygon': [0.9709, 3.0104, 5.2838, 3.1401, 5.2745, 3.4465, 0.9617, 3.3168]}], 'content': 'For the Transition Period From to Commission File Number 001-37845'}, {'spans': [{'offset': 379, 'length': 21}], 'boundingRegions': [{'pageNumber': 1, 'polygon': [2.5211, 3.5473, 5.9739, 3.5425, 5.9742, 3.7574, 2.5213, 3.7622]}], 'content': 'MICROSOFT CORPORATION'}, {'spans': [{'offset': 401, 'length': 127}], 'boundingRegions': [{'pageNumber': 1, 'polygon': [1.7212, 3.8221, 5.9353, 4.2506, 5.8703, 4.8893, 1.6562, 4.4608]}], 'content': 'WASHINGTON (STATE OF INCORPORATION) ONE MICROSOFT WAY, REDMOND, WASHINGTON 98052-6399 (425) 882-8080 www.microsoft.com/investor'}, {'spans': [{'offset': 529, 'length': 22}], 'boundingRegions': [{'pageNumber': 1, 'polygon': [5.7542, 3.9388, 6.4084, 3.9388, 6.4084, 4.2014, 5.7542, 4.2014]}], 'content': '91-1144442 (I.R.S. ID)'}, {'spans': [{'offset': 552, 'length': 59}], 'boundingRegions': [{'pageNumber': 1, 'polygon': [0.611, 4.7218, 3.6338, 4.717, 3.634, 4.8507, 0.6112, 4.8555]}], 'content': 'Securities registered pursuant to Section 12(b) of the Act:'}, {'spans': [{'offset': 612, 'length': 19}], 'boundingRegions': [{'pageNumber': 1, 'polygon': [0.6112, 4.951, 1.5758, 4.951, 1.5758, 5.0799, 0.6112, 5.0799]}], 'content': 'Title of each class'}, {'spans': [{'offset': 632, 'length': 14}], 'boundingRegions': [{'pageNumber': 1, 'polygon': [4.3264, 4.951, 5.1812, 4.951, 5.1812, 5.0846, 4.3264, 5.0846]}], 'content': 'Trading Symbol'}, {'spans': [{'offset': 647, 'length': 36}], 'boundingRegions': [{'pageNumber': 1, 'polygon': [5.568, 4.9462, 7.6357, 4.9462, 7.6357, 5.0846, 5.568, 5.0846]}], 'content': 'Name of exchange on which registered'}, {'spans': [{'offset': 684, 'length': 45}], 'boundingRegions': [{'pageNumber': 1, 'polygon': [0.616, 5.1515, 3.362, 5.1563, 3.3618, 5.2947, 0.6158, 5.2899]}], 'content': 'Common stock, $0.00000625 par value per share'}, {'spans': [{'offset': 730, 'length': 4}], 'boundingRegions': [{'pageNumber': 1, 'polygon': [4.5795, 5.1515, 4.9185, 5.1515, 4.9185, 5.2708, 4.5795, 5.2708]}], 'content': 'MSFT'}, {'spans': [{'offset': 735, 'length': 6}], 'boundingRegions': [{'pageNumber': 1, 'polygon': [6.3405, 5.1562, 6.8706, 5.1514, 6.8716, 5.2708, 6.3416, 5.2756]}], 'content': 'NASDAQ'}, {'spans': [{'offset': 742, 'length': 21}], 'boundingRegions': [{'pageNumber': 1, 'polygon': [0.6065, 5.309, 1.9292, 5.309, 1.9292, 5.4379, 0.6065, 5.4379]}], 'content': '2.125% Notes due 2021'}, {'spans': [{'offset': 764, 'length': 4}], 'boundingRegions': [{'pageNumber': 1, 'polygon': [4.5747, 5.309, 4.9233, 5.309, 4.9233, 5.4284, 4.5747, 5.4284]}], 'content': 'MSFT'}, {'spans': [{'offset': 769, 'length': 6}], 'boundingRegions': [{'pageNumber': 1, 'polygon': [6.3225, 5.2899, 6.8764, 5.2899, 6.8764, 5.457, 6.3225, 5.457]}], 'content': 'NASDAQ'}, {'spans': [{'offset': 776, 'length': 21}], 'boundingRegions': [{'pageNumber': 1, 'polygon': [0.616, 5.4714, 1.934, 5.4714, 1.934, 5.605, 0.616, 5.605]}], 'content': '3.125% Notes due 2028'}, {'spans': [{'offset': 798, 'length': 4}], 'boundingRegions': [{'pageNumber': 1, 'polygon': [4.5747, 5.4714, 4.9233, 5.4714, 4.9233, 5.5907, 4.5747, 5.5907]}], 'content': 'MSFT'}, {'spans': [{'offset': 803, 'length': 6}], 'boundingRegions': [{'pageNumber': 1, 'polygon': [6.3368, 5.4714, 6.8669, 5.4714, 6.8669, 5.6003, 6.3368, 5.6003]}], 'content': 'NASDAQ'}, {'spans': [{'offset': 810, 'length': 21}], 'boundingRegions': [{'pageNumber': 1, 'polygon': [0.606, 5.6337, 1.934, 5.6289, 1.9344, 5.753, 0.6065, 5.7578]}], 'content': '2.625% Notes due 2033'}, {'spans': [{'offset': 832, 'length': 4}], 'boundingRegions': [{'pageNumber': 1, 'polygon': [4.5747, 5.6289, 4.9185, 5.6289, 4.9185, 5.753, 4.5747, 5.753]}], 'content': 'MSFT'}, {'spans': [{'offset': 837, 'length': 6}], 'boundingRegions': [{'pageNumber': 1, 'polygon': [6.3368, 5.6289, 6.8764, 5.6289, 6.8764, 5.753, 6.3368, 5.753]}], 'content': 'NASDAQ'}, {'spans': [{'offset': 844, 'length': 59}], 'boundingRegions': [{'pageNumber': 1, 'polygon': [0.616, 5.8247, 3.6292, 5.8247, 3.6292, 5.9631, 0.616, 5.9631]}], 'content': 'Securities registered pursuant to Section 12(g) of the Act:'}, {'spans': [{'offset': 904, 'length': 4}], 'boundingRegions': [{'pageNumber': 1, 'polygon': [0.616, 6.0586, 0.9742, 6.0586, 0.9742, 6.1732, 0.616, 6.1732]}], 'content': 'NONE'}, {'spans': [{'offset': 909, 'length': 351}], 'boundingRegions': [{'pageNumber': 1, 'polygon': [0.6303, 6.2448, 7.8553, 6.2448, 7.8553, 6.6697, 0.6303, 6.6697]}], 'content': 'Indicate by check mark whether the registrant (1) has filed all reports required to be filed by Section 13 or 15(d) of the Securities Exchange Act of 1934 during the preceding 12 months (or for such shorter period that the registrant was required to file such reports), and (2) has been subject to such filing requirements for the past 90 days. Yes No'}, {'spans': [{'offset': 1261, 'length': 315}], 'boundingRegions': [{'pageNumber': 1, 'polygon': [0.6303, 6.727, 7.8601, 6.727, 7.8601, 7.1376, 0.6303, 7.1376]}], 'content': 'Indicate by check mark whether the registrant has submitted electronically every Interactive Data File required to be submitted pursuant to Rule 405 of Regulation S-T (§232.405 of this chapter) during the preceding 12 months (or for such shorter period that the registrant was required to submit such files). Yes No'}, {'spans': [{'offset': 1577, 'length': 347}], 'boundingRegions': [{'pageNumber': 1, 'polygon': [0.6208, 7.2044, 7.8601, 7.2044, 7.8601, 7.6198, 0.6208, 7.6198]}], 'content': 'Indicate by check mark whether the registrant is a large accelerated filer, an accelerated filer, a non-accelerated filer, a smaller reporting company, or an emerging growth company. See the definitions of \"large accelerated filer,\" \"accelerated filer,\" \"smaller reporting company,\" and \"emerging growth company\" in Rule 12b-2 of the Exchange Act.'}, {'spans': [{'offset': 1925, 'length': 23}], 'boundingRegions': [{'pageNumber': 1, 'polygon': [0.6351, 7.6914, 1.8528, 7.6914, 1.8528, 7.8251, 0.6351, 7.8251]}], 'content': 'Large accelerated filer'}, {'spans': [{'offset': 1949, 'length': 21}], 'boundingRegions': [{'pageNumber': 1, 'polygon': [0.6399, 7.8633, 1.7525, 7.8633, 1.7525, 7.997, 0.6399, 7.997]}], 'content': 'Non-accelerated filer'}, {'spans': [{'offset': 1971, 'length': 67}], 'boundingRegions': [{'pageNumber': 1, 'polygon': [5.3101, 7.6837, 6.7634, 7.6885, 6.7618, 8.1784, 5.3085, 8.1736]}], 'content': 'Accelerated filer Smaller reporting company Emerging growth company'}, {'spans': [{'offset': 2039, 'length': 250}], 'boundingRegions': [{'pageNumber': 1, 'polygon': [0.6351, 8.2405, 7.8506, 8.2405, 7.8506, 8.5317, 0.6351, 8.5317]}], 'content': 'If an emerging growth company, indicate by check mark if the registrant has elected not to use the extended transition period for complying with any new or revised financial accounting standards provided pursuant to Section 13(a) of the Exchange Act.'}, {'spans': [{'offset': 2290, 'length': 112}], 'boundingRegions': [{'pageNumber': 1, 'polygon': [0.6399, 8.589, 6.3989, 8.589, 6.3989, 8.737, 0.6399, 8.737]}], 'content': 'Indicate by check mark whether the registrant is a shell company (as defined in Rule 12b-2 of the Exchange Act).'}, {'spans': [{'offset': 2403, 'length': 3}], 'boundingRegions': [{'pageNumber': 1, 'polygon': [6.5039, 8.6033, 6.7427, 8.6033, 6.7427, 8.7083, 6.5039, 8.7083]}], 'content': 'Yes'}, {'spans': [{'offset': 2407, 'length': 2}], 'boundingRegions': [{'pageNumber': 1, 'polygon': [7.0149, 8.6081, 7.1725, 8.6081, 7.1725, 8.7036, 7.0149, 8.7036]}], 'content': 'No'}, {'spans': [{'offset': 2410, 'length': 125}], 'boundingRegions': [{'pageNumber': 1, 'polygon': [0.6351, 8.799, 6.9433, 8.799, 6.9433, 8.9375, 0.6351, 8.9375]}], 'content': \"Indicate the number of shares outstanding of each of the issuer's classes of common stock, as of the latest practicable date.\"}, {'spans': [{'offset': 2536, 'length': 5}], 'boundingRegions': [{'pageNumber': 1, 'polygon': [0.6399, 9.0807, 0.9407, 9.0807, 0.9407, 9.181, 0.6399, 9.181]}], 'content': 'Class'}, {'spans': [{'offset': 2542, 'length': 32}], 'boundingRegions': [{'pageNumber': 1, 'polygon': [6.112, 9.0807, 7.7216, 9.076, 7.722, 9.2049, 6.1124, 9.2096]}], 'content': 'Outstanding as of April 24, 2020'}, {'spans': [{'offset': 2575, 'length': 45}], 'boundingRegions': [{'pageNumber': 1, 'polygon': [0.6399, 9.2956, 3.2713, 9.3003, 3.2711, 9.4388, 0.6396, 9.434]}], 'content': 'Common Stock, $0.00000625 par value per share'}, {'spans': [{'offset': 2621, 'length': 20}], 'boundingRegions': [{'pageNumber': 1, 'polygon': [6.5421, 9.3147, 7.7264, 9.3147, 7.7264, 9.4531, 6.5421, 9.4531]}], 'content': '7,583,440,247 shares'}], 'styles': [], 'contentFormat': 'text'}\n"
     ]
    }
   ],
   "source": [
    "print(result)"
   ]
  },
  {
   "cell_type": "code",
   "execution_count": 10,
   "metadata": {
    "gather": {
     "logged": 1744293317863
    }
   },
   "outputs": [
    {
     "name": "stdout",
     "output_type": "stream",
     "text": [
      "UNITED STATES SECURITIES AND EXCHANGE COMMISSION Washington, D.C. 20549\n",
      "FORM 10-Q\n",
      "☒ QUARTERLY REPORT PURSUANT TO SECTION 13 OR 15(d) OF THE SECURITIES EXCHANGE ACT OF 1934\n",
      "For the Quarterly Period Ended March 31, 2020\n",
      "OR\n",
      "☐ TRANSITION REPORT PURSUANT TO SECTION 13 OR 15(d) OF THE SECURITIES EXCHANGE ACT OF 1934\n",
      "For the Transition Period From to Commission File Number 001-37845\n",
      "MICROSOFT CORPORATION\n",
      "WASHINGTON (STATE OF INCORPORATION) ONE MICROSOFT WAY, REDMOND, WASHINGTON 98052-6399 (425) 882-8080 www.microsoft.com/investor\n",
      "91-1144442 (I.R.S. ID)\n",
      "Securities registered pursuant to Section 12(b) of the Act:\n",
      "Title of each class\n",
      "Trading Symbol\n",
      "Name of exchange on which registered\n",
      "Common stock, $0.00000625 par value per share\n",
      "MSFT\n",
      "NASDAQ\n",
      "2.125% Notes due 2021\n",
      "MSFT\n",
      "NASDAQ\n",
      "3.125% Notes due 2028\n",
      "MSFT\n",
      "NASDAQ\n",
      "2.625% Notes due 2033\n",
      "MSFT\n",
      "NASDAQ\n",
      "Securities registered pursuant to Section 12(g) of the Act:\n",
      "NONE\n",
      "Indicate by check mark whether the registrant (1) has filed all reports required to be filed by Section 13 or 15(d) of the Securities Exchange Act of 1934 during the preceding 12 months (or for such shorter period that the registrant was required to file such reports), and (2) has been subject to such filing requirements for the past 90 days. Yes No\n",
      "Indicate by check mark whether the registrant has submitted electronically every Interactive Data File required to be submitted pursuant to Rule 405 of Regulation S-T (§232.405 of this chapter) during the preceding 12 months (or for such shorter period that the registrant was required to submit such files). Yes No\n",
      "Indicate by check mark whether the registrant is a large accelerated filer, an accelerated filer, a non-accelerated filer, a smaller reporting company, or an emerging growth company. See the definitions of \"large accelerated filer,\" \"accelerated filer,\" \"smaller reporting company,\" and \"emerging growth company\" in Rule 12b-2 of the Exchange Act.\n",
      "Large accelerated filer\n",
      "Non-accelerated filer\n",
      "Accelerated filer Smaller reporting company Emerging growth company\n",
      "If an emerging growth company, indicate by check mark if the registrant has elected not to use the extended transition period for complying with any new or revised financial accounting standards provided pursuant to Section 13(a) of the Exchange Act.\n",
      "Indicate by check mark whether the registrant is a shell company (as defined in Rule 12b-2 of the Exchange Act).\n",
      "Yes\n",
      "No\n",
      "Indicate the number of shares outstanding of each of the issuer's classes of common stock, as of the latest practicable date.\n",
      "Class\n",
      "Outstanding as of April 24, 2020\n",
      "Common Stock, $0.00000625 par value per share\n",
      "7,583,440,247 shares\n"
     ]
    }
   ],
   "source": [
    "print(result.content)"
   ]
  },
  {
   "cell_type": "code",
   "execution_count": 11,
   "metadata": {
    "gather": {
     "logged": 1744293320408
    }
   },
   "outputs": [
    {
     "name": "stdout",
     "output_type": "stream",
     "text": [
      "['api_version', 'as_dict', 'clear', 'content', 'content_format', 'copy', 'documents', 'figures', 'get', 'items', 'key_value_pairs', 'keys', 'languages', 'model_id', 'pages', 'paragraphs', 'pop', 'popitem', 'sections', 'setdefault', 'string_index_type', 'styles', 'tables', 'update', 'values', 'warnings']\n"
     ]
    }
   ],
   "source": [
    "# print dir(result) ignoring hidden attributes\n",
    "print([attr for attr in dir(result) if not attr.startswith('_')])"
   ]
  },
  {
   "cell_type": "code",
   "execution_count": 12,
   "metadata": {
    "gather": {
     "logged": 1744293321609
    }
   },
   "outputs": [
    {
     "name": "stdout",
     "output_type": "stream",
     "text": [
      "I haven't found any tables.\n"
     ]
    }
   ],
   "source": [
    "# experiment with prebuilt read model: it does not return tables\n",
    "if result.tables:\n",
    "    print(f\"I've found {len(result.tables)} tables.\")\n",
    "else:\n",
    "    print(\"I haven't found any tables.\")"
   ]
  },
  {
   "cell_type": "markdown",
   "metadata": {},
   "source": [
    "### Prebuilt-layout"
   ]
  },
  {
   "cell_type": "code",
   "execution_count": 13,
   "metadata": {
    "gather": {
     "logged": 1744293326485
    }
   },
   "outputs": [],
   "source": [
    "poller = document_intelligence_client.begin_analyze_document(\n",
    "    model_id=\"prebuilt-layout\", \n",
    "    body=AnalyzeDocumentRequest(url_source=formUrl) # the parameter urlSource or base64Source is required\n",
    ")"
   ]
  },
  {
   "cell_type": "code",
   "execution_count": 14,
   "metadata": {
    "gather": {
     "logged": 1744293330018
    }
   },
   "outputs": [],
   "source": [
    "# The result() method is designed to retrieve the result of a long-running operation (LRO), \n",
    "# which is a common pattern in cloud services where certain tasks, such as analyzing data or deploying resources, take time to complete.\n",
    "# It abstracts the complexity of polling and waiting, handling the operation's result once it is available.\n",
    "\n",
    "# Returns: The deserialized resource of the long running operation, if one is available\n",
    "result: AnalyzeResult = poller.result(timeout=1000)"
   ]
  },
  {
   "cell_type": "code",
   "execution_count": 15,
   "metadata": {
    "gather": {
     "logged": 1744293330631
    }
   },
   "outputs": [
    {
     "name": "stdout",
     "output_type": "stream",
     "text": [
      "{'apiVersion': '2024-11-30', 'modelId': 'prebuilt-layout', 'stringIndexType': 'textElements', 'content': 'UNITED STATES SECURITIES AND EXCHANGE COMMISSION Washington, D.C. 20549\\nFORM 10-Q\\n☐ ☒ :selected: QUARTERLY REPORT PURSUANT TO SECTION 13 OR 15(d) OF THE SECURITIES EXCHANGE ACT OF 1934 For the Quarterly Period Ended March 31, 2020 OR :unselected: TRANSITION REPORT PURSUANT TO SECTION 13 OR 15(d) OF THE SECURITIES EXCHANGE ACT OF 1934 For the Transition Period From to\\nCommission File Number 001-37845\\nMICROSOFT CORPORATION\\nWASHINGTON (STATE OF INCORPORATION) ONE MICROSOFT WAY, REDMOND, WASHINGTON 98052-6399 (425) 882-8080 www.microsoft.com/investor\\n91-1144442 (I.R.S. ID)\\nSecurities registered pursuant to Section 12(b) of the Act:\\nTitle of each class\\nTrading Symbol\\nName of exchange on which registered\\nCommon stock, $0.00000625 par value per share\\nMSFT\\nNASDAQ\\n2.125% Notes due 2021\\nMSFT\\nNASDAQ\\n3.125% Notes due 2028\\nMSFT\\nNASDAQ\\n2.625% Notes due 2033\\nMSFT\\nNASDAQ\\nSecurities registered pursuant to Section 12(g) of the Act: NONE\\nIndicate by check mark whether the registrant (1) has filed all reports required to be filed by Section 13 or 15(d) of the Securities Exchange Act of 1934 during the preceding 12 months (or for such shorter period that the registrant was required to file such reports), and (2) has been subject to such filing requirements for the past 90 days. Yes :unselected: No :selected:\\nIndicate by check mark whether the registrant has submitted electronically every Interactive Data File required to be submitted pursuant to Rule 405 of Regulation S-T (§232.405 of this chapter) during the preceding 12 months (or for such shorter period that the registrant was required to submit such files). :selected: Yes :unselected: No\\nIndicate by check mark whether the registrant is a large accelerated filer, an accelerated filer, a non-accelerated filer, a smaller reporting company, or an emerging growth company. See the definitions of \"large accelerated filer,\" \"accelerated filer,\" \"smaller reporting company,\" and \"emerging growth company\" in Rule 12b-2 of the Exchange Act. :selected: Large accelerated filer Non-accelerated filer :unselected: :unselected: Accelerated filer Smaller reporting company Emerging growth company :unselected: :unselected:\\nIf an emerging growth company, indicate by check mark if the registrant has elected not to use the extended transition period for complying with any new or revised financial accounting standards provided pursuant to Section 13(a) of the Exchange Act. :unselected:\\nIndicate by check mark whether the registrant is a shell company (as defined in Rule 12b-2 of the Exchange Act). Yes :unselected: No :selected:\\nIndicate the number of shares outstanding of each of the issuer\\'s classes of common stock, as of the latest practicable date.\\nClass\\nOutstanding as of April 24, 2020\\nCommon Stock, $0.00000625 par value per share\\n7,583,440,247 shares', 'pages': [{'pageNumber': 1, 'angle': -0.017500000074505806, 'width': 8.5, 'height': 11, 'unit': 'inch', 'words': [{'content': 'UNITED', 'polygon': [3.4698, 0.6569, 4.1904, 0.6572, 4.19, 0.847, 3.4692, 0.847], 'confidence': 0.997, 'span': {'offset': 0, 'length': 6}}, {'content': 'STATES', 'polygon': [4.2593, 0.6571, 5.0247, 0.6578, 5.0247, 0.847, 4.259, 0.847], 'confidence': 0.998, 'span': {'offset': 7, 'length': 6}}, {'content': 'SECURITIES', 'polygon': [2.1762, 0.8727, 3.3448, 0.8734, 3.3443, 1.0774, 2.1754, 1.0763], 'confidence': 0.993, 'span': {'offset': 14, 'length': 10}}, {'content': 'AND', 'polygon': [3.4044, 0.8735, 3.8182, 0.8734, 3.818, 1.0759, 3.4039, 1.0772], 'confidence': 0.998, 'span': {'offset': 25, 'length': 3}}, {'content': 'EXCHANGE', 'polygon': [3.8911, 0.8731, 4.9736, 0.8762, 4.9733, 1.0753, 3.8909, 1.0757], 'confidence': 0.992, 'span': {'offset': 29, 'length': 8}}, {'content': 'COMMISSION', 'polygon': [5.0431, 0.8763, 6.3197, 0.8736, 6.3197, 1.075, 5.0428, 1.0749], 'confidence': 0.992, 'span': {'offset': 38, 'length': 10}}, {'content': 'Washington,', 'polygon': [3.4519, 1.0922, 4.2875, 1.091, 4.2877, 1.2567, 3.4518, 1.2567], 'confidence': 0.995, 'span': {'offset': 49, 'length': 11}}, {'content': 'D.C.', 'polygon': [4.3387, 1.0909, 4.6029, 1.0903, 4.603, 1.2549, 4.3389, 1.2567], 'confidence': 0.993, 'span': {'offset': 61, 'length': 4}}, {'content': '20549', 'polygon': [4.6514, 1.09, 5.0413, 1.0887, 5.0413, 1.2507, 4.6513, 1.2541], 'confidence': 0.995, 'span': {'offset': 66, 'length': 5}}, {'content': 'FORM', 'polygon': [3.7122, 1.3958, 4.2804, 1.3969, 4.2803, 1.5888, 3.7118, 1.588], 'confidence': 0.992, 'span': {'offset': 72, 'length': 4}}, {'content': '10-Q', 'polygon': [4.3561, 1.3981, 4.7868, 1.3942, 4.7868, 1.5888, 4.356, 1.5888], 'confidence': 0.992, 'span': {'offset': 77, 'length': 4}}, {'content': '☐', 'polygon': [0.6694, 2.6955, 0.777, 2.6955, 0.777, 2.8042, 0.6694, 2.8042], 'confidence': 1, 'span': {'offset': 82, 'length': 1}}, {'content': '☒', 'polygon': [0.6694, 1.7746, 0.7764, 1.7746, 0.7764, 1.8833, 0.6694, 1.8833], 'confidence': 1, 'span': {'offset': 84, 'length': 1}}, {'content': 'QUARTERLY', 'polygon': [0.9804, 1.7502, 1.8533, 1.749, 1.8528, 1.9154, 0.9801, 1.9141], 'confidence': 0.993, 'span': {'offset': 97, 'length': 9}}, {'content': 'REPORT', 'polygon': [1.9029, 1.7488, 2.4729, 1.7492, 2.4723, 1.9155, 1.9024, 1.9155], 'confidence': 0.995, 'span': {'offset': 107, 'length': 6}}, {'content': 'PURSUANT', 'polygon': [2.5252, 1.7491, 3.2908, 1.7481, 3.2903, 1.9154, 2.5246, 1.9155], 'confidence': 0.994, 'span': {'offset': 114, 'length': 8}}, {'content': 'TO', 'polygon': [3.3348, 1.7481, 3.5249, 1.748, 3.5244, 1.9154, 3.3343, 1.9153], 'confidence': 0.997, 'span': {'offset': 123, 'length': 2}}, {'content': 'SECTION', 'polygon': [3.5744, 1.7479, 4.1803, 1.7477, 4.1798, 1.9155, 3.574, 1.9155], 'confidence': 0.994, 'span': {'offset': 126, 'length': 7}}, {'content': '13', 'polygon': [4.2408, 1.7477, 4.384, 1.7477, 4.3835, 1.9155, 4.2404, 1.9155], 'confidence': 0.994, 'span': {'offset': 134, 'length': 2}}, {'content': 'OR', 'polygon': [4.4364, 1.7477, 4.6401, 1.7477, 4.6397, 1.9155, 4.4358, 1.9155], 'confidence': 0.998, 'span': {'offset': 137, 'length': 2}}, {'content': '15(d)', 'polygon': [4.6897, 1.7478, 5.0091, 1.7476, 5.0088, 1.9155, 4.6893, 1.9155], 'confidence': 0.992, 'span': {'offset': 140, 'length': 5}}, {'content': 'OF', 'polygon': [5.0615, 1.7474, 5.2487, 1.747, 5.2484, 1.9155, 5.0611, 1.9155], 'confidence': 0.998, 'span': {'offset': 146, 'length': 2}}, {'content': 'THE', 'polygon': [5.2928, 1.7469, 5.5682, 1.7467, 5.5677, 1.9155, 5.2924, 1.9155], 'confidence': 0.999, 'span': {'offset': 149, 'length': 3}}, {'content': 'SECURITIES', 'polygon': [5.6205, 1.7466, 6.4466, 1.7468, 6.4461, 1.9155, 5.62, 1.9155], 'confidence': 0.992, 'span': {'offset': 153, 'length': 10}}, {'content': 'EXCHANGE', 'polygon': [6.5017, 1.7467, 7.2783, 1.746, 7.2777, 1.9147, 6.5012, 1.9155], 'confidence': 0.993, 'span': {'offset': 164, 'length': 8}}, {'content': 'ACT', 'polygon': [7.3251, 1.7459, 7.6115, 1.7459, 7.611, 1.9155, 7.3245, 1.9147], 'confidence': 0.995, 'span': {'offset': 173, 'length': 3}}, {'content': 'OF', 'polygon': [7.6583, 1.746, 7.8581, 1.746, 7.8581, 1.9155, 7.6578, 1.9155], 'confidence': 0.998, 'span': {'offset': 177, 'length': 2}}, {'content': '1934', 'polygon': [0.9895, 1.9378, 1.306, 1.9375, 1.306, 2.0705, 0.9894, 2.0698], 'confidence': 0.992, 'span': {'offset': 180, 'length': 4}}, {'content': 'For', 'polygon': [0.9808, 2.1373, 1.167, 2.1371, 1.1668, 2.2753, 0.9805, 2.2736], 'confidence': 0.997, 'span': {'offset': 185, 'length': 3}}, {'content': 'the', 'polygon': [1.1969, 2.1371, 1.3601, 2.1372, 1.3596, 2.2753, 1.1967, 2.2753], 'confidence': 0.999, 'span': {'offset': 189, 'length': 3}}, {'content': 'Quarterly', 'polygon': [1.3969, 2.1371, 1.8887, 2.1356, 1.8881, 2.2753, 1.3964, 2.2753], 'confidence': 0.995, 'span': {'offset': 193, 'length': 9}}, {'content': 'Period', 'polygon': [1.9255, 2.1355, 2.261, 2.1344, 2.2602, 2.2753, 1.9249, 2.2753], 'confidence': 0.997, 'span': {'offset': 203, 'length': 6}}, {'content': 'Ended', 'polygon': [2.3001, 2.1346, 2.6311, 2.134, 2.6302, 2.275, 2.2992, 2.2753], 'confidence': 0.998, 'span': {'offset': 210, 'length': 5}}, {'content': 'March', 'polygon': [2.6747, 2.1339, 2.9896, 2.1338, 2.9886, 2.2752, 2.6738, 2.275], 'confidence': 0.998, 'span': {'offset': 216, 'length': 5}}, {'content': '31,', 'polygon': [3.0287, 2.1338, 3.1758, 2.1331, 3.1749, 2.2751, 3.0277, 2.2751], 'confidence': 0.992, 'span': {'offset': 222, 'length': 3}}, {'content': '2020', 'polygon': [3.2103, 2.1328, 3.4697, 2.1306, 3.4697, 2.2741, 3.2094, 2.2751], 'confidence': 0.991, 'span': {'offset': 226, 'length': 4}}, {'content': 'OR', 'polygon': [4.1328, 2.2763, 4.3714, 2.2765, 4.3707, 2.4228, 4.1317, 2.4217], 'confidence': 0.996, 'span': {'offset': 231, 'length': 2}}, {'content': 'TRANSITION', 'polygon': [0.9753, 2.6737, 1.8271, 2.6733, 1.8266, 2.8398, 0.9749, 2.8372], 'confidence': 0.992, 'span': {'offset': 247, 'length': 10}}, {'content': 'REPORT', 'polygon': [1.8905, 2.6731, 2.4584, 2.6732, 2.4577, 2.8399, 1.89, 2.8398], 'confidence': 0.995, 'span': {'offset': 258, 'length': 6}}, {'content': 'PURSUANT', 'polygon': [2.5136, 2.6733, 3.2772, 2.6731, 3.2766, 2.8394, 2.5128, 2.8399], 'confidence': 0.994, 'span': {'offset': 265, 'length': 8}}, {'content': 'TO', 'polygon': [3.324, 2.673, 3.5142, 2.6726, 3.5137, 2.8394, 3.3235, 2.8393], 'confidence': 0.997, 'span': {'offset': 274, 'length': 2}}, {'content': 'SECTION', 'polygon': [3.5639, 2.6725, 4.1703, 2.6717, 4.1698, 2.8421, 3.5633, 2.8396], 'confidence': 0.993, 'span': {'offset': 277, 'length': 7}}, {'content': '13', 'polygon': [4.231, 2.6717, 4.3743, 2.6715, 4.3737, 2.8431, 4.2304, 2.8424], 'confidence': 0.995, 'span': {'offset': 285, 'length': 2}}, {'content': 'OR', 'polygon': [4.4267, 2.6715, 4.6307, 2.6717, 4.6302, 2.8429, 4.4261, 2.8433], 'confidence': 0.998, 'span': {'offset': 288, 'length': 2}}, {'content': '15(d)', 'polygon': [4.6859, 2.6717, 5.0029, 2.6719, 5.0025, 2.8426, 4.6853, 2.8428], 'confidence': 0.991, 'span': {'offset': 291, 'length': 5}}, {'content': 'OF', 'polygon': [5.0552, 2.6718, 5.2427, 2.6716, 5.2423, 2.8429, 5.0549, 2.8427], 'confidence': 0.999, 'span': {'offset': 297, 'length': 2}}, {'content': 'THE', 'polygon': [5.2896, 2.6716, 5.5652, 2.6714, 5.5648, 2.8425, 5.2892, 2.843], 'confidence': 0.998, 'span': {'offset': 300, 'length': 3}}, {'content': 'SECURITIES', 'polygon': [5.6204, 2.6714, 6.4419, 2.6717, 6.4413, 2.8411, 5.6199, 2.8423], 'confidence': 0.993, 'span': {'offset': 304, 'length': 10}}, {'content': 'EXCHANGE', 'polygon': [6.4998, 2.6716, 7.2772, 2.6711, 7.2765, 2.8408, 6.4992, 2.8412], 'confidence': 0.995, 'span': {'offset': 315, 'length': 8}}, {'content': 'ACT', 'polygon': [7.324, 2.671, 7.6107, 2.6723, 7.61, 2.8411, 7.3233, 2.8408], 'confidence': 0.996, 'span': {'offset': 324, 'length': 3}}, {'content': 'OF', 'polygon': [7.6603, 2.6726, 7.8581, 2.6736, 7.8581, 2.8415, 7.6596, 2.8412], 'confidence': 0.998, 'span': {'offset': 328, 'length': 2}}, {'content': '1934', 'polygon': [0.9901, 2.8615, 1.306, 2.8618, 1.306, 2.9974, 0.9901, 2.9964], 'confidence': 0.988, 'span': {'offset': 331, 'length': 4}}, {'content': 'For', 'polygon': [0.9795, 3.0645, 1.1674, 3.0649, 1.1672, 3.1925, 0.9792, 3.1913], 'confidence': 0.999, 'span': {'offset': 336, 'length': 3}}, {'content': 'the', 'polygon': [1.197, 3.0651, 1.3617, 3.064, 1.3612, 3.1917, 1.1968, 3.1925], 'confidence': 0.998, 'span': {'offset': 340, 'length': 3}}, {'content': 'Transition', 'polygon': [1.3934, 3.0641, 1.9256, 3.0645, 1.9248, 3.1937, 1.3929, 3.1919], 'confidence': 0.995, 'span': {'offset': 344, 'length': 10}}, {'content': 'Period', 'polygon': [1.9679, 3.0644, 2.3037, 3.0637, 2.3026, 3.1943, 1.967, 3.1937], 'confidence': 0.995, 'span': {'offset': 355, 'length': 6}}, {'content': 'From', 'polygon': [2.3438, 3.0635, 2.623, 3.0638, 2.623, 3.193, 2.3428, 3.1943], 'confidence': 0.992, 'span': {'offset': 362, 'length': 4}}, {'content': 'to', 'polygon': [3.1613, 3.0765, 3.2816, 3.0777, 3.2816, 3.1824, 3.1609, 3.1827], 'confidence': 0.998, 'span': {'offset': 367, 'length': 2}}, {'content': 'Commission', 'polygon': [3.2297, 3.2461, 3.9403, 3.2444, 3.9397, 3.3821, 3.2296, 3.3809], 'confidence': 0.993, 'span': {'offset': 370, 'length': 10}}, {'content': 'File', 'polygon': [3.9853, 3.2442, 4.1786, 3.2435, 4.1781, 3.3822, 3.9846, 3.3822], 'confidence': 0.995, 'span': {'offset': 381, 'length': 4}}, {'content': 'Number', 'polygon': [4.2191, 3.2435, 4.6643, 3.2435, 4.6637, 3.3817, 4.2186, 3.3822], 'confidence': 0.996, 'span': {'offset': 386, 'length': 6}}, {'content': '001-37845', 'polygon': [4.6958, 3.2435, 5.2682, 3.2427, 5.2682, 3.3796, 4.6952, 3.3817], 'confidence': 0.994, 'span': {'offset': 393, 'length': 9}}, {'content': 'MICROSOFT', 'polygon': [2.5246, 3.5363, 4.0223, 3.5346, 4.0216, 3.7774, 2.5241, 3.7797], 'confidence': 0.993, 'span': {'offset': 403, 'length': 9}}, {'content': 'CORPORATION', 'polygon': [4.1059, 3.5348, 5.971, 3.5327, 5.971, 3.7772, 4.1053, 3.7772], 'confidence': 0.994, 'span': {'offset': 413, 'length': 11}}, {'content': 'WASHINGTON', 'polygon': [1.9861, 3.9437, 2.8278, 3.9434, 2.8275, 4.0705, 1.9861, 4.0678], 'confidence': 0.995, 'span': {'offset': 425, 'length': 10}}, {'content': '(STATE', 'polygon': [1.7034, 4.0794, 2.0564, 4.0783, 2.0564, 4.2014, 1.7035, 4.2018], 'confidence': 0.995, 'span': {'offset': 436, 'length': 6}}, {'content': 'OF', 'polygon': [2.0887, 4.0783, 2.2036, 4.0778, 2.2035, 4.2011, 2.0887, 4.2012], 'confidence': 0.998, 'span': {'offset': 443, 'length': 2}}, {'content': 'INCORPORATION)', 'polygon': [2.2278, 4.0778, 3.1154, 4.0775, 3.115, 4.2006, 2.2277, 4.201], 'confidence': 0.994, 'span': {'offset': 446, 'length': 14}}, {'content': 'ONE', 'polygon': [2.5798, 4.2592, 2.8087, 4.2597, 2.8085, 4.3946, 2.5797, 4.3925], 'confidence': 0.997, 'span': {'offset': 461, 'length': 3}}, {'content': 'MICROSOFT', 'polygon': [2.8376, 4.2597, 3.5244, 4.2597, 3.5237, 4.3956, 2.8374, 4.3948], 'confidence': 0.994, 'span': {'offset': 465, 'length': 9}}, {'content': 'WAY,', 'polygon': [3.5555, 4.2598, 3.84, 4.2604, 3.8394, 4.395, 3.5549, 4.3956], 'confidence': 0.992, 'span': {'offset': 475, 'length': 4}}, {'content': 'REDMOND,', 'polygon': [3.8822, 4.2604, 4.4757, 4.26, 4.4751, 4.3955, 3.8816, 4.3948], 'confidence': 0.995, 'span': {'offset': 480, 'length': 8}}, {'content': 'WASHINGTON', 'polygon': [4.5112, 4.2599, 5.278, 4.2586, 5.2771, 4.3945, 4.5106, 4.3956], 'confidence': 0.994, 'span': {'offset': 489, 'length': 10}}, {'content': '98052-6399', 'polygon': [5.3158, 4.2587, 5.9157, 4.2578, 5.9157, 4.3942, 5.3149, 4.3946], 'confidence': 0.994, 'span': {'offset': 500, 'length': 10}}, {'content': '(425)', 'polygon': [3.866, 4.3979, 4.1219, 4.3964, 4.1221, 4.5217, 3.8663, 4.5223], 'confidence': 0.995, 'span': {'offset': 511, 'length': 5}}, {'content': '882-8080', 'polygon': [4.1588, 4.3963, 4.6358, 4.3951, 4.6353, 4.5188, 4.159, 4.5215], 'confidence': 0.994, 'span': {'offset': 517, 'length': 8}}, {'content': 'www.microsoft.com/investor', 'polygon': [3.4766, 4.5288, 5.0192, 4.5266, 5.0192, 4.6483, 3.4767, 4.6469], 'confidence': 0.976, 'span': {'offset': 526, 'length': 26}}, {'content': '91-1144442', 'polygon': [5.7634, 3.9454, 6.4137, 3.9453, 6.4137, 4.0692, 5.7634, 4.0715], 'confidence': 0.994, 'span': {'offset': 553, 'length': 10}}, {'content': '(I.R.S.', 'polygon': [5.8673, 4.0847, 6.1434, 4.0843, 6.1431, 4.2034, 5.8675, 4.2036], 'confidence': 0.96, 'span': {'offset': 564, 'length': 7}}, {'content': 'ID)', 'polygon': [6.1784, 4.0843, 6.3141, 4.0838, 6.3141, 4.2015, 6.178, 4.2028], 'confidence': 0.989, 'span': {'offset': 572, 'length': 3}}, {'content': 'Securities', 'polygon': [0.6225, 4.7155, 1.1299, 4.7167, 1.1295, 4.8646, 0.6221, 4.8611], 'confidence': 0.992, 'span': {'offset': 576, 'length': 10}}, {'content': 'registered', 'polygon': [1.1592, 4.7166, 1.6984, 4.7163, 1.6979, 4.8656, 1.1588, 4.8647], 'confidence': 0.992, 'span': {'offset': 587, 'length': 10}}, {'content': 'pursuant', 'polygon': [1.7399, 4.7164, 2.1985, 4.7167, 2.1978, 4.8661, 1.7394, 4.8657], 'confidence': 0.992, 'span': {'offset': 598, 'length': 8}}, {'content': 'to', 'polygon': [2.2278, 4.7166, 2.3254, 4.7163, 2.3246, 4.8654, 2.227, 4.866], 'confidence': 0.998, 'span': {'offset': 607, 'length': 2}}, {'content': 'Section', 'polygon': [2.362, 4.7162, 2.7499, 4.7156, 2.7493, 4.8658, 2.3613, 4.8652], 'confidence': 0.994, 'span': {'offset': 610, 'length': 7}}, {'content': '12(b)', 'polygon': [2.7962, 4.7155, 3.0622, 4.7156, 3.0615, 4.8651, 2.7957, 4.8658], 'confidence': 0.994, 'span': {'offset': 618, 'length': 5}}, {'content': 'of', 'polygon': [3.0963, 4.7156, 3.1793, 4.7157, 3.1786, 4.8652, 3.0957, 4.8651], 'confidence': 0.992, 'span': {'offset': 624, 'length': 2}}, {'content': 'the', 'polygon': [3.2085, 4.7157, 3.3866, 4.7148, 3.3859, 4.8646, 3.2079, 4.8652], 'confidence': 0.998, 'span': {'offset': 627, 'length': 3}}, {'content': 'Act:', 'polygon': [3.4184, 4.7146, 3.6357, 4.7142, 3.6357, 4.8631, 3.4176, 4.8644], 'confidence': 0.987, 'span': {'offset': 631, 'length': 4}}, {'content': 'Title', 'polygon': [0.6241, 4.9446, 0.8474, 4.9467, 0.8469, 5.0811, 0.6241, 5.0805], 'confidence': 0.995, 'span': {'offset': 636, 'length': 5}}, {'content': 'of', 'polygon': [0.885, 4.9467, 0.9889, 4.9467, 0.9884, 5.0817, 0.8844, 5.0813], 'confidence': 0.998, 'span': {'offset': 642, 'length': 2}}, {'content': 'each', 'polygon': [1.0154, 4.9463, 1.2675, 4.9474, 1.2671, 5.0819, 1.015, 5.0817], 'confidence': 0.992, 'span': {'offset': 645, 'length': 4}}, {'content': 'class', 'polygon': [1.3028, 4.9475, 1.5827, 4.947, 1.5827, 5.082, 1.3025, 5.082], 'confidence': 0.996, 'span': {'offset': 650, 'length': 5}}, {'content': 'Trading', 'polygon': [4.332, 4.9449, 4.7359, 4.9455, 4.7356, 5.0876, 4.3319, 5.0876], 'confidence': 0.995, 'span': {'offset': 656, 'length': 7}}, {'content': 'Symbol', 'polygon': [4.7761, 4.9456, 5.1742, 4.9442, 5.1742, 5.0876, 4.7758, 5.0876], 'confidence': 0.995, 'span': {'offset': 664, 'length': 6}}, {'content': 'Name', 'polygon': [5.5722, 4.946, 5.8954, 4.9473, 5.8951, 5.0892, 5.5721, 5.087], 'confidence': 0.992, 'span': {'offset': 671, 'length': 4}}, {'content': 'of', 'polygon': [5.9303, 4.9472, 6.0349, 4.947, 6.0345, 5.0897, 5.9299, 5.0894], 'confidence': 0.998, 'span': {'offset': 676, 'length': 2}}, {'content': 'exchange', 'polygon': [6.0628, 4.9471, 6.5696, 4.9483, 6.5693, 5.0904, 6.0624, 5.0897], 'confidence': 0.992, 'span': {'offset': 679, 'length': 8}}, {'content': 'on', 'polygon': [6.6045, 4.9482, 6.7324, 4.9477, 6.7321, 5.0904, 6.6042, 5.0905], 'confidence': 0.999, 'span': {'offset': 688, 'length': 2}}, {'content': 'which', 'polygon': [6.7673, 4.9476, 7.0672, 4.9475, 7.0665, 5.0898, 6.767, 5.0902], 'confidence': 0.997, 'span': {'offset': 691, 'length': 5}}, {'content': 'registered', 'polygon': [7.1091, 4.9477, 7.6423, 4.9464, 7.6423, 5.0881, 7.1085, 5.0901], 'confidence': 0.993, 'span': {'offset': 697, 'length': 10}}, {'content': 'Common', 'polygon': [0.6238, 5.1557, 1.1341, 5.1554, 1.1337, 5.2969, 0.6235, 5.2948], 'confidence': 0.997, 'span': {'offset': 708, 'length': 6}}, {'content': 'stock,', 'polygon': [1.1741, 5.155, 1.5056, 5.155, 1.5052, 5.2981, 1.1737, 5.2968], 'confidence': 0.992, 'span': {'offset': 715, 'length': 6}}, {'content': '$0.00000625', 'polygon': [1.5479, 5.155, 2.2228, 5.1556, 2.2218, 5.3009, 1.5475, 5.2983], 'confidence': 0.993, 'span': {'offset': 722, 'length': 11}}, {'content': 'par', 'polygon': [2.251, 5.1556, 2.4533, 5.1554, 2.4524, 5.3008, 2.25, 5.3008], 'confidence': 0.998, 'span': {'offset': 734, 'length': 3}}, {'content': 'value', 'polygon': [2.4815, 5.1554, 2.7825, 5.1564, 2.7818, 5.3012, 2.4807, 5.3008], 'confidence': 0.995, 'span': {'offset': 738, 'length': 5}}, {'content': 'per', 'polygon': [2.8224, 5.1566, 3.0059, 5.1574, 3.0053, 5.3022, 2.8218, 5.3014], 'confidence': 0.998, 'span': {'offset': 744, 'length': 3}}, {'content': 'share', 'polygon': [3.0364, 5.1572, 3.359, 5.1561, 3.359, 5.3006, 3.0358, 5.302], 'confidence': 0.998, 'span': {'offset': 748, 'length': 5}}, {'content': 'MSFT', 'polygon': [4.5857, 5.1595, 4.9196, 5.1585, 4.9196, 5.2842, 4.5853, 5.2844], 'confidence': 0.99, 'span': {'offset': 754, 'length': 4}}, {'content': 'NASDAQ', 'polygon': [6.3433, 5.1564, 6.873, 5.1572, 6.873, 5.2864, 6.3434, 5.2864], 'confidence': 0.995, 'span': {'offset': 759, 'length': 6}}, {'content': '2.125%', 'polygon': [0.6184, 5.3113, 1.0238, 5.3101, 1.0236, 5.4469, 0.6183, 5.4462], 'confidence': 0.995, 'span': {'offset': 766, 'length': 6}}, {'content': 'Notes', 'polygon': [1.0664, 5.3101, 1.3845, 5.3096, 1.3842, 5.4466, 1.0662, 5.4473], 'confidence': 0.996, 'span': {'offset': 773, 'length': 5}}, {'content': 'due', 'polygon': [1.4248, 5.31, 1.6309, 5.3097, 1.6307, 5.4474, 1.4246, 5.4464], 'confidence': 0.997, 'span': {'offset': 779, 'length': 3}}, {'content': '2021', 'polygon': [1.6645, 5.3097, 1.9258, 5.3094, 1.9258, 5.4464, 1.6642, 5.4474], 'confidence': 0.992, 'span': {'offset': 783, 'length': 4}}, {'content': 'MSFT', 'polygon': [4.5873, 5.3148, 4.9196, 5.3153, 4.9196, 5.4379, 4.5869, 5.4386], 'confidence': 0.989, 'span': {'offset': 788, 'length': 4}}, {'content': 'NASDAQ', 'polygon': [6.3438, 5.3134, 6.873, 5.3147, 6.873, 5.4409, 6.3437, 5.4419], 'confidence': 0.996, 'span': {'offset': 793, 'length': 6}}, {'content': '3.125%', 'polygon': [0.6216, 5.4716, 1.0249, 5.4708, 1.0246, 5.6063, 0.6216, 5.6055], 'confidence': 0.995, 'span': {'offset': 800, 'length': 6}}, {'content': 'Notes', 'polygon': [1.0647, 5.4711, 1.3861, 5.4716, 1.3858, 5.6065, 1.0645, 5.6063], 'confidence': 0.996, 'span': {'offset': 807, 'length': 5}}, {'content': 'due', 'polygon': [1.4237, 5.4717, 1.6298, 5.4717, 1.6296, 5.6079, 1.4235, 5.6064], 'confidence': 0.995, 'span': {'offset': 813, 'length': 3}}, {'content': '2028', 'polygon': [1.6653, 5.4717, 1.9368, 5.4716, 1.9368, 5.6065, 1.665, 5.608], 'confidence': 0.992, 'span': {'offset': 817, 'length': 4}}, {'content': 'MSFT', 'polygon': [4.5864, 5.4747, 4.9196, 5.474, 4.9196, 5.5986, 4.5858, 5.5993], 'confidence': 0.989, 'span': {'offset': 822, 'length': 4}}, {'content': 'NASDAQ', 'polygon': [6.3444, 5.4735, 6.873, 5.476, 6.873, 5.6018, 6.344, 5.6006], 'confidence': 0.995, 'span': {'offset': 827, 'length': 6}}, {'content': '2.625%', 'polygon': [0.6187, 5.6268, 1.0141, 5.6269, 1.0138, 5.7613, 0.6187, 5.7613], 'confidence': 0.995, 'span': {'offset': 834, 'length': 6}}, {'content': 'Notes', 'polygon': [1.0404, 5.627, 1.3853, 5.6268, 1.385, 5.7608, 1.0402, 5.7614], 'confidence': 0.993, 'span': {'offset': 841, 'length': 5}}, {'content': 'due', 'polygon': [1.4226, 5.6271, 1.6313, 5.6265, 1.6309, 5.761, 1.4224, 5.7608], 'confidence': 0.997, 'span': {'offset': 847, 'length': 3}}, {'content': '2033', 'polygon': [1.6642, 5.6264, 1.9366, 5.6266, 1.9363, 5.7602, 1.6639, 5.761], 'confidence': 0.991, 'span': {'offset': 851, 'length': 4}}, {'content': 'MSFT', 'polygon': [4.5872, 5.6291, 4.9196, 5.629, 4.9196, 5.7533, 4.5865, 5.7551], 'confidence': 0.985, 'span': {'offset': 856, 'length': 4}}, {'content': 'NASDAQ', 'polygon': [6.3433, 5.6281, 6.873, 5.63, 6.873, 5.7574, 6.3429, 5.7572], 'confidence': 0.994, 'span': {'offset': 861, 'length': 6}}, {'content': 'Securities', 'polygon': [0.6228, 5.8229, 1.1311, 5.8232, 1.1307, 5.9738, 0.6226, 5.9708], 'confidence': 0.992, 'span': {'offset': 868, 'length': 10}}, {'content': 'registered', 'polygon': [1.1609, 5.823, 1.6966, 5.8218, 1.6961, 5.975, 1.1606, 5.9739], 'confidence': 0.993, 'span': {'offset': 879, 'length': 10}}, {'content': 'pursuant', 'polygon': [1.7414, 5.8221, 2.1973, 5.8238, 2.1965, 5.9757, 1.7409, 5.9751], 'confidence': 0.993, 'span': {'offset': 890, 'length': 8}}, {'content': 'to', 'polygon': [2.2272, 5.8238, 2.3243, 5.8236, 2.3236, 5.9754, 2.2264, 5.9756], 'confidence': 0.997, 'span': {'offset': 899, 'length': 2}}, {'content': 'Section', 'polygon': [2.3617, 5.8235, 2.7503, 5.8216, 2.7497, 5.976, 2.3609, 5.9753], 'confidence': 0.995, 'span': {'offset': 902, 'length': 7}}, {'content': '12(g)', 'polygon': [2.7952, 5.8214, 3.0617, 5.8216, 3.0608, 5.9751, 2.7945, 5.976], 'confidence': 0.992, 'span': {'offset': 910, 'length': 5}}, {'content': 'of', 'polygon': [3.0966, 5.8216, 3.1838, 5.8216, 3.1828, 5.9753, 3.0956, 5.9752], 'confidence': 0.992, 'span': {'offset': 916, 'length': 2}}, {'content': 'the', 'polygon': [3.2137, 5.8215, 3.3881, 5.8213, 3.3872, 5.9739, 3.2127, 5.9752], 'confidence': 0.995, 'span': {'offset': 919, 'length': 3}}, {'content': 'Act:', 'polygon': [3.418, 5.8212, 3.6357, 5.82, 3.6357, 5.9717, 3.4171, 5.9736], 'confidence': 0.989, 'span': {'offset': 923, 'length': 4}}, {'content': 'NONE', 'polygon': [0.6199, 6.0604, 0.9791, 6.0599, 0.9786, 6.1873, 0.6199, 6.188], 'confidence': 0.992, 'span': {'offset': 928, 'length': 4}}, {'content': 'Indicate', 'polygon': [0.641, 6.2425, 1.04, 6.2427, 1.0397, 6.3932, 0.6406, 6.3922], 'confidence': 0.992, 'span': {'offset': 933, 'length': 8}}, {'content': 'by', 'polygon': [1.0699, 6.2427, 1.2171, 6.2429, 1.2168, 6.3936, 1.0697, 6.3932], 'confidence': 0.995, 'span': {'offset': 942, 'length': 2}}, {'content': 'check', 'polygon': [1.2495, 6.243, 1.5388, 6.2439, 1.5385, 6.3941, 1.2492, 6.3937], 'confidence': 0.996, 'span': {'offset': 945, 'length': 5}}, {'content': 'mark', 'polygon': [1.5687, 6.244, 1.853, 6.2438, 1.8525, 6.3941, 1.5684, 6.3941], 'confidence': 0.992, 'span': {'offset': 951, 'length': 4}}, {'content': 'whether', 'polygon': [1.883, 6.2437, 2.287, 6.2429, 2.2861, 6.3941, 1.8824, 6.3941], 'confidence': 0.994, 'span': {'offset': 956, 'length': 7}}, {'content': 'the', 'polygon': [2.3169, 6.2429, 2.4766, 6.2429, 2.4759, 6.3941, 2.3161, 6.3941], 'confidence': 0.995, 'span': {'offset': 964, 'length': 3}}, {'content': 'registrant', 'polygon': [2.5065, 6.2429, 3.0252, 6.2425, 3.0249, 6.3941, 2.5058, 6.3941], 'confidence': 0.992, 'span': {'offset': 968, 'length': 10}}, {'content': '(1)', 'polygon': [3.0577, 6.2424, 3.1749, 6.2423, 3.1746, 6.3941, 3.0573, 6.3941], 'confidence': 0.992, 'span': {'offset': 979, 'length': 3}}, {'content': 'has', 'polygon': [3.2048, 6.2423, 3.4193, 6.2423, 3.4189, 6.3941, 3.2045, 6.3941], 'confidence': 0.996, 'span': {'offset': 983, 'length': 3}}, {'content': 'filed', 'polygon': [3.4517, 6.2423, 3.6637, 6.2423, 3.6633, 6.3941, 3.4514, 6.3941], 'confidence': 0.994, 'span': {'offset': 987, 'length': 5}}, {'content': 'all', 'polygon': [3.7036, 6.2423, 3.8034, 6.2421, 3.803, 6.3941, 3.7032, 6.3941], 'confidence': 0.995, 'span': {'offset': 993, 'length': 3}}, {'content': 'reports', 'polygon': [3.8333, 6.242, 4.2024, 6.241, 4.2021, 6.3936, 3.8329, 6.3941], 'confidence': 0.993, 'span': {'offset': 997, 'length': 7}}, {'content': 'required', 'polygon': [4.2323, 6.2409, 4.6813, 6.24, 4.6811, 6.3926, 4.232, 6.3935], 'confidence': 0.992, 'span': {'offset': 1005, 'length': 8}}, {'content': 'to', 'polygon': [4.7162, 6.2399, 4.8134, 6.2399, 4.8133, 6.3926, 4.716, 6.3925], 'confidence': 0.996, 'span': {'offset': 1014, 'length': 2}}, {'content': 'be', 'polygon': [4.8509, 6.24, 4.9756, 6.2401, 4.9753, 6.3931, 4.8507, 6.3927], 'confidence': 0.995, 'span': {'offset': 1017, 'length': 2}}, {'content': 'filed', 'polygon': [5.0055, 6.2401, 5.22, 6.2404, 5.2197, 6.3939, 5.0053, 6.3932], 'confidence': 0.993, 'span': {'offset': 1020, 'length': 5}}, {'content': 'by', 'polygon': [5.2624, 6.2404, 5.3846, 6.2406, 5.3843, 6.3941, 5.2621, 6.3941], 'confidence': 0.995, 'span': {'offset': 1026, 'length': 2}}, {'content': 'Section', 'polygon': [5.4145, 6.2407, 5.8036, 6.2413, 5.8031, 6.3941, 5.4142, 6.3941], 'confidence': 0.994, 'span': {'offset': 1029, 'length': 7}}, {'content': '13', 'polygon': [5.851, 6.2413, 5.9707, 6.2414, 5.9703, 6.3941, 5.8505, 6.3941], 'confidence': 0.984, 'span': {'offset': 1037, 'length': 2}}, {'content': 'or', 'polygon': [6.0031, 6.2414, 6.1128, 6.2415, 6.1125, 6.3941, 6.0027, 6.3941], 'confidence': 0.992, 'span': {'offset': 1040, 'length': 2}}, {'content': '15(d)', 'polygon': [6.1502, 6.2415, 6.4146, 6.2413, 6.4143, 6.3941, 6.1499, 6.3941], 'confidence': 0.992, 'span': {'offset': 1043, 'length': 5}}, {'content': 'of', 'polygon': [6.4495, 6.2412, 6.5268, 6.241, 6.5265, 6.3941, 6.4492, 6.3941], 'confidence': 0.997, 'span': {'offset': 1049, 'length': 2}}, {'content': 'the', 'polygon': [6.5568, 6.2409, 6.7388, 6.2403, 6.7384, 6.3939, 6.5564, 6.3941], 'confidence': 0.998, 'span': {'offset': 1052, 'length': 3}}, {'content': 'Securities', 'polygon': [6.7762, 6.2402, 7.29, 6.241, 7.2896, 6.3939, 6.7758, 6.3938], 'confidence': 0.992, 'span': {'offset': 1056, 'length': 10}}, {'content': 'Exchange', 'polygon': [7.3299, 6.241, 7.8581, 6.2444, 7.8581, 6.3941, 7.3295, 6.3939], 'confidence': 0.995, 'span': {'offset': 1067, 'length': 8}}, {'content': 'Act', 'polygon': [0.6443, 6.3838, 0.8213, 6.3837, 0.8211, 6.5284, 0.644, 6.5273], 'confidence': 0.995, 'span': {'offset': 1076, 'length': 3}}, {'content': 'of', 'polygon': [0.8601, 6.3837, 0.962, 6.3836, 0.9618, 6.5293, 0.8599, 6.5286], 'confidence': 0.998, 'span': {'offset': 1080, 'length': 2}}, {'content': '1934', 'polygon': [1.0032, 6.3836, 1.2554, 6.3843, 1.2552, 6.5312, 1.003, 6.5295], 'confidence': 0.989, 'span': {'offset': 1083, 'length': 4}}, {'content': 'during', 'polygon': [1.2967, 6.3846, 1.6216, 6.3869, 1.6212, 6.5341, 1.2964, 6.5316], 'confidence': 0.996, 'span': {'offset': 1088, 'length': 6}}, {'content': 'the', 'polygon': [1.6653, 6.3872, 1.8278, 6.3872, 1.8273, 6.5347, 1.6648, 6.5344], 'confidence': 0.996, 'span': {'offset': 1095, 'length': 3}}, {'content': 'preceding', 'polygon': [1.8739, 6.3872, 2.3856, 6.3862, 2.3852, 6.5338, 1.8734, 6.5347], 'confidence': 0.994, 'span': {'offset': 1099, 'length': 9}}, {'content': '12', 'polygon': [2.4365, 6.386, 2.5456, 6.3854, 2.5453, 6.5328, 2.4361, 6.5335], 'confidence': 0.995, 'span': {'offset': 1109, 'length': 2}}, {'content': 'months', 'polygon': [2.5748, 6.3853, 2.9822, 6.385, 2.9819, 6.5324, 2.5744, 6.5326], 'confidence': 0.997, 'span': {'offset': 1112, 'length': 6}}, {'content': '(or', 'polygon': [3.0283, 6.3851, 3.1714, 6.3852, 3.1711, 6.5328, 3.028, 6.5325], 'confidence': 0.994, 'span': {'offset': 1119, 'length': 3}}, {'content': 'for', 'polygon': [3.2053, 6.3853, 3.3484, 6.3852, 3.3481, 6.5327, 3.205, 6.5328], 'confidence': 0.997, 'span': {'offset': 1123, 'length': 3}}, {'content': 'such', 'polygon': [3.3872, 6.3851, 3.6297, 6.3849, 3.6295, 6.5323, 3.3869, 6.5326], 'confidence': 0.992, 'span': {'offset': 1127, 'length': 4}}, {'content': 'shorter', 'polygon': [3.6758, 6.3849, 4.0469, 6.3843, 4.0467, 6.5321, 3.6756, 6.5323], 'confidence': 0.993, 'span': {'offset': 1132, 'length': 7}}, {'content': 'period', 'polygon': [4.0857, 6.3842, 4.4058, 6.384, 4.4057, 6.5322, 4.0855, 6.532], 'confidence': 0.993, 'span': {'offset': 1140, 'length': 6}}, {'content': 'that', 'polygon': [4.4471, 6.384, 4.6484, 6.3841, 4.6482, 6.5325, 4.4469, 6.5322], 'confidence': 0.992, 'span': {'offset': 1147, 'length': 4}}, {'content': 'the', 'polygon': [4.6847, 6.3841, 4.8497, 6.3843, 4.8495, 6.5329, 4.6846, 6.5326], 'confidence': 0.998, 'span': {'offset': 1152, 'length': 3}}, {'content': 'registrant', 'polygon': [4.8933, 6.3844, 5.3832, 6.3853, 5.3831, 6.534, 4.8932, 6.533], 'confidence': 0.992, 'span': {'offset': 1156, 'length': 10}}, {'content': 'was', 'polygon': [5.4196, 6.3853, 5.6306, 6.3852, 5.6305, 6.5341, 5.4195, 6.534], 'confidence': 0.998, 'span': {'offset': 1167, 'length': 3}}, {'content': 'required', 'polygon': [5.6742, 6.3851, 6.0987, 6.3852, 6.0984, 6.5344, 5.6741, 6.5342], 'confidence': 0.993, 'span': {'offset': 1171, 'length': 8}}, {'content': 'to', 'polygon': [6.1447, 6.3852, 6.2418, 6.3853, 6.2415, 6.5345, 6.1445, 6.5344], 'confidence': 0.998, 'span': {'offset': 1180, 'length': 2}}, {'content': 'file', 'polygon': [6.2781, 6.3853, 6.4309, 6.3851, 6.4306, 6.5345, 6.2779, 6.5345], 'confidence': 0.992, 'span': {'offset': 1183, 'length': 4}}, {'content': 'such', 'polygon': [6.4746, 6.385, 6.7171, 6.3845, 6.7169, 6.5344, 6.4743, 6.5345], 'confidence': 0.992, 'span': {'offset': 1188, 'length': 4}}, {'content': 'reports),', 'polygon': [6.7656, 6.3844, 7.1949, 6.3851, 7.1947, 6.5344, 6.7654, 6.5344], 'confidence': 0.984, 'span': {'offset': 1193, 'length': 9}}, {'content': 'and', 'polygon': [7.241, 6.3852, 7.4326, 6.3851, 7.4324, 6.5344, 7.2408, 6.5344], 'confidence': 0.998, 'span': {'offset': 1203, 'length': 3}}, {'content': '(2)', 'polygon': [7.4811, 6.385, 7.6193, 6.3846, 7.6192, 6.5343, 7.4809, 6.5344], 'confidence': 0.992, 'span': {'offset': 1207, 'length': 3}}, {'content': 'has', 'polygon': [7.6605, 6.3845, 7.8636, 6.3839, 7.8636, 6.5341, 7.6604, 6.5343], 'confidence': 0.993, 'span': {'offset': 1211, 'length': 3}}, {'content': 'been', 'polygon': [0.6429, 6.5288, 0.9068, 6.529, 0.9068, 6.6764, 0.6427, 6.676], 'confidence': 0.989, 'span': {'offset': 1215, 'length': 4}}, {'content': 'subject', 'polygon': [0.9452, 6.5292, 1.317, 6.5297, 1.317, 6.6759, 0.9451, 6.6764], 'confidence': 0.995, 'span': {'offset': 1220, 'length': 7}}, {'content': 'to', 'polygon': [1.3482, 6.5297, 1.4466, 6.5297, 1.4465, 6.6758, 1.3481, 6.6758], 'confidence': 0.998, 'span': {'offset': 1228, 'length': 2}}, {'content': 'such', 'polygon': [1.4826, 6.5298, 1.7249, 6.53, 1.7248, 6.6764, 1.4825, 6.6759], 'confidence': 0.992, 'span': {'offset': 1231, 'length': 4}}, {'content': 'filing', 'polygon': [1.7633, 6.5299, 2.0032, 6.5296, 2.003, 6.6764, 1.7632, 6.6764], 'confidence': 0.995, 'span': {'offset': 1236, 'length': 6}}, {'content': 'requirements', 'polygon': [2.044, 6.5297, 2.7254, 6.5288, 2.7251, 6.6754, 2.0438, 6.6764], 'confidence': 0.992, 'span': {'offset': 1243, 'length': 12}}, {'content': 'for', 'polygon': [2.7589, 6.5288, 2.9005, 6.5287, 2.9001, 6.6754, 2.7586, 6.6754], 'confidence': 0.995, 'span': {'offset': 1256, 'length': 3}}, {'content': 'the', 'polygon': [2.9293, 6.5286, 3.0924, 6.5278, 3.092, 6.6747, 2.9289, 6.6754], 'confidence': 0.999, 'span': {'offset': 1260, 'length': 3}}, {'content': 'past', 'polygon': [3.1308, 6.5276, 3.3539, 6.5289, 3.3534, 6.6748, 3.1303, 6.6745], 'confidence': 0.992, 'span': {'offset': 1264, 'length': 4}}, {'content': '90', 'polygon': [3.3851, 6.5292, 3.5123, 6.5292, 3.5118, 6.6751, 3.3846, 6.6749], 'confidence': 0.998, 'span': {'offset': 1269, 'length': 2}}, {'content': 'days.', 'polygon': [3.5483, 6.5291, 3.8242, 6.5295, 3.8238, 6.6749, 3.5477, 6.6752], 'confidence': 0.996, 'span': {'offset': 1272, 'length': 5}}, {'content': 'Yes', 'polygon': [3.9585, 6.53, 4.1836, 6.529, 4.1836, 6.6733, 3.9582, 6.6744], 'confidence': 0.998, 'span': {'offset': 1278, 'length': 3}}, {'content': 'No', 'polygon': [4.4751, 6.5413, 4.6374, 6.5406, 4.6372, 6.6528, 4.4748, 6.6543], 'confidence': 0.992, 'span': {'offset': 1295, 'length': 2}}, {'content': 'Indicate', 'polygon': [0.6425, 6.7238, 1.0308, 6.7248, 1.0304, 6.8727, 0.642, 6.8714], 'confidence': 0.992, 'span': {'offset': 1309, 'length': 8}}, {'content': 'by', 'polygon': [1.0599, 6.7249, 1.2006, 6.7252, 1.2003, 6.8731, 1.0595, 6.8728], 'confidence': 0.996, 'span': {'offset': 1318, 'length': 2}}, {'content': 'check', 'polygon': [1.2297, 6.7253, 1.5063, 6.7259, 1.5061, 6.8734, 1.2294, 6.8732], 'confidence': 0.996, 'span': {'offset': 1321, 'length': 5}}, {'content': 'mark', 'polygon': [1.5355, 6.7259, 1.7878, 6.7263, 1.7875, 6.8737, 1.5352, 6.8734], 'confidence': 0.992, 'span': {'offset': 1327, 'length': 4}}, {'content': 'whether', 'polygon': [1.8169, 6.7264, 2.2343, 6.7266, 2.2338, 6.8742, 1.8166, 6.8737], 'confidence': 0.995, 'span': {'offset': 1332, 'length': 7}}, {'content': 'the', 'polygon': [2.2634, 6.7266, 2.4187, 6.7261, 2.4183, 6.874, 2.2629, 6.8742], 'confidence': 0.998, 'span': {'offset': 1340, 'length': 3}}, {'content': 'registrant', 'polygon': [2.4478, 6.726, 2.9234, 6.725, 2.9232, 6.8731, 2.4475, 6.8739], 'confidence': 0.993, 'span': {'offset': 1344, 'length': 10}}, {'content': 'has', 'polygon': [2.9525, 6.725, 3.1563, 6.7248, 3.1562, 6.8725, 2.9524, 6.873], 'confidence': 0.997, 'span': {'offset': 1355, 'length': 3}}, {'content': 'submitted', 'polygon': [3.1879, 6.7248, 3.6805, 6.7257, 3.6803, 6.874, 3.1877, 6.8725], 'confidence': 0.992, 'span': {'offset': 1359, 'length': 9}}, {'content': 'electronically', 'polygon': [3.712, 6.7258, 4.3696, 6.7248, 4.3693, 6.8734, 3.7119, 6.8741], 'confidence': 0.992, 'span': {'offset': 1369, 'length': 14}}, {'content': 'every', 'polygon': [4.3987, 6.7248, 4.6608, 6.7242, 4.6606, 6.8729, 4.3984, 6.8734], 'confidence': 0.996, 'span': {'offset': 1384, 'length': 5}}, {'content': 'Interactive', 'polygon': [4.6899, 6.7242, 5.2407, 6.7252, 5.2405, 6.8735, 4.6897, 6.8728], 'confidence': 0.988, 'span': {'offset': 1390, 'length': 11}}, {'content': 'Data', 'polygon': [5.2747, 6.7253, 5.4955, 6.7254, 5.495, 6.8742, 5.2744, 6.8735], 'confidence': 0.989, 'span': {'offset': 1402, 'length': 4}}, {'content': 'File', 'polygon': [5.5246, 6.7254, 5.709, 6.7254, 5.7083, 6.8748, 5.5241, 6.8743], 'confidence': 0.993, 'span': {'offset': 1407, 'length': 4}}, {'content': 'required', 'polygon': [5.7381, 6.7255, 6.17, 6.725, 6.1696, 6.8736, 5.7374, 6.8749], 'confidence': 0.992, 'span': {'offset': 1412, 'length': 8}}, {'content': 'to', 'polygon': [6.2016, 6.725, 6.2816, 6.7249, 6.2813, 6.8731, 6.2012, 6.8734], 'confidence': 0.992, 'span': {'offset': 1421, 'length': 2}}, {'content': 'be', 'polygon': [6.3108, 6.7249, 6.4515, 6.7246, 6.4512, 6.8731, 6.3105, 6.873], 'confidence': 0.996, 'span': {'offset': 1424, 'length': 2}}, {'content': 'submitted', 'polygon': [6.483, 6.7246, 6.978, 6.724, 6.9777, 6.8727, 6.4827, 6.8731], 'confidence': 0.992, 'span': {'offset': 1427, 'length': 9}}, {'content': 'pursuant', 'polygon': [7.0144, 6.724, 7.4463, 6.7238, 7.446, 6.871, 7.0141, 6.8725], 'confidence': 0.994, 'span': {'offset': 1437, 'length': 8}}, {'content': 'to', 'polygon': [7.4755, 6.7237, 7.5822, 6.7236, 7.5819, 6.8708, 7.4751, 6.871], 'confidence': 0.998, 'span': {'offset': 1446, 'length': 2}}, {'content': 'Rule', 'polygon': [7.6138, 6.7235, 7.8581, 6.7231, 7.8581, 6.8703, 7.6135, 6.8707], 'confidence': 0.988, 'span': {'offset': 1449, 'length': 4}}, {'content': '405', 'polygon': [0.6416, 6.8605, 0.8406, 6.861, 0.8399, 7.0048, 0.6408, 7.0038], 'confidence': 0.996, 'span': {'offset': 1454, 'length': 3}}, {'content': 'of', 'polygon': [0.8714, 6.8611, 0.9543, 6.8613, 0.9537, 7.0054, 0.8707, 7.005], 'confidence': 0.995, 'span': {'offset': 1458, 'length': 2}}, {'content': 'Regulation', 'polygon': [0.9827, 6.8614, 1.5465, 6.8622, 1.5458, 7.0065, 0.9822, 7.0056], 'confidence': 0.992, 'span': {'offset': 1461, 'length': 10}}, {'content': 'S-T', 'polygon': [1.582, 6.8622, 1.7691, 6.8623, 1.7684, 7.0063, 1.5813, 7.0065], 'confidence': 0.992, 'span': {'offset': 1472, 'length': 3}}, {'content': '(§232.405', 'polygon': [1.8023, 6.8623, 2.3187, 6.8624, 2.3179, 7.0056, 1.8015, 7.0062], 'confidence': 0.957, 'span': {'offset': 1476, 'length': 9}}, {'content': 'of', 'polygon': [2.3495, 6.8624, 2.4324, 6.8625, 2.4315, 7.0057, 2.3487, 7.0056], 'confidence': 0.996, 'span': {'offset': 1486, 'length': 2}}, {'content': 'this', 'polygon': [2.4608, 6.8625, 2.6551, 6.8627, 2.6541, 7.0059, 2.4599, 7.0057], 'confidence': 0.992, 'span': {'offset': 1489, 'length': 4}}, {'content': 'chapter)', 'polygon': [2.6859, 6.8628, 3.1051, 6.8611, 3.1045, 7.0067, 2.6849, 7.0059], 'confidence': 0.992, 'span': {'offset': 1494, 'length': 8}}, {'content': 'during', 'polygon': [3.1407, 6.861, 3.4533, 6.8616, 3.4529, 7.008, 3.14, 7.0067], 'confidence': 0.995, 'span': {'offset': 1503, 'length': 6}}, {'content': 'the', 'polygon': [3.4889, 6.8617, 3.6476, 6.8623, 3.6473, 7.0086, 3.4885, 7.0082], 'confidence': 0.998, 'span': {'offset': 1510, 'length': 3}}, {'content': 'preceding', 'polygon': [3.6831, 6.8625, 4.1829, 6.8638, 4.1828, 7.0086, 3.6829, 7.0086], 'confidence': 0.992, 'span': {'offset': 1514, 'length': 9}}, {'content': '12', 'polygon': [4.2255, 6.8639, 4.3274, 6.8639, 4.3273, 7.0086, 4.2255, 7.0086], 'confidence': 0.994, 'span': {'offset': 1524, 'length': 2}}, {'content': 'months', 'polygon': [4.3558, 6.8639, 4.7538, 6.8635, 4.7537, 7.0066, 4.3557, 7.0086], 'confidence': 0.996, 'span': {'offset': 1527, 'length': 6}}, {'content': '(or', 'polygon': [4.7917, 6.8635, 4.9054, 6.8635, 4.9053, 7.0068, 4.7916, 7.0066], 'confidence': 0.993, 'span': {'offset': 1534, 'length': 3}}, {'content': 'for', 'polygon': [4.9338, 6.8635, 5.0973, 6.8636, 5.0972, 7.007, 4.9337, 7.0068], 'confidence': 0.994, 'span': {'offset': 1538, 'length': 3}}, {'content': 'such', 'polygon': [5.1257, 6.8636, 5.3626, 6.8636, 5.3625, 7.0075, 5.1256, 7.0071], 'confidence': 0.992, 'span': {'offset': 1542, 'length': 4}}, {'content': 'shorter', 'polygon': [5.3981, 6.8636, 5.7392, 6.8634, 5.739, 7.0086, 5.398, 7.0076], 'confidence': 0.994, 'span': {'offset': 1547, 'length': 7}}, {'content': 'period', 'polygon': [5.7676, 6.8634, 6.1016, 6.8629, 6.1014, 7.0079, 5.7674, 7.0086], 'confidence': 0.994, 'span': {'offset': 1555, 'length': 6}}, {'content': 'that', 'polygon': [6.1348, 6.8629, 6.3314, 6.8626, 6.3312, 7.0074, 6.1346, 7.0078], 'confidence': 0.992, 'span': {'offset': 1562, 'length': 4}}, {'content': 'the', 'polygon': [6.3598, 6.8626, 6.5067, 6.8623, 6.5065, 7.0075, 6.3596, 7.0074], 'confidence': 0.998, 'span': {'offset': 1567, 'length': 3}}, {'content': 'registrant', 'polygon': [6.5351, 6.8622, 7.0183, 6.8621, 7.0181, 7.0075, 6.5349, 7.0076], 'confidence': 0.992, 'span': {'offset': 1571, 'length': 10}}, {'content': 'was', 'polygon': [7.0468, 6.8621, 7.2457, 6.8626, 7.2455, 7.0071, 7.0465, 7.0074], 'confidence': 0.998, 'span': {'offset': 1582, 'length': 3}}, {'content': 'required', 'polygon': [7.2742, 6.8626, 7.7005, 6.8618, 7.7004, 7.0068, 7.2739, 7.007], 'confidence': 0.992, 'span': {'offset': 1586, 'length': 8}}, {'content': 'to', 'polygon': [7.729, 6.8617, 7.8616, 6.8614, 7.8615, 7.0067, 7.7288, 7.0067], 'confidence': 0.998, 'span': {'offset': 1595, 'length': 2}}, {'content': 'submit', 'polygon': [0.6417, 7.0122, 0.9891, 7.0131, 0.9892, 7.1413, 0.6419, 7.1423], 'confidence': 0.998, 'span': {'offset': 1598, 'length': 6}}, {'content': 'such', 'polygon': [1.021, 7.0127, 1.2576, 7.0119, 1.2576, 7.1415, 1.0212, 7.1409], 'confidence': 0.992, 'span': {'offset': 1605, 'length': 4}}, {'content': 'files).', 'polygon': [1.2917, 7.0118, 1.5661, 7.0124, 1.5661, 7.1448, 1.2917, 7.1418], 'confidence': 0.992, 'span': {'offset': 1610, 'length': 7}}, {'content': 'Yes', 'polygon': [1.6887, 7.0127, 1.8979, 7.016, 1.8978, 7.1338, 1.6889, 7.1296], 'confidence': 0.998, 'span': {'offset': 1629, 'length': 3}}, {'content': 'No', 'polygon': [2.19, 7.0159, 2.3519, 7.0153, 2.3519, 7.1287, 2.1898, 7.1301], 'confidence': 0.997, 'span': {'offset': 1646, 'length': 2}}, {'content': 'Indicate', 'polygon': [0.6429, 7.2049, 1.0517, 7.2058, 1.0511, 7.3559, 0.6419, 7.355], 'confidence': 0.993, 'span': {'offset': 1649, 'length': 8}}, {'content': 'by', 'polygon': [1.0809, 7.2058, 1.2245, 7.2063, 1.224, 7.3562, 1.0804, 7.356], 'confidence': 0.998, 'span': {'offset': 1658, 'length': 2}}, {'content': 'check', 'polygon': [1.2634, 7.2064, 1.5579, 7.2076, 1.5574, 7.3565, 1.263, 7.3562], 'confidence': 0.996, 'span': {'offset': 1661, 'length': 5}}, {'content': 'mark', 'polygon': [1.5871, 7.2077, 1.8694, 7.2076, 1.8689, 7.3564, 1.5866, 7.3565], 'confidence': 0.992, 'span': {'offset': 1667, 'length': 4}}, {'content': 'whether', 'polygon': [1.9059, 7.2076, 2.3294, 7.2073, 2.3289, 7.3561, 1.9054, 7.3563], 'confidence': 0.998, 'span': {'offset': 1672, 'length': 7}}, {'content': 'the', 'polygon': [2.3659, 7.2073, 2.5289, 7.2076, 2.5285, 7.3561, 2.3654, 7.3561], 'confidence': 0.999, 'span': {'offset': 1680, 'length': 3}}, {'content': 'registrant', 'polygon': [2.5703, 7.2076, 3.0473, 7.2069, 3.0469, 7.3555, 2.5699, 7.3561], 'confidence': 0.995, 'span': {'offset': 1684, 'length': 10}}, {'content': 'is', 'polygon': [3.0765, 7.2069, 3.1811, 7.2066, 3.1808, 7.3553, 3.0761, 7.3555], 'confidence': 0.999, 'span': {'offset': 1695, 'length': 2}}, {'content': 'a', 'polygon': [3.22, 7.2065, 3.2711, 7.2068, 3.2708, 7.3553, 3.2197, 7.3552], 'confidence': 0.996, 'span': {'offset': 1698, 'length': 1}}, {'content': 'large', 'polygon': [3.3004, 7.2069, 3.5851, 7.2082, 3.5848, 7.3559, 3.3, 7.3554], 'confidence': 0.997, 'span': {'offset': 1700, 'length': 5}}, {'content': 'accelerated', 'polygon': [3.624, 7.2084, 4.2275, 7.2068, 4.2272, 7.3542, 3.6238, 7.356], 'confidence': 0.993, 'span': {'offset': 1706, 'length': 11}}, {'content': 'filer,', 'polygon': [4.2689, 7.2068, 4.4879, 7.2071, 4.4876, 7.3542, 4.2685, 7.3541], 'confidence': 0.993, 'span': {'offset': 1718, 'length': 6}}, {'content': 'an', 'polygon': [4.5342, 7.2072, 4.6607, 7.2074, 4.6603, 7.3543, 4.5338, 7.3542], 'confidence': 0.998, 'span': {'offset': 1725, 'length': 2}}, {'content': 'accelerated', 'polygon': [4.7021, 7.2074, 5.3081, 7.2079, 5.3077, 7.3553, 4.7017, 7.3543], 'confidence': 0.994, 'span': {'offset': 1728, 'length': 11}}, {'content': 'filer,', 'polygon': [5.3494, 7.208, 5.5684, 7.2085, 5.5679, 7.3564, 5.349, 7.3555], 'confidence': 0.992, 'span': {'offset': 1740, 'length': 6}}, {'content': 'a', 'polygon': [5.6098, 7.2086, 5.6731, 7.2088, 5.6724, 7.3569, 5.6092, 7.3566], 'confidence': 0.995, 'span': {'offset': 1747, 'length': 1}}, {'content': 'non-accelerated', 'polygon': [5.7193, 7.2089, 6.5565, 7.2088, 6.556, 7.3567, 5.7186, 7.3571], 'confidence': 0.994, 'span': {'offset': 1749, 'length': 15}}, {'content': 'filer,', 'polygon': [6.5979, 7.2087, 6.8144, 7.2078, 6.8139, 7.3563, 6.5974, 7.3566], 'confidence': 0.993, 'span': {'offset': 1765, 'length': 6}}, {'content': 'a', 'polygon': [6.8582, 7.2079, 6.9215, 7.2083, 6.9209, 7.3569, 6.8577, 7.3565], 'confidence': 0.995, 'span': {'offset': 1772, 'length': 1}}, {'content': 'smaller', 'polygon': [6.9653, 7.2085, 7.3474, 7.2107, 7.3467, 7.3594, 6.9647, 7.3571], 'confidence': 0.996, 'span': {'offset': 1774, 'length': 7}}, {'content': 'reporting', 'polygon': [7.3839, 7.2107, 7.8581, 7.2113, 7.8581, 7.3629, 7.3832, 7.3597], 'confidence': 0.994, 'span': {'offset': 1782, 'length': 9}}, {'content': 'company,', 'polygon': [0.6432, 7.3494, 1.1538, 7.3516, 1.1532, 7.4936, 0.6418, 7.4911], 'confidence': 0.993, 'span': {'offset': 1792, 'length': 8}}, {'content': 'or', 'polygon': [1.1936, 7.3516, 1.3013, 7.3513, 1.3006, 7.4934, 1.193, 7.4935], 'confidence': 0.998, 'span': {'offset': 1801, 'length': 2}}, {'content': 'an', 'polygon': [1.3341, 7.3512, 1.4582, 7.351, 1.4575, 7.4932, 1.3334, 7.4933], 'confidence': 0.998, 'span': {'offset': 1804, 'length': 2}}, {'content': 'emerging', 'polygon': [1.498, 7.3509, 1.9828, 7.3495, 1.9821, 7.4922, 1.4973, 7.4931], 'confidence': 0.995, 'span': {'offset': 1807, 'length': 8}}, {'content': 'growth', 'polygon': [2.0226, 7.3494, 2.3715, 7.3486, 2.3711, 7.4908, 2.022, 7.4921], 'confidence': 0.995, 'span': {'offset': 1816, 'length': 6}}, {'content': 'company.', 'polygon': [2.4113, 7.3486, 2.9148, 7.3474, 2.9147, 7.4885, 2.4109, 7.4906], 'confidence': 0.994, 'span': {'offset': 1823, 'length': 8}}, {'content': 'See', 'polygon': [2.957, 7.3473, 3.1607, 7.3466, 3.1606, 7.4877, 2.9568, 7.4884], 'confidence': 0.997, 'span': {'offset': 1832, 'length': 3}}, {'content': 'the', 'polygon': [3.1959, 7.3465, 3.3598, 7.346, 3.3596, 7.4876, 3.1957, 7.4876], 'confidence': 0.998, 'span': {'offset': 1836, 'length': 3}}, {'content': 'definitions', 'polygon': [3.3949, 7.3459, 3.9265, 7.345, 3.9264, 7.4881, 3.3948, 7.4876], 'confidence': 0.993, 'span': {'offset': 1840, 'length': 11}}, {'content': 'of', 'polygon': [3.9617, 7.345, 4.0436, 7.3451, 4.0435, 7.4883, 3.9615, 7.4882], 'confidence': 0.995, 'span': {'offset': 1852, 'length': 2}}, {'content': '\"large', 'polygon': [4.0717, 7.3451, 4.3926, 7.345, 4.3925, 7.4882, 4.0716, 7.4884], 'confidence': 0.945, 'span': {'offset': 1855, 'length': 6}}, {'content': 'accelerated', 'polygon': [4.43, 7.3449, 5.0319, 7.3445, 5.0318, 7.4877, 4.43, 7.488], 'confidence': 0.992, 'span': {'offset': 1862, 'length': 11}}, {'content': 'filer,\"', 'polygon': [5.0694, 7.3445, 5.3176, 7.3447, 5.3175, 7.4885, 5.0693, 7.4878], 'confidence': 0.963, 'span': {'offset': 1874, 'length': 7}}, {'content': '\"accelerated', 'polygon': [5.3457, 7.3447, 6.0108, 7.3454, 6.0105, 7.4896, 5.3456, 7.4886], 'confidence': 0.977, 'span': {'offset': 1882, 'length': 12}}, {'content': 'filer,\"', 'polygon': [6.046, 7.3455, 6.3082, 7.3457, 6.3079, 7.4897, 6.0456, 7.4896], 'confidence': 0.936, 'span': {'offset': 1895, 'length': 7}}, {'content': '\"smaller', 'polygon': [6.3434, 7.3457, 6.7509, 7.3451, 6.7503, 7.4888, 6.343, 7.4896], 'confidence': 0.963, 'span': {'offset': 1903, 'length': 8}}, {'content': 'reporting', 'polygon': [6.779, 7.345, 7.259, 7.3477, 7.2582, 7.4919, 6.7784, 7.4887], 'confidence': 0.993, 'span': {'offset': 1912, 'length': 9}}, {'content': 'company,\"', 'polygon': [7.2988, 7.3479, 7.8415, 7.3518, 7.8415, 7.4957, 7.298, 7.4922], 'confidence': 0.923, 'span': {'offset': 1922, 'length': 9}}, {'content': 'and', 'polygon': [0.6406, 7.4835, 0.8259, 7.485, 0.8256, 7.6261, 0.6404, 7.6248], 'confidence': 0.997, 'span': {'offset': 1932, 'length': 3}}, {'content': '\"emerging', 'polygon': [0.8537, 7.4852, 1.4048, 7.4871, 1.4046, 7.6284, 0.8534, 7.6263], 'confidence': 0.962, 'span': {'offset': 1936, 'length': 9}}, {'content': 'growth', 'polygon': [1.4419, 7.487, 1.7916, 7.4864, 1.7914, 7.6276, 1.4416, 7.6284], 'confidence': 0.998, 'span': {'offset': 1946, 'length': 6}}, {'content': 'company\"', 'polygon': [1.8286, 7.4863, 2.3265, 7.4845, 2.3264, 7.6266, 1.8284, 7.6274], 'confidence': 0.962, 'span': {'offset': 1953, 'length': 8}}, {'content': 'in', 'polygon': [2.3543, 7.4844, 2.4678, 7.4842, 2.4677, 7.626, 2.3542, 7.6265], 'confidence': 0.997, 'span': {'offset': 1962, 'length': 2}}, {'content': 'Rule', 'polygon': [2.5118, 7.4843, 2.7457, 7.4845, 2.7456, 7.6245, 2.5117, 7.6258], 'confidence': 0.992, 'span': {'offset': 1965, 'length': 4}}, {'content': '12b-2', 'polygon': [2.7897, 7.4844, 3.0815, 7.4829, 3.0812, 7.624, 2.7896, 7.6243], 'confidence': 0.994, 'span': {'offset': 1970, 'length': 5}}, {'content': 'of', 'polygon': [3.1162, 7.4826, 3.2065, 7.482, 3.2063, 7.6241, 3.116, 7.6241], 'confidence': 0.998, 'span': {'offset': 1976, 'length': 2}}, {'content': 'the', 'polygon': [3.2343, 7.4821, 3.408, 7.4824, 3.4077, 7.6233, 3.234, 7.624], 'confidence': 0.999, 'span': {'offset': 1979, 'length': 3}}, {'content': 'Exchange', 'polygon': [3.4497, 7.4825, 3.9661, 7.4828, 3.9659, 7.6245, 3.4494, 7.6231], 'confidence': 0.993, 'span': {'offset': 1983, 'length': 8}}, {'content': 'Act.', 'polygon': [3.9985, 7.4827, 4.2113, 7.4821, 4.2113, 7.6246, 3.9983, 7.6245], 'confidence': 0.992, 'span': {'offset': 1992, 'length': 4}}, {'content': 'Large', 'polygon': [0.641, 7.6915, 0.9476, 7.6924, 0.9474, 7.8292, 0.6408, 7.8303], 'confidence': 0.996, 'span': {'offset': 2008, 'length': 5}}, {'content': 'accelerated', 'polygon': [0.9814, 7.6921, 1.588, 7.6856, 1.5875, 7.8238, 0.9813, 7.8287], 'confidence': 0.994, 'span': {'offset': 2014, 'length': 11}}, {'content': 'filer', 'polygon': [1.624, 7.6854, 1.8405, 7.6849, 1.8401, 7.8213, 1.6236, 7.8234], 'confidence': 0.992, 'span': {'offset': 2026, 'length': 5}}, {'content': 'Non-accelerated', 'polygon': [0.6408, 7.8665, 1.5088, 7.8662, 1.5084, 7.9945, 0.6407, 7.9976], 'confidence': 0.992, 'span': {'offset': 2032, 'length': 15}}, {'content': 'filer', 'polygon': [1.5446, 7.8661, 1.7542, 7.8646, 1.7542, 7.9908, 1.5442, 7.9945], 'confidence': 0.992, 'span': {'offset': 2048, 'length': 5}}, {'content': 'Accelerated', 'polygon': [5.3262, 7.6886, 5.9526, 7.6873, 5.9522, 7.818, 5.3262, 7.8207], 'confidence': 0.995, 'span': {'offset': 2080, 'length': 11}}, {'content': 'filer', 'polygon': [5.989, 7.6872, 6.1924, 7.6863, 6.1924, 7.8162, 5.9887, 7.8182], 'confidence': 0.997, 'span': {'offset': 2092, 'length': 5}}, {'content': 'Smaller', 'polygon': [5.327, 7.8643, 5.7231, 7.867, 5.7225, 8.0089, 5.3263, 8.0051], 'confidence': 0.997, 'span': {'offset': 2098, 'length': 7}}, {'content': 'reporting', 'polygon': [5.7508, 7.867, 6.2275, 7.8691, 6.2269, 8.0106, 5.7501, 8.009], 'confidence': 0.995, 'span': {'offset': 2106, 'length': 9}}, {'content': 'company', 'polygon': [6.2667, 7.8691, 6.755, 7.8727, 6.7543, 8.0096, 6.266, 8.0106], 'confidence': 0.996, 'span': {'offset': 2116, 'length': 7}}, {'content': 'Emerging', 'polygon': [5.3281, 8.0435, 5.8354, 8.0454, 5.8352, 8.1877, 5.3276, 8.1851], 'confidence': 0.996, 'span': {'offset': 2124, 'length': 8}}, {'content': 'growth', 'polygon': [5.8725, 8.0455, 6.2199, 8.0463, 6.2195, 8.1877, 5.8722, 8.1877], 'confidence': 0.999, 'span': {'offset': 2133, 'length': 6}}, {'content': 'company', 'polygon': [6.257, 8.0462, 6.7458, 8.0479, 6.7453, 8.1877, 6.2566, 8.1877], 'confidence': 0.999, 'span': {'offset': 2140, 'length': 7}}, {'content': 'If', 'polygon': [0.6409, 8.24, 0.7086, 8.2402, 0.7078, 8.3871, 0.64, 8.3867], 'confidence': 0.929, 'span': {'offset': 2174, 'length': 2}}, {'content': 'an', 'polygon': [0.7376, 8.2403, 0.8706, 8.2406, 0.87, 8.3878, 0.7368, 8.3872], 'confidence': 0.997, 'span': {'offset': 2177, 'length': 2}}, {'content': 'emerging', 'polygon': [0.9069, 8.2406, 1.3953, 8.2411, 1.395, 8.389, 0.9063, 8.388], 'confidence': 0.994, 'span': {'offset': 2180, 'length': 8}}, {'content': 'growth', 'polygon': [1.4316, 8.2411, 1.7797, 8.241, 1.7793, 8.3886, 1.4312, 8.389], 'confidence': 0.997, 'span': {'offset': 2189, 'length': 6}}, {'content': 'company,', 'polygon': [1.8136, 8.241, 2.3044, 8.2406, 2.3038, 8.3877, 1.8131, 8.3885], 'confidence': 0.995, 'span': {'offset': 2196, 'length': 8}}, {'content': 'indicate', 'polygon': [2.3334, 8.2405, 2.7613, 8.2391, 2.7609, 8.3863, 2.3328, 8.3876], 'confidence': 0.994, 'span': {'offset': 2205, 'length': 8}}, {'content': 'by', 'polygon': [2.7976, 8.239, 2.9185, 8.2386, 2.9181, 8.3859, 2.7972, 8.3862], 'confidence': 0.997, 'span': {'offset': 2214, 'length': 2}}, {'content': 'check', 'polygon': [2.9499, 8.2385, 3.2425, 8.2377, 3.2422, 8.385, 2.9495, 8.3858], 'confidence': 0.997, 'span': {'offset': 2217, 'length': 5}}, {'content': 'mark', 'polygon': [3.2715, 8.2377, 3.5229, 8.2376, 3.5226, 8.3851, 3.2712, 8.385], 'confidence': 0.992, 'span': {'offset': 2223, 'length': 4}}, {'content': 'if', 'polygon': [3.552, 8.2376, 3.6196, 8.2376, 3.6193, 8.3851, 3.5516, 8.3851], 'confidence': 0.995, 'span': {'offset': 2228, 'length': 2}}, {'content': 'the', 'polygon': [3.6487, 8.2376, 3.8131, 8.2375, 3.8128, 8.385, 3.6484, 8.3851], 'confidence': 0.998, 'span': {'offset': 2231, 'length': 3}}, {'content': 'registrant', 'polygon': [3.8421, 8.2375, 4.3353, 8.2371, 4.335, 8.3843, 3.8418, 8.385], 'confidence': 0.993, 'span': {'offset': 2235, 'length': 10}}, {'content': 'has', 'polygon': [4.3643, 8.2371, 4.5771, 8.2368, 4.5768, 8.3838, 4.364, 8.3843], 'confidence': 0.993, 'span': {'offset': 2246, 'length': 3}}, {'content': 'elected', 'polygon': [4.6109, 8.2368, 4.9736, 8.237, 4.9733, 8.384, 4.6106, 8.3837], 'confidence': 0.995, 'span': {'offset': 2250, 'length': 7}}, {'content': 'not', 'polygon': [5.0026, 8.2371, 5.167, 8.2374, 5.1667, 8.3847, 5.0023, 8.3841], 'confidence': 0.997, 'span': {'offset': 2258, 'length': 3}}, {'content': 'to', 'polygon': [5.196, 8.2375, 5.3121, 8.2377, 5.3118, 8.3851, 5.1958, 8.3847], 'confidence': 0.998, 'span': {'offset': 2262, 'length': 2}}, {'content': 'use', 'polygon': [5.3484, 8.2378, 5.5152, 8.2381, 5.5149, 8.3855, 5.3481, 8.3851], 'confidence': 0.997, 'span': {'offset': 2265, 'length': 3}}, {'content': 'the', 'polygon': [5.5442, 8.2382, 5.728, 8.2386, 5.7277, 8.3859, 5.544, 8.3855], 'confidence': 0.999, 'span': {'offset': 2269, 'length': 3}}, {'content': 'extended', 'polygon': [5.7618, 8.2386, 6.2405, 8.2397, 6.2402, 8.3868, 5.7616, 8.3859], 'confidence': 0.995, 'span': {'offset': 2273, 'length': 8}}, {'content': 'transition', 'polygon': [6.2768, 8.2398, 6.7531, 8.2384, 6.7522, 8.3864, 6.2764, 8.3868], 'confidence': 0.994, 'span': {'offset': 2282, 'length': 10}}, {'content': 'period', 'polygon': [6.7918, 8.2382, 7.1109, 8.2402, 7.1099, 8.3873, 6.7909, 8.3864], 'confidence': 0.996, 'span': {'offset': 2293, 'length': 6}}, {'content': 'for', 'polygon': [7.1472, 8.2404, 7.2753, 8.2413, 7.2742, 8.3879, 7.1461, 8.3875], 'confidence': 0.999, 'span': {'offset': 2300, 'length': 3}}, {'content': 'complying', 'polygon': [7.3043, 8.2415, 7.8556, 8.2408, 7.855, 8.3926, 7.3032, 8.388], 'confidence': 0.995, 'span': {'offset': 2304, 'length': 9}}, {'content': 'with', 'polygon': [0.6371, 8.3926, 0.8533, 8.3935, 0.8534, 8.5365, 0.6371, 8.5362], 'confidence': 0.992, 'span': {'offset': 2314, 'length': 4}}, {'content': 'any', 'polygon': [0.8936, 8.3936, 1.0646, 8.3942, 1.0649, 8.5365, 0.8938, 8.5365], 'confidence': 0.997, 'span': {'offset': 2319, 'length': 3}}, {'content': 'new', 'polygon': [1.0931, 8.3941, 1.333, 8.3934, 1.3331, 8.5352, 1.0934, 8.5365], 'confidence': 0.998, 'span': {'offset': 2323, 'length': 3}}, {'content': 'or', 'polygon': [1.3639, 8.3933, 1.4541, 8.393, 1.4541, 8.5341, 1.364, 8.5349], 'confidence': 0.995, 'span': {'offset': 2327, 'length': 2}}, {'content': 'revised', 'polygon': [1.4826, 8.3929, 1.8769, 8.3901, 1.8769, 8.5328, 1.4826, 8.534], 'confidence': 0.994, 'span': {'offset': 2330, 'length': 7}}, {'content': 'financial', 'polygon': [1.9125, 8.39, 2.34, 8.3906, 2.3395, 8.5333, 1.9125, 8.5328], 'confidence': 0.992, 'span': {'offset': 2338, 'length': 9}}, {'content': 'accounting', 'polygon': [2.3827, 8.3905, 2.9456, 8.3899, 2.9454, 8.5348, 2.3823, 8.5334], 'confidence': 0.994, 'span': {'offset': 2348, 'length': 10}}, {'content': 'standards', 'polygon': [2.986, 8.3899, 3.499, 8.3894, 3.4989, 8.5352, 2.9858, 8.5349], 'confidence': 0.993, 'span': {'offset': 2359, 'length': 9}}, {'content': 'provided', 'polygon': [3.5394, 8.3894, 3.9835, 8.3889, 3.9835, 8.5356, 3.5393, 8.5352], 'confidence': 0.992, 'span': {'offset': 2369, 'length': 8}}, {'content': 'pursuant', 'polygon': [4.0239, 8.3889, 4.4799, 8.388, 4.4797, 8.5354, 4.0239, 8.5356], 'confidence': 0.993, 'span': {'offset': 2378, 'length': 8}}, {'content': 'to', 'polygon': [4.5107, 8.3879, 4.6081, 8.3877, 4.6077, 8.5352, 4.5105, 8.5353], 'confidence': 0.997, 'span': {'offset': 2387, 'length': 2}}, {'content': 'Section', 'polygon': [4.6461, 8.3876, 5.0332, 8.3873, 5.0329, 8.535, 4.6457, 8.5351], 'confidence': 0.995, 'span': {'offset': 2390, 'length': 7}}, {'content': '13(a)', 'polygon': [5.0784, 8.3873, 5.3444, 8.387, 5.3442, 8.5348, 5.0781, 8.5351], 'confidence': 0.993, 'span': {'offset': 2398, 'length': 5}}, {'content': 'of', 'polygon': [5.3776, 8.3869, 5.4726, 8.3865, 5.4724, 8.5343, 5.3775, 8.5347], 'confidence': 0.995, 'span': {'offset': 2404, 'length': 2}}, {'content': 'the', 'polygon': [5.5011, 8.3864, 5.6721, 8.3861, 5.6719, 8.5336, 5.5009, 8.5342], 'confidence': 0.998, 'span': {'offset': 2407, 'length': 3}}, {'content': 'Exchange', 'polygon': [5.7125, 8.3865, 6.2302, 8.3891, 6.2299, 8.5332, 5.7122, 8.5336], 'confidence': 0.995, 'span': {'offset': 2411, 'length': 8}}, {'content': 'Act.', 'polygon': [6.2611, 8.389, 6.4801, 8.3882, 6.4801, 8.5328, 6.2608, 8.5331], 'confidence': 0.989, 'span': {'offset': 2420, 'length': 4}}, {'content': 'Indicate', 'polygon': [0.6422, 8.5916, 1.0305, 8.5924, 1.0305, 8.7413, 0.642, 8.7401], 'confidence': 0.992, 'span': {'offset': 2438, 'length': 8}}, {'content': 'by', 'polygon': [1.0603, 8.5924, 1.2047, 8.5924, 1.2047, 8.7413, 1.0604, 8.7413], 'confidence': 0.996, 'span': {'offset': 2447, 'length': 2}}, {'content': 'check', 'polygon': [1.2371, 8.5924, 1.5183, 8.5922, 1.5182, 8.741, 1.237, 8.7413], 'confidence': 0.997, 'span': {'offset': 2450, 'length': 5}}, {'content': 'mark', 'polygon': [1.5482, 8.5921, 1.807, 8.591, 1.807, 8.7413, 1.5481, 8.7411], 'confidence': 0.992, 'span': {'offset': 2456, 'length': 4}}, {'content': 'whether', 'polygon': [1.8369, 8.5909, 2.2451, 8.591, 2.2448, 8.7413, 1.8368, 8.7413], 'confidence': 0.993, 'span': {'offset': 2461, 'length': 7}}, {'content': 'the', 'polygon': [2.275, 8.591, 2.4343, 8.5912, 2.434, 8.7413, 2.2747, 8.7413], 'confidence': 0.999, 'span': {'offset': 2469, 'length': 3}}, {'content': 'registrant', 'polygon': [2.4641, 8.5911, 2.942, 8.5906, 2.9419, 8.7413, 2.4638, 8.7413], 'confidence': 0.992, 'span': {'offset': 2473, 'length': 10}}, {'content': 'is', 'polygon': [2.9719, 8.5905, 3.0789, 8.5902, 3.0788, 8.7413, 2.9718, 8.7413], 'confidence': 0.996, 'span': {'offset': 2484, 'length': 2}}, {'content': 'a', 'polygon': [3.1113, 8.5901, 3.1735, 8.59, 3.1734, 8.7413, 3.1112, 8.7413], 'confidence': 0.994, 'span': {'offset': 2487, 'length': 1}}, {'content': 'shell', 'polygon': [3.2083, 8.5899, 3.4373, 8.5898, 3.4373, 8.7413, 3.2083, 8.7413], 'confidence': 0.992, 'span': {'offset': 2489, 'length': 5}}, {'content': 'company', 'polygon': [3.4746, 8.5898, 3.9451, 8.589, 3.9451, 8.7413, 3.4746, 8.7413], 'confidence': 0.995, 'span': {'offset': 2495, 'length': 7}}, {'content': '(as', 'polygon': [3.9799, 8.5889, 4.1342, 8.5884, 4.1343, 8.7413, 3.98, 8.7413], 'confidence': 0.992, 'span': {'offset': 2503, 'length': 3}}, {'content': 'defined', 'polygon': [4.1666, 8.5884, 4.525, 8.5882, 4.525, 8.7413, 4.1667, 8.7413], 'confidence': 0.993, 'span': {'offset': 2507, 'length': 7}}, {'content': 'in', 'polygon': [4.5549, 8.5882, 4.6594, 8.5879, 4.6594, 8.7413, 4.5549, 8.7413], 'confidence': 0.995, 'span': {'offset': 2515, 'length': 2}}, {'content': 'Rule', 'polygon': [4.7017, 8.5877, 4.9307, 8.5869, 4.9307, 8.7413, 4.7017, 8.7413], 'confidence': 0.992, 'span': {'offset': 2518, 'length': 4}}, {'content': '12b-2', 'polygon': [4.973, 8.5867, 5.2568, 8.5869, 5.2566, 8.7413, 4.973, 8.7413], 'confidence': 0.992, 'span': {'offset': 2523, 'length': 5}}, {'content': 'of', 'polygon': [5.2916, 8.5869, 5.3713, 8.587, 5.3711, 8.7413, 5.2915, 8.7413], 'confidence': 0.995, 'span': {'offset': 2529, 'length': 2}}, {'content': 'the', 'polygon': [5.4011, 8.587, 5.5778, 8.5874, 5.5776, 8.7413, 5.4009, 8.7413], 'confidence': 0.997, 'span': {'offset': 2532, 'length': 3}}, {'content': 'Exchange', 'polygon': [5.6152, 8.5875, 6.1204, 8.5889, 6.12, 8.7402, 5.6149, 8.7413], 'confidence': 0.994, 'span': {'offset': 2536, 'length': 8}}, {'content': 'Act).', 'polygon': [6.1528, 8.589, 6.3868, 8.5894, 6.3863, 8.7396, 6.1524, 8.7402], 'confidence': 0.992, 'span': {'offset': 2545, 'length': 5}}, {'content': 'Yes', 'polygon': [6.5137, 8.5892, 6.7236, 8.5888, 6.7236, 8.7376, 6.5133, 8.7388], 'confidence': 0.995, 'span': {'offset': 2551, 'length': 3}}, {'content': 'No', 'polygon': [7.0142, 8.605, 7.1719, 8.6063, 7.1719, 8.7141, 7.0136, 8.7158], 'confidence': 0.997, 'span': {'offset': 2568, 'length': 2}}, {'content': 'Indicate', 'polygon': [0.6412, 8.7905, 1.0487, 8.7916, 1.0488, 8.9352, 0.6411, 8.934], 'confidence': 0.992, 'span': {'offset': 2582, 'length': 8}}, {'content': 'the', 'polygon': [1.0801, 8.7916, 1.2199, 8.7915, 1.2199, 8.9357, 1.0801, 8.9353], 'confidence': 0.999, 'span': {'offset': 2591, 'length': 3}}, {'content': 'number', 'polygon': [1.2489, 8.7915, 1.654, 8.7908, 1.6537, 8.937, 1.2489, 8.9358], 'confidence': 0.995, 'span': {'offset': 2595, 'length': 6}}, {'content': 'of', 'polygon': [1.6829, 8.7907, 1.7793, 8.7905, 1.7791, 8.9373, 1.6827, 8.9371], 'confidence': 0.998, 'span': {'offset': 2602, 'length': 2}}, {'content': 'shares', 'polygon': [1.8083, 8.7904, 2.17, 8.7895, 2.1696, 8.9377, 1.808, 8.9373], 'confidence': 0.994, 'span': {'offset': 2605, 'length': 6}}, {'content': 'outstanding', 'polygon': [2.2013, 8.7895, 2.7921, 8.7894, 2.7919, 8.9376, 2.201, 8.9377], 'confidence': 0.992, 'span': {'offset': 2612, 'length': 11}}, {'content': 'of', 'polygon': [2.8258, 8.7894, 2.9175, 8.7895, 2.9174, 8.9377, 2.8257, 8.9376], 'confidence': 0.997, 'span': {'offset': 2624, 'length': 2}}, {'content': 'each', 'polygon': [2.9464, 8.7895, 3.202, 8.7894, 3.202, 8.9386, 2.9463, 8.9378], 'confidence': 0.992, 'span': {'offset': 2627, 'length': 4}}, {'content': 'of', 'polygon': [3.2357, 8.7894, 3.3129, 8.7894, 3.3129, 8.9389, 3.2357, 8.9387], 'confidence': 0.997, 'span': {'offset': 2632, 'length': 2}}, {'content': 'the', 'polygon': [3.3418, 8.7894, 3.5058, 8.7894, 3.5058, 8.9384, 3.3418, 8.939], 'confidence': 0.998, 'span': {'offset': 2635, 'length': 3}}, {'content': \"issuer's\", 'polygon': [3.5347, 8.7894, 3.9422, 8.7897, 3.9422, 8.9374, 3.5347, 8.9383], 'confidence': 0.984, 'span': {'offset': 2639, 'length': 8}}, {'content': 'classes', 'polygon': [3.976, 8.7897, 4.357, 8.7899, 4.357, 8.9377, 3.976, 8.9374], 'confidence': 0.994, 'span': {'offset': 2648, 'length': 7}}, {'content': 'of', 'polygon': [4.3907, 8.7899, 4.48, 8.7898, 4.4799, 8.9378, 4.3907, 8.9377], 'confidence': 0.998, 'span': {'offset': 2656, 'length': 2}}, {'content': 'common', 'polygon': [4.5089, 8.7898, 4.9574, 8.7893, 4.9573, 8.9382, 4.5089, 8.9379], 'confidence': 0.993, 'span': {'offset': 2659, 'length': 6}}, {'content': 'stock,', 'polygon': [4.9936, 8.7893, 5.2853, 8.789, 5.2852, 8.9386, 4.9935, 8.9382], 'confidence': 0.992, 'span': {'offset': 2666, 'length': 6}}, {'content': 'as', 'polygon': [5.3263, 8.789, 5.4445, 8.7889, 5.4444, 8.9391, 5.3262, 8.9388], 'confidence': 0.997, 'span': {'offset': 2673, 'length': 2}}, {'content': 'of', 'polygon': [5.4758, 8.7888, 5.5602, 8.7888, 5.5601, 8.9394, 5.4757, 8.9392], 'confidence': 0.996, 'span': {'offset': 2676, 'length': 2}}, {'content': 'the', 'polygon': [5.5891, 8.7887, 5.7435, 8.7885, 5.7434, 8.9384, 5.589, 8.9395], 'confidence': 0.998, 'span': {'offset': 2679, 'length': 3}}, {'content': 'latest', 'polygon': [5.7724, 8.7885, 6.0521, 8.7882, 6.052, 8.9363, 5.7723, 8.9383], 'confidence': 0.995, 'span': {'offset': 2683, 'length': 6}}, {'content': 'practicable', 'polygon': [6.081, 8.7883, 6.6573, 8.7904, 6.657, 8.935, 6.0809, 8.9362], 'confidence': 0.992, 'span': {'offset': 2690, 'length': 11}}, {'content': 'date.', 'polygon': [6.6887, 8.7905, 6.9491, 8.7912, 6.9489, 8.9351, 6.6883, 8.935], 'confidence': 0.994, 'span': {'offset': 2702, 'length': 5}}, {'content': 'Class', 'polygon': [0.6419, 9.0818, 0.9352, 9.0842, 0.9352, 9.189, 0.6413, 9.1876], 'confidence': 0.995, 'span': {'offset': 2708, 'length': 5}}, {'content': 'Outstanding', 'polygon': [6.1166, 9.0821, 6.7338, 9.0818, 6.7335, 9.2063, 6.1164, 9.2056], 'confidence': 0.994, 'span': {'offset': 2714, 'length': 11}}, {'content': 'as', 'polygon': [6.767, 9.0819, 6.8788, 9.0816, 6.8784, 9.2063, 6.7666, 9.2063], 'confidence': 0.992, 'span': {'offset': 2726, 'length': 2}}, {'content': 'of', 'polygon': [6.9119, 9.0814, 7.0114, 9.0804, 7.011, 9.2063, 6.9116, 9.2063], 'confidence': 0.997, 'span': {'offset': 2729, 'length': 2}}, {'content': 'April', 'polygon': [7.0362, 9.0802, 7.2703, 9.0794, 7.2699, 9.2063, 7.0359, 9.2063], 'confidence': 0.997, 'span': {'offset': 2732, 'length': 5}}, {'content': '24,', 'polygon': [7.3055, 9.0792, 7.4463, 9.0787, 7.4458, 9.2063, 7.305, 9.2063], 'confidence': 0.997, 'span': {'offset': 2738, 'length': 3}}, {'content': '2020', 'polygon': [7.4794, 9.0786, 7.7142, 9.077, 7.7142, 9.2055, 7.479, 9.2063], 'confidence': 0.99, 'span': {'offset': 2742, 'length': 4}}, {'content': 'Common', 'polygon': [0.6436, 9.2998, 1.1225, 9.2998, 1.1216, 9.4328, 0.6431, 9.4306], 'confidence': 0.997, 'span': {'offset': 2747, 'length': 6}}, {'content': 'Stock,', 'polygon': [1.1642, 9.2997, 1.4827, 9.2991, 1.4813, 9.434, 1.1633, 9.4327], 'confidence': 0.993, 'span': {'offset': 2754, 'length': 6}}, {'content': '$0.00000625', 'polygon': [1.5244, 9.299, 2.2075, 9.2999, 2.2058, 9.4355, 1.5229, 9.4342], 'confidence': 0.993, 'span': {'offset': 2761, 'length': 11}}, {'content': 'par', 'polygon': [2.2492, 9.3001, 2.4183, 9.3007, 2.4168, 9.4358, 2.2476, 9.4354], 'confidence': 0.995, 'span': {'offset': 2773, 'length': 3}}, {'content': 'value', 'polygon': [2.4469, 9.3007, 2.7258, 9.302, 2.7247, 9.4363, 2.4453, 9.436], 'confidence': 0.997, 'span': {'offset': 2777, 'length': 5}}, {'content': 'per', 'polygon': [2.7654, 9.3022, 2.9367, 9.3027, 2.9357, 9.4361, 2.7643, 9.4362], 'confidence': 0.995, 'span': {'offset': 2783, 'length': 3}}, {'content': 'share', 'polygon': [2.9674, 9.3026, 3.2705, 9.3024, 3.27, 9.4358, 2.9665, 9.4362], 'confidence': 0.997, 'span': {'offset': 2787, 'length': 5}}, {'content': '7,583,440,247', 'polygon': [6.5644, 9.3266, 7.3216, 9.3283, 7.3213, 9.4579, 6.5645, 9.4576], 'confidence': 0.992, 'span': {'offset': 2793, 'length': 13}}, {'content': 'shares', 'polygon': [7.3577, 9.3283, 7.7197, 9.3276, 7.7197, 9.4549, 7.3573, 9.4576], 'confidence': 0.998, 'span': {'offset': 2807, 'length': 6}}], 'selectionMarks': [{'state': 'selected', 'polygon': [0.6624, 1.7682, 0.7831, 1.7681, 0.7823, 1.8863, 0.6628, 1.887], 'confidence': 0.989, 'span': {'offset': 86, 'length': 10}}, {'state': 'unselected', 'polygon': [0.663, 2.6907, 0.7835, 2.6918, 0.7836, 2.808, 0.6625, 2.8076], 'confidence': 0.989, 'span': {'offset': 234, 'length': 12}}, {'state': 'unselected', 'polygon': [4.7045, 6.5441, 4.803, 6.5448, 4.8041, 6.6423, 4.7047, 6.6428], 'confidence': 0.989, 'span': {'offset': 1282, 'length': 12}}, {'state': 'selected', 'polygon': [4.2417, 6.5479, 4.34, 6.5482, 4.3406, 6.6432, 4.2424, 6.6409], 'confidence': 0.991, 'span': {'offset': 1298, 'length': 10}}, {'state': 'selected', 'polygon': [1.9659, 7.0228, 2.0625, 7.0233, 2.0624, 7.1191, 1.9648, 7.1189], 'confidence': 0.989, 'span': {'offset': 1618, 'length': 10}}, {'state': 'unselected', 'polygon': [2.4194, 7.0238, 2.5128, 7.0235, 2.5141, 7.1177, 2.4196, 7.1171], 'confidence': 0.991, 'span': {'offset': 1633, 'length': 12}}, {'state': 'selected', 'polygon': [1.8573, 7.7022, 1.9587, 7.7024, 1.9581, 7.801, 1.8577, 7.8011], 'confidence': 0.989, 'span': {'offset': 1997, 'length': 10}}, {'state': 'unselected', 'polygon': [1.78, 7.8789, 1.8782, 7.8793, 1.879, 7.9749, 1.7807, 7.9752], 'confidence': 0.991, 'span': {'offset': 2054, 'length': 12}}, {'state': 'unselected', 'polygon': [6.2232, 7.7039, 6.3227, 7.7034, 6.3227, 7.7987, 6.2231, 7.7979], 'confidence': 0.991, 'span': {'offset': 2067, 'length': 12}}, {'state': 'unselected', 'polygon': [6.7814, 8.057, 6.8798, 8.0563, 6.8798, 8.1538, 6.7825, 8.1546], 'confidence': 0.991, 'span': {'offset': 2148, 'length': 12}}, {'state': 'unselected', 'polygon': [6.7894, 7.8813, 6.8864, 7.8803, 6.8857, 7.9766, 6.7904, 7.9773], 'confidence': 0.991, 'span': {'offset': 2161, 'length': 12}}, {'state': 'unselected', 'polygon': [6.5364, 8.4099, 6.6309, 8.4103, 6.6319, 8.5018, 6.5368, 8.5013], 'confidence': 0.989, 'span': {'offset': 2425, 'length': 12}}, {'state': 'unselected', 'polygon': [6.7905, 8.6112, 6.8864, 8.6117, 6.886, 8.7056, 6.7903, 8.7053], 'confidence': 0.991, 'span': {'offset': 2555, 'length': 12}}, {'state': 'selected', 'polygon': [7.241, 8.6115, 7.3393, 8.6126, 7.339, 8.7063, 7.2402, 8.7064], 'confidence': 0.991, 'span': {'offset': 2571, 'length': 10}}], 'lines': [{'content': 'UNITED STATES', 'polygon': [3.4695, 0.6555, 5.0216, 0.6576, 5.0214, 0.847, 3.4693, 0.845], 'spans': [{'offset': 0, 'length': 13}]}, {'content': 'SECURITIES AND EXCHANGE COMMISSION', 'polygon': [2.1754, 0.8727, 6.3155, 0.8723, 6.3155, 1.0737, 2.1754, 1.0742], 'spans': [{'offset': 14, 'length': 34}]}, {'content': 'Washington, D.C. 20549', 'polygon': [3.4515, 1.0922, 5.0382, 1.0888, 5.0386, 1.2532, 3.4518, 1.2565], 'spans': [{'offset': 49, 'length': 22}]}, {'content': 'FORM 10-Q', 'polygon': [3.7116, 1.3956, 4.7861, 1.3942, 4.7863, 1.5875, 3.7118, 1.5888], 'spans': [{'offset': 72, 'length': 9}]}, {'content': '☐', 'polygon': [0.6694, 2.6955, 0.777, 2.6955, 0.777, 2.8042, 0.6694, 2.8042], 'spans': [{'offset': 82, 'length': 1}]}, {'content': '☒', 'polygon': [0.6694, 1.7746, 0.7764, 1.7746, 0.7764, 1.8833, 0.6694, 1.8833], 'spans': [{'offset': 84, 'length': 1}]}, {'content': 'QUARTERLY REPORT PURSUANT TO SECTION 13 OR 15(d) OF THE SECURITIES EXCHANGE ACT OF', 'polygon': [0.98, 1.7484, 7.8545, 1.7457, 7.8546, 1.9139, 0.9801, 1.9155], 'spans': [{'offset': 97, 'length': 82}]}, {'content': '1934', 'polygon': [0.9893, 1.9376, 1.3044, 1.9374, 1.3045, 2.069, 0.9894, 2.0692], 'spans': [{'offset': 180, 'length': 4}]}, {'content': 'For the Quarterly Period Ended March 31, 2020', 'polygon': [0.9801, 2.1373, 3.4642, 2.1306, 3.4646, 2.2722, 0.9805, 2.2753], 'spans': [{'offset': 185, 'length': 45}]}, {'content': 'OR', 'polygon': [4.1324, 2.2753, 4.367, 2.2763, 4.3663, 2.4212, 4.1317, 2.4201], 'spans': [{'offset': 231, 'length': 2}]}, {'content': 'TRANSITION REPORT PURSUANT TO SECTION 13 OR 15(d) OF THE SECURITIES EXCHANGE ACT OF', 'polygon': [0.9748, 2.6721, 7.8549, 2.6709, 7.8549, 2.8399, 0.9749, 2.841], 'spans': [{'offset': 247, 'length': 83}]}, {'content': '1934', 'polygon': [0.9901, 2.8615, 1.3054, 2.8617, 1.3053, 2.9955, 0.99, 2.9952], 'spans': [{'offset': 331, 'length': 4}]}, {'content': 'For the Transition Period From', 'polygon': [0.9791, 3.0641, 2.6228, 3.0631, 2.6229, 3.1921, 0.9792, 3.193], 'spans': [{'offset': 336, 'length': 30}]}, {'content': 'to', 'polygon': [3.1613, 3.0765, 3.2794, 3.0771, 3.2789, 3.1818, 3.1609, 3.1812], 'spans': [{'offset': 367, 'length': 2}]}, {'content': 'Commission File Number 001-37845', 'polygon': [3.2295, 3.2441, 5.267, 3.2427, 5.2671, 3.3792, 3.2296, 3.3806], 'spans': [{'offset': 370, 'length': 32}]}, {'content': 'MICROSOFT CORPORATION', 'polygon': [2.5239, 3.5346, 5.9697, 3.5316, 5.9699, 3.7733, 2.5241, 3.7763], 'spans': [{'offset': 403, 'length': 21}]}, {'content': 'WASHINGTON', 'polygon': [1.986, 3.9437, 2.823, 3.9433, 2.8231, 4.0692, 1.9861, 4.0696], 'spans': [{'offset': 425, 'length': 10}]}, {'content': '(STATE OF INCORPORATION)', 'polygon': [1.7034, 4.0782, 3.1125, 4.0768, 3.1127, 4.1993, 1.7035, 4.2007], 'spans': [{'offset': 436, 'length': 24}]}, {'content': 'ONE MICROSOFT WAY, REDMOND, WASHINGTON 98052-6399', 'polygon': [2.5797, 4.2592, 5.912, 4.2578, 5.912, 4.3935, 2.5797, 4.3949], 'spans': [{'offset': 461, 'length': 49}]}, {'content': '(425) 882-8080', 'polygon': [3.8657, 4.3972, 4.6326, 4.3931, 4.6333, 4.5175, 3.8663, 4.5216], 'spans': [{'offset': 511, 'length': 14}]}, {'content': 'www.microsoft.com/investor', 'polygon': [3.4766, 4.5267, 5.0147, 4.5253, 5.0148, 4.6471, 3.4767, 4.6485], 'spans': [{'offset': 526, 'length': 26}]}, {'content': '91-1144442', 'polygon': [5.7633, 3.9454, 6.4087, 3.9448, 6.4089, 4.0691, 5.7634, 4.0697], 'spans': [{'offset': 553, 'length': 10}]}, {'content': '(I.R.S. ID)', 'polygon': [5.8671, 4.0847, 6.3099, 4.083, 6.3104, 4.2015, 5.8675, 4.2032], 'spans': [{'offset': 564, 'length': 11}]}, {'content': 'Securities registered pursuant to Section 12(b) of the Act:', 'polygon': [0.622, 4.7155, 3.6308, 4.7142, 3.6309, 4.8636, 0.6221, 4.8648], 'spans': [{'offset': 576, 'length': 59}]}, {'content': 'Title of each class', 'polygon': [0.6241, 4.9446, 1.579, 4.9469, 1.5787, 5.0812, 0.6237, 5.0788], 'spans': [{'offset': 636, 'length': 19}]}, {'content': 'Trading Symbol', 'polygon': [4.3318, 4.9443, 5.1736, 4.9439, 5.1737, 5.0874, 4.3319, 5.0876], 'spans': [{'offset': 656, 'length': 14}]}, {'content': 'Name of exchange on which registered', 'polygon': [5.5722, 4.946, 7.6375, 4.9464, 7.6375, 5.0884, 5.5721, 5.0879], 'spans': [{'offset': 671, 'length': 36}]}, {'content': 'Common stock, $0.00000625 par value per share', 'polygon': [0.6237, 5.154, 3.3578, 5.1561, 3.3577, 5.3004, 0.6235, 5.2969], 'spans': [{'offset': 708, 'length': 45}]}, {'content': 'MSFT', 'polygon': [4.585, 5.1593, 4.9187, 5.1584, 4.919, 5.2821, 4.5853, 5.283], 'spans': [{'offset': 754, 'length': 4}]}, {'content': 'NASDAQ', 'polygon': [6.3433, 5.1564, 6.8695, 5.1568, 6.8694, 5.2854, 6.3432, 5.2849], 'spans': [{'offset': 759, 'length': 6}]}, {'content': '2.125% Notes due 2021', 'polygon': [0.6184, 5.309, 1.9249, 5.3095, 1.9248, 5.4456, 0.6183, 5.445], 'spans': [{'offset': 766, 'length': 21}]}, {'content': 'MSFT', 'polygon': [4.5868, 5.3148, 4.9179, 5.3145, 4.918, 5.4363, 4.5869, 5.4366], 'spans': [{'offset': 788, 'length': 4}]}, {'content': 'NASDAQ', 'polygon': [6.3438, 5.3134, 6.8711, 5.3139, 6.8709, 5.4404, 6.3436, 5.4398], 'spans': [{'offset': 793, 'length': 6}]}, {'content': '3.125% Notes due 2028', 'polygon': [0.6216, 5.4704, 1.9329, 5.4712, 1.9328, 5.6061, 0.6215, 5.6052], 'spans': [{'offset': 800, 'length': 21}]}, {'content': 'MSFT', 'polygon': [4.5855, 5.4747, 4.9187, 5.4739, 4.919, 5.5971, 4.5858, 5.5979], 'spans': [{'offset': 822, 'length': 4}]}, {'content': 'NASDAQ', 'polygon': [6.3444, 5.4733, 6.8698, 5.4753, 6.8693, 5.6006, 6.3439, 5.5987], 'spans': [{'offset': 827, 'length': 6}]}, {'content': '2.625% Notes due 2033', 'polygon': [0.6187, 5.6265, 1.9313, 5.6263, 1.9313, 5.7593, 0.6187, 5.7594], 'spans': [{'offset': 834, 'length': 21}]}, {'content': 'MSFT', 'polygon': [4.5862, 5.6291, 4.9188, 5.6282, 4.9191, 5.7521, 4.5865, 5.753], 'spans': [{'offset': 856, 'length': 4}]}, {'content': 'NASDAQ', 'polygon': [6.3432, 5.6281, 6.8711, 5.6293, 6.8708, 5.7567, 6.3429, 5.7554], 'spans': [{'offset': 861, 'length': 6}]}, {'content': 'Securities registered pursuant to Section 12(g) of the Act:', 'polygon': [0.6225, 5.8228, 3.6314, 5.8201, 3.6316, 5.9728, 0.6226, 5.9755], 'spans': [{'offset': 868, 'length': 59}]}, {'content': 'NONE', 'polygon': [0.6198, 6.0604, 0.9748, 6.059, 0.9753, 6.1856, 0.6199, 6.187], 'spans': [{'offset': 928, 'length': 4}]}, {'content': 'Indicate by check mark whether the registrant (1) has filed all reports required to be filed by Section 13 or 15(d) of the Securities Exchange', 'polygon': [0.6406, 6.2396, 7.8565, 6.24, 7.8565, 6.3931, 0.6406, 6.3927], 'spans': [{'offset': 933, 'length': 142}]}, {'content': 'Act of 1934 during the preceding 12 months (or for such shorter period that the registrant was required to file such reports), and (2) has', 'polygon': [0.644, 6.3835, 7.8597, 6.3839, 7.8597, 6.5329, 0.644, 6.5325], 'spans': [{'offset': 1076, 'length': 138}]}, {'content': 'been subject to such filing requirements for the past 90 days. Yes', 'polygon': [0.6427, 6.5288, 4.182, 6.5269, 4.182, 6.6738, 0.6427, 6.6758], 'spans': [{'offset': 1215, 'length': 66}]}, {'content': 'No', 'polygon': [4.4745, 6.5411, 4.6356, 6.5406, 4.636, 6.6532, 4.4748, 6.6536], 'spans': [{'offset': 1295, 'length': 2}]}, {'content': 'Indicate by check mark whether the registrant has submitted electronically every Interactive Data File required to be submitted pursuant to Rule', 'polygon': [0.642, 6.7238, 7.8563, 6.7231, 7.8563, 6.8723, 0.642, 6.8731], 'spans': [{'offset': 1309, 'length': 144}]}, {'content': '405 of Regulation S-T (§232.405 of this chapter) during the preceding 12 months (or for such shorter period that the registrant was required to', 'polygon': [0.6408, 6.8603, 7.8589, 6.8614, 7.8589, 7.0075, 0.6408, 7.0065], 'spans': [{'offset': 1454, 'length': 143}]}, {'content': 'submit such files).', 'polygon': [0.6417, 7.0086, 1.5654, 7.011, 1.565, 7.1428, 0.6414, 7.1402], 'spans': [{'offset': 1598, 'length': 19}]}, {'content': 'Yes', 'polygon': [1.6887, 7.0122, 1.8952, 7.015, 1.8935, 7.1331, 1.6878, 7.1302], 'spans': [{'offset': 1629, 'length': 3}]}, {'content': 'No', 'polygon': [2.1895, 7.0158, 2.3473, 7.0154, 2.3476, 7.1284, 2.1898, 7.1288], 'spans': [{'offset': 1646, 'length': 2}]}, {'content': 'Indicate by check mark whether the registrant is a large accelerated filer, an accelerated filer, a non-accelerated filer, a smaller reporting', 'polygon': [0.642, 7.2023, 7.8542, 7.2088, 7.854, 7.3606, 0.6419, 7.3532], 'spans': [{'offset': 1649, 'length': 142}]}, {'content': 'company, or an emerging growth company. See the definitions of \"large accelerated filer,\" \"accelerated filer,\" \"smaller reporting company,\"', 'polygon': [0.6419, 7.3429, 7.8386, 7.3454, 7.8386, 7.4935, 0.6418, 7.491], 'spans': [{'offset': 1792, 'length': 139}]}, {'content': 'and \"emerging growth company\" in Rule 12b-2 of the Exchange Act.', 'polygon': [0.6403, 7.4835, 4.2094, 7.4814, 4.2095, 7.6246, 0.6404, 7.6267], 'spans': [{'offset': 1932, 'length': 64}]}, {'content': 'Large accelerated filer', 'polygon': [0.64, 7.6914, 1.8375, 7.684, 1.8384, 7.8222, 0.6409, 7.8295], 'spans': [{'offset': 2008, 'length': 23}]}, {'content': 'Non-accelerated filer', 'polygon': [0.6405, 7.8665, 1.7532, 7.8648, 1.7534, 7.9942, 0.6407, 7.9959], 'spans': [{'offset': 2032, 'length': 21}]}, {'content': 'Accelerated filer', 'polygon': [5.3258, 7.6886, 6.1918, 7.6862, 6.1921, 7.8163, 5.3262, 7.8186], 'spans': [{'offset': 2080, 'length': 17}]}, {'content': 'Smaller reporting company', 'polygon': [5.327, 7.8643, 6.7525, 7.8713, 6.7518, 8.0106, 5.3263, 8.0047], 'spans': [{'offset': 2098, 'length': 25}]}, {'content': 'Emerging growth company', 'polygon': [5.328, 8.0435, 6.7428, 8.0476, 6.7424, 8.1877, 5.3276, 8.1844], 'spans': [{'offset': 2124, 'length': 23}]}, {'content': 'If an emerging growth company, indicate by check mark if the registrant has elected not to use the extended transition period for complying', 'polygon': [0.6401, 8.2344, 7.853, 8.2382, 7.8529, 8.3903, 0.64, 8.3865], 'spans': [{'offset': 2174, 'length': 139}]}, {'content': 'with any new or revised financial accounting standards provided pursuant to Section 13(a) of the Exchange Act.', 'polygon': [0.6369, 8.3913, 6.4788, 8.385, 6.4789, 8.5314, 0.6371, 8.5365], 'spans': [{'offset': 2314, 'length': 110}]}, {'content': 'Indicate by check mark whether the registrant is a shell company (as defined in Rule 12b-2 of the Exchange Act). Yes', 'polygon': [0.6419, 8.5901, 6.7191, 8.5863, 6.7192, 8.7388, 0.642, 8.7413], 'spans': [{'offset': 2438, 'length': 116}]}, {'content': 'No', 'polygon': [7.0142, 8.605, 7.1715, 8.6058, 7.1709, 8.7148, 7.0136, 8.714], 'spans': [{'offset': 2568, 'length': 2}]}, {'content': \"Indicate the number of shares outstanding of each of the issuer's classes of common stock, as of the latest practicable date.\", 'polygon': [0.6411, 8.7892, 6.9457, 8.788, 6.9458, 8.9368, 0.6411, 8.938], 'spans': [{'offset': 2582, 'length': 125}]}, {'content': 'Class', 'polygon': [0.6419, 9.0817, 0.9329, 9.0835, 0.9323, 9.1877, 0.6412, 9.1858], 'spans': [{'offset': 2708, 'length': 5}]}, {'content': 'Outstanding as of April 24, 2020', 'polygon': [6.116, 9.0821, 7.7134, 9.077, 7.7138, 9.2038, 6.1164, 9.2063], 'spans': [{'offset': 2714, 'length': 32}]}, {'content': 'Common Stock, $0.00000625 par value per share', 'polygon': [0.6434, 9.2965, 3.2675, 9.3018, 3.2672, 9.4357, 0.6431, 9.4303], 'spans': [{'offset': 2747, 'length': 45}]}, {'content': '7,583,440,247 shares', 'polygon': [6.5644, 9.3266, 7.7165, 9.3277, 7.7164, 9.4566, 6.5643, 9.4555], 'spans': [{'offset': 2793, 'length': 20}]}], 'spans': [{'offset': 0, 'length': 2813}]}], 'tables': [{'rowCount': 5, 'columnCount': 3, 'cells': [{'kind': 'columnHeader', 'rowIndex': 0, 'columnIndex': 0, 'content': 'Title of each class', 'boundingRegions': [{'pageNumber': 1, 'polygon': [0.5702, 4.8825, 3.8454, 4.8825, 3.8389, 5.1255, 0.5636, 5.1255]}], 'spans': [{'offset': 636, 'length': 19}], 'elements': ['/paragraphs/8']}, {'kind': 'columnHeader', 'rowIndex': 0, 'columnIndex': 1, 'content': 'Trading Symbol', 'boundingRegions': [{'pageNumber': 1, 'polygon': [3.8454, 4.8825, 5.3713, 4.8825, 5.3713, 5.1255, 3.8389, 5.1255]}], 'spans': [{'offset': 656, 'length': 14}], 'elements': ['/paragraphs/9']}, {'kind': 'columnHeader', 'rowIndex': 0, 'columnIndex': 2, 'content': 'Name of exchange on which registered', 'boundingRegions': [{'pageNumber': 1, 'polygon': [5.3713, 4.8825, 6.93, 4.8825, 6.93, 5.1123, 5.3713, 5.1255]}], 'spans': [{'offset': 671, 'length': 36}], 'elements': ['/paragraphs/10']}, {'rowIndex': 1, 'columnIndex': 0, 'content': 'Common stock, $0.00000625 par value per share', 'boundingRegions': [{'pageNumber': 1, 'polygon': [0.5636, 5.1255, 3.8389, 5.1255, 3.8389, 5.2962, 0.5636, 5.2962]}], 'spans': [{'offset': 708, 'length': 45}], 'elements': ['/paragraphs/11']}, {'rowIndex': 1, 'columnIndex': 1, 'content': 'MSFT', 'boundingRegions': [{'pageNumber': 1, 'polygon': [3.8389, 5.1255, 5.3713, 5.1255, 5.3713, 5.2962, 3.8389, 5.2962]}], 'spans': [{'offset': 754, 'length': 4}], 'elements': ['/paragraphs/12']}, {'rowIndex': 1, 'columnIndex': 2, 'content': 'NASDAQ', 'boundingRegions': [{'pageNumber': 1, 'polygon': [5.3713, 5.1255, 6.93, 5.1123, 6.93, 5.2962, 5.3713, 5.2962]}], 'spans': [{'offset': 759, 'length': 6}], 'elements': ['/paragraphs/13']}, {'rowIndex': 2, 'columnIndex': 0, 'content': '2.125% Notes due 2021', 'boundingRegions': [{'pageNumber': 1, 'polygon': [0.5636, 5.2962, 3.8389, 5.2962, 3.8323, 5.4538, 0.5636, 5.4538]}], 'spans': [{'offset': 766, 'length': 21}], 'elements': ['/paragraphs/14']}, {'rowIndex': 2, 'columnIndex': 1, 'content': 'MSFT', 'boundingRegions': [{'pageNumber': 1, 'polygon': [3.8389, 5.2962, 5.3713, 5.2962, 5.3713, 5.4538, 3.8323, 5.4538]}], 'spans': [{'offset': 788, 'length': 4}], 'elements': ['/paragraphs/15']}, {'rowIndex': 2, 'columnIndex': 2, 'content': 'NASDAQ', 'boundingRegions': [{'pageNumber': 1, 'polygon': [5.3713, 5.2962, 6.93, 5.2962, 6.93, 5.4538, 5.3713, 5.4538]}], 'spans': [{'offset': 793, 'length': 6}], 'elements': ['/paragraphs/16']}, {'rowIndex': 3, 'columnIndex': 0, 'content': '3.125% Notes due 2028', 'boundingRegions': [{'pageNumber': 1, 'polygon': [0.5636, 5.4538, 3.8323, 5.4538, 3.8323, 5.6114, 0.5636, 5.6114]}], 'spans': [{'offset': 800, 'length': 21}], 'elements': ['/paragraphs/17']}, {'rowIndex': 3, 'columnIndex': 1, 'content': 'MSFT', 'boundingRegions': [{'pageNumber': 1, 'polygon': [3.8323, 5.4538, 5.3713, 5.4538, 5.3713, 5.6114, 3.8323, 5.6114]}], 'spans': [{'offset': 822, 'length': 4}], 'elements': ['/paragraphs/18']}, {'rowIndex': 3, 'columnIndex': 2, 'content': 'NASDAQ', 'boundingRegions': [{'pageNumber': 1, 'polygon': [5.3713, 5.4538, 6.93, 5.4538, 6.93, 5.6114, 5.3713, 5.6114]}], 'spans': [{'offset': 827, 'length': 6}], 'elements': ['/paragraphs/19']}, {'rowIndex': 4, 'columnIndex': 0, 'content': '2.625% Notes due 2033', 'boundingRegions': [{'pageNumber': 1, 'polygon': [0.5636, 5.6114, 3.8323, 5.6114, 3.8323, 5.7953, 0.557, 5.8018]}], 'spans': [{'offset': 834, 'length': 21}], 'elements': ['/paragraphs/20']}, {'rowIndex': 4, 'columnIndex': 1, 'content': 'MSFT', 'boundingRegions': [{'pageNumber': 1, 'polygon': [3.8323, 5.6114, 5.3713, 5.6114, 5.3713, 5.7953, 3.8323, 5.7953]}], 'spans': [{'offset': 856, 'length': 4}], 'elements': ['/paragraphs/21']}, {'rowIndex': 4, 'columnIndex': 2, 'content': 'NASDAQ', 'boundingRegions': [{'pageNumber': 1, 'polygon': [5.3713, 5.6114, 6.93, 5.6114, 6.93, 5.8018, 5.3713, 5.7953]}], 'spans': [{'offset': 861, 'length': 6}], 'elements': ['/paragraphs/22']}], 'boundingRegions': [{'pageNumber': 1, 'polygon': [0.5912, 4.9025, 6.9694, 4.9034, 6.9718, 5.7826, 0.5926, 5.782]}], 'spans': [{'offset': 636, 'length': 231}]}, {'rowCount': 2, 'columnCount': 2, 'cells': [{'kind': 'columnHeader', 'rowIndex': 0, 'columnIndex': 0, 'content': 'Class', 'boundingRegions': [{'pageNumber': 1, 'polygon': [0.5742, 9.0327, 4.6789, 9.0252, 4.6864, 9.2427, 0.5742, 9.2427]}], 'spans': [{'offset': 2708, 'length': 5}], 'elements': ['/paragraphs/34']}, {'kind': 'columnHeader', 'rowIndex': 0, 'columnIndex': 1, 'content': 'Outstanding as of April 24, 2020', 'boundingRegions': [{'pageNumber': 1, 'polygon': [4.6789, 9.0252, 7.8284, 9.0252, 7.8358, 9.2427, 4.6864, 9.2427]}], 'spans': [{'offset': 2714, 'length': 32}], 'elements': ['/paragraphs/35']}, {'rowIndex': 1, 'columnIndex': 0, 'content': 'Common Stock, $0.00000625 par value per share', 'boundingRegions': [{'pageNumber': 1, 'polygon': [0.5742, 9.2427, 4.6864, 9.2427, 4.6864, 9.4901, 0.5742, 9.4901]}], 'spans': [{'offset': 2747, 'length': 45}], 'elements': ['/paragraphs/36']}, {'rowIndex': 1, 'columnIndex': 1, 'content': '7,583,440,247 shares', 'boundingRegions': [{'pageNumber': 1, 'polygon': [4.6864, 9.2427, 7.8358, 9.2427, 7.8433, 9.4901, 4.6864, 9.4901]}], 'spans': [{'offset': 2793, 'length': 20}], 'elements': ['/paragraphs/37']}], 'boundingRegions': [{'pageNumber': 1, 'polygon': [0.6052, 9.0426, 7.8791, 9.0456, 7.8827, 9.5129, 0.609, 9.5102]}], 'spans': [{'offset': 2708, 'length': 105}]}], 'paragraphs': [{'spans': [{'offset': 0, 'length': 71}], 'boundingRegions': [{'pageNumber': 1, 'polygon': [2.1753, 0.6557, 6.3154, 0.6552, 6.3155, 1.2562, 2.1754, 1.2566]}], 'role': 'title', 'content': 'UNITED STATES SECURITIES AND EXCHANGE COMMISSION Washington, D.C. 20549'}, {'spans': [{'offset': 72, 'length': 9}], 'boundingRegions': [{'pageNumber': 1, 'polygon': [3.7116, 1.3956, 4.7861, 1.3942, 4.7863, 1.5875, 3.7118, 1.5889]}], 'role': 'title', 'content': 'FORM 10-Q'}, {'spans': [{'offset': 82, 'length': 287}], 'boundingRegions': [{'pageNumber': 1, 'polygon': [0.6621, 1.7485, 7.8546, 1.7457, 7.8551, 3.1904, 0.6627, 3.1932]}], 'content': '☐ ☒ :selected: QUARTERLY REPORT PURSUANT TO SECTION 13 OR 15(d) OF THE SECURITIES EXCHANGE ACT OF 1934 For the Quarterly Period Ended March 31, 2020 OR :unselected: TRANSITION REPORT PURSUANT TO SECTION 13 OR 15(d) OF THE SECURITIES EXCHANGE ACT OF 1934 For the Transition Period From to'}, {'spans': [{'offset': 370, 'length': 32}], 'boundingRegions': [{'pageNumber': 1, 'polygon': [3.2295, 3.2441, 5.267, 3.2427, 5.2671, 3.3792, 3.2296, 3.3806]}], 'content': 'Commission File Number 001-37845'}, {'spans': [{'offset': 403, 'length': 21}], 'boundingRegions': [{'pageNumber': 1, 'polygon': [2.5239, 3.5346, 5.9697, 3.5316, 5.9699, 3.7733, 2.5241, 3.7763]}], 'role': 'sectionHeading', 'content': 'MICROSOFT CORPORATION'}, {'spans': [{'offset': 425, 'length': 127}], 'boundingRegions': [{'pageNumber': 1, 'polygon': [1.7284, 3.8318, 5.9257, 4.2592, 5.8614, 4.8913, 1.6642, 4.4639]}], 'content': 'WASHINGTON (STATE OF INCORPORATION) ONE MICROSOFT WAY, REDMOND, WASHINGTON 98052-6399 (425) 882-8080 www.microsoft.com/investor'}, {'spans': [{'offset': 553, 'length': 22}], 'boundingRegions': [{'pageNumber': 1, 'polygon': [5.7633, 3.9454, 6.4087, 3.9448, 6.409, 4.2026, 5.7635, 4.2032]}], 'content': '91-1144442 (I.R.S. ID)'}, {'spans': [{'offset': 576, 'length': 59}], 'boundingRegions': [{'pageNumber': 1, 'polygon': [0.622, 4.7155, 3.6308, 4.7142, 3.6309, 4.8636, 0.6221, 4.8648]}], 'content': 'Securities registered pursuant to Section 12(b) of the Act:'}, {'spans': [{'offset': 636, 'length': 19}], 'boundingRegions': [{'pageNumber': 1, 'polygon': [0.5702, 4.8825, 3.8454, 4.8825, 3.8389, 5.1255, 0.5636, 5.1255]}], 'content': 'Title of each class'}, {'spans': [{'offset': 656, 'length': 14}], 'boundingRegions': [{'pageNumber': 1, 'polygon': [3.8454, 4.8825, 5.3713, 4.8825, 5.3713, 5.1255, 3.8389, 5.1255]}], 'content': 'Trading Symbol'}, {'spans': [{'offset': 671, 'length': 36}], 'boundingRegions': [{'pageNumber': 1, 'polygon': [5.3713, 4.8825, 6.93, 4.8825, 6.93, 5.1123, 5.3713, 5.1255]}], 'content': 'Name of exchange on which registered'}, {'spans': [{'offset': 708, 'length': 45}], 'boundingRegions': [{'pageNumber': 1, 'polygon': [0.5636, 5.1255, 3.8389, 5.1255, 3.8389, 5.2962, 0.5636, 5.2962]}], 'content': 'Common stock, $0.00000625 par value per share'}, {'spans': [{'offset': 754, 'length': 4}], 'boundingRegions': [{'pageNumber': 1, 'polygon': [3.8389, 5.1255, 5.3713, 5.1255, 5.3713, 5.2962, 3.8389, 5.2962]}], 'content': 'MSFT'}, {'spans': [{'offset': 759, 'length': 6}], 'boundingRegions': [{'pageNumber': 1, 'polygon': [5.3713, 5.1255, 6.93, 5.1123, 6.93, 5.2962, 5.3713, 5.2962]}], 'content': 'NASDAQ'}, {'spans': [{'offset': 766, 'length': 21}], 'boundingRegions': [{'pageNumber': 1, 'polygon': [0.5636, 5.2962, 3.8389, 5.2962, 3.8323, 5.4538, 0.5636, 5.4538]}], 'content': '2.125% Notes due 2021'}, {'spans': [{'offset': 788, 'length': 4}], 'boundingRegions': [{'pageNumber': 1, 'polygon': [3.8389, 5.2962, 5.3713, 5.2962, 5.3713, 5.4538, 3.8323, 5.4538]}], 'content': 'MSFT'}, {'spans': [{'offset': 793, 'length': 6}], 'boundingRegions': [{'pageNumber': 1, 'polygon': [5.3713, 5.2962, 6.93, 5.2962, 6.93, 5.4538, 5.3713, 5.4538]}], 'content': 'NASDAQ'}, {'spans': [{'offset': 800, 'length': 21}], 'boundingRegions': [{'pageNumber': 1, 'polygon': [0.5636, 5.4538, 3.8323, 5.4538, 3.8323, 5.6114, 0.5636, 5.6114]}], 'content': '3.125% Notes due 2028'}, {'spans': [{'offset': 822, 'length': 4}], 'boundingRegions': [{'pageNumber': 1, 'polygon': [3.8323, 5.4538, 5.3713, 5.4538, 5.3713, 5.6114, 3.8323, 5.6114]}], 'content': 'MSFT'}, {'spans': [{'offset': 827, 'length': 6}], 'boundingRegions': [{'pageNumber': 1, 'polygon': [5.3713, 5.4538, 6.93, 5.4538, 6.93, 5.6114, 5.3713, 5.6114]}], 'content': 'NASDAQ'}, {'spans': [{'offset': 834, 'length': 21}], 'boundingRegions': [{'pageNumber': 1, 'polygon': [0.5636, 5.6114, 3.8323, 5.6114, 3.8323, 5.7953, 0.557, 5.8018]}], 'content': '2.625% Notes due 2033'}, {'spans': [{'offset': 856, 'length': 4}], 'boundingRegions': [{'pageNumber': 1, 'polygon': [3.8323, 5.6114, 5.3713, 5.6114, 5.3713, 5.7953, 3.8323, 5.7953]}], 'content': 'MSFT'}, {'spans': [{'offset': 861, 'length': 6}], 'boundingRegions': [{'pageNumber': 1, 'polygon': [5.3713, 5.6114, 6.93, 5.6114, 6.93, 5.8018, 5.3713, 5.7953]}], 'content': 'NASDAQ'}, {'spans': [{'offset': 868, 'length': 64}], 'boundingRegions': [{'pageNumber': 1, 'polygon': [0.6196, 5.8228, 3.6314, 5.8201, 3.6317, 6.1843, 0.6199, 6.187]}], 'content': 'Securities registered pursuant to Section 12(g) of the Act: NONE'}, {'spans': [{'offset': 933, 'length': 375}], 'boundingRegions': [{'pageNumber': 1, 'polygon': [0.6406, 6.2396, 7.8598, 6.24, 7.8597, 6.6762, 0.6405, 6.6758]}], 'content': 'Indicate by check mark whether the registrant (1) has filed all reports required to be filed by Section 13 or 15(d) of the Securities Exchange Act of 1934 during the preceding 12 months (or for such shorter period that the registrant was required to file such reports), and (2) has been subject to such filing requirements for the past 90 days. Yes :unselected: No :selected:'}, {'spans': [{'offset': 1309, 'length': 339}], 'boundingRegions': [{'pageNumber': 1, 'polygon': [0.6408, 6.7238, 7.8589, 6.7231, 7.8589, 7.1422, 0.6408, 7.1429]}], 'content': 'Indicate by check mark whether the registrant has submitted electronically every Interactive Data File required to be submitted pursuant to Rule 405 of Regulation S-T (§232.405 of this chapter) during the preceding 12 months (or for such shorter period that the registrant was required to submit such files). :selected: Yes :unselected: No'}, {'spans': [{'offset': 1649, 'length': 347}], 'boundingRegions': [{'pageNumber': 1, 'polygon': [0.6406, 7.2023, 7.8542, 7.2088, 7.8538, 7.6332, 0.6402, 7.6267]}], 'content': 'Indicate by check mark whether the registrant is a large accelerated filer, an accelerated filer, a non-accelerated filer, a smaller reporting company, or an emerging growth company. See the definitions of \"large accelerated filer,\" \"accelerated filer,\" \"smaller reporting company,\" and \"emerging growth company\" in Rule 12b-2 of the Exchange Act.'}, {'spans': [{'offset': 1997, 'length': 69}], 'boundingRegions': [{'pageNumber': 1, 'polygon': [0.6389, 7.6914, 1.9586, 7.6833, 1.9605, 7.9929, 0.6408, 8.001]}], 'content': ':selected: Large accelerated filer Non-accelerated filer :unselected:'}, {'spans': [{'offset': 2067, 'length': 93}], 'boundingRegions': [{'pageNumber': 1, 'polygon': [5.3259, 7.6842, 6.8809, 7.6879, 6.8797, 8.188, 5.3247, 8.1844]}], 'content': ':unselected: Accelerated filer Smaller reporting company Emerging growth company :unselected:'}, {'spans': [{'offset': 2161, 'length': 12}], 'boundingRegions': [{'pageNumber': 1, 'polygon': [6.7894, 7.8812, 6.8864, 7.8803, 6.8874, 7.9766, 6.7904, 7.9776]}], 'content': ':unselected:'}, {'spans': [{'offset': 2174, 'length': 263}], 'boundingRegions': [{'pageNumber': 1, 'polygon': [0.637, 8.2344, 7.853, 8.2382, 7.8528, 8.5403, 0.6368, 8.5365]}], 'content': 'If an emerging growth company, indicate by check mark if the registrant has elected not to use the extended transition period for complying with any new or revised financial accounting standards provided pursuant to Section 13(a) of the Exchange Act. :unselected:'}, {'spans': [{'offset': 2438, 'length': 132}], 'boundingRegions': [{'pageNumber': 1, 'polygon': [0.6419, 8.5888, 7.1715, 8.5861, 7.1715, 8.7386, 0.642, 8.7413]}], 'content': 'Indicate by check mark whether the registrant is a shell company (as defined in Rule 12b-2 of the Exchange Act). Yes :unselected: No'}, {'spans': [{'offset': 2571, 'length': 10}], 'boundingRegions': [{'pageNumber': 1, 'polygon': [7.241, 8.6115, 7.3398, 8.6124, 7.339, 8.7072, 7.2402, 8.7064]}], 'content': ':selected:'}, {'spans': [{'offset': 2582, 'length': 125}], 'boundingRegions': [{'pageNumber': 1, 'polygon': [0.6411, 8.7892, 6.9457, 8.788, 6.9458, 8.9368, 0.6411, 8.938]}], 'content': \"Indicate the number of shares outstanding of each of the issuer's classes of common stock, as of the latest practicable date.\"}, {'spans': [{'offset': 2708, 'length': 5}], 'boundingRegions': [{'pageNumber': 1, 'polygon': [0.5742, 9.0327, 4.6789, 9.0252, 4.6864, 9.2427, 0.5742, 9.2427]}], 'content': 'Class'}, {'spans': [{'offset': 2714, 'length': 32}], 'boundingRegions': [{'pageNumber': 1, 'polygon': [4.6789, 9.0252, 7.8284, 9.0252, 7.8358, 9.2427, 4.6864, 9.2427]}], 'content': 'Outstanding as of April 24, 2020'}, {'spans': [{'offset': 2747, 'length': 45}], 'boundingRegions': [{'pageNumber': 1, 'polygon': [0.5742, 9.2427, 4.6864, 9.2427, 4.6864, 9.4901, 0.5742, 9.4901]}], 'content': 'Common Stock, $0.00000625 par value per share'}, {'spans': [{'offset': 2793, 'length': 20}], 'boundingRegions': [{'pageNumber': 1, 'polygon': [4.6864, 9.2427, 7.8358, 9.2427, 7.8433, 9.4901, 4.6864, 9.4901]}], 'content': '7,583,440,247 shares'}], 'styles': [], 'contentFormat': 'text', 'sections': [{'spans': [{'offset': 0, 'length': 2813}], 'elements': ['/paragraphs/0', '/sections/1', '/sections/2']}, {'spans': [{'offset': 72, 'length': 330}], 'elements': ['/paragraphs/1', '/paragraphs/2', '/paragraphs/3']}, {'spans': [{'offset': 403, 'length': 2410}], 'elements': ['/paragraphs/4', '/paragraphs/5', '/paragraphs/6', '/paragraphs/7', '/tables/0', '/paragraphs/23', '/paragraphs/24', '/paragraphs/25', '/paragraphs/26', '/paragraphs/27', '/paragraphs/28', '/paragraphs/29', '/paragraphs/30', '/paragraphs/31', '/paragraphs/32', '/paragraphs/33', '/tables/1']}]}\n"
     ]
    }
   ],
   "source": [
    "print(result)"
   ]
  },
  {
   "cell_type": "code",
   "execution_count": 16,
   "metadata": {
    "gather": {
     "logged": 1744293332902
    }
   },
   "outputs": [
    {
     "data": {
      "text/plain": [
       "azure.ai.documentintelligence.models._models.AnalyzeResult"
      ]
     },
     "execution_count": 16,
     "metadata": {},
     "output_type": "execute_result"
    }
   ],
   "source": [
    "type(result)"
   ]
  },
  {
   "cell_type": "code",
   "execution_count": 17,
   "metadata": {
    "gather": {
     "logged": 1744293333965
    }
   },
   "outputs": [
    {
     "data": {
      "text/plain": [
       "'prebuilt-layout'"
      ]
     },
     "execution_count": 17,
     "metadata": {},
     "output_type": "execute_result"
    }
   ],
   "source": [
    "result.model_id"
   ]
  },
  {
   "cell_type": "code",
   "execution_count": 18,
   "metadata": {
    "gather": {
     "logged": 1744293341048
    }
   },
   "outputs": [
    {
     "data": {
      "text/plain": [
       "'2024-11-30'"
      ]
     },
     "execution_count": 18,
     "metadata": {},
     "output_type": "execute_result"
    }
   ],
   "source": [
    "result.api_version"
   ]
  },
  {
   "cell_type": "code",
   "execution_count": 19,
   "metadata": {
    "gather": {
     "logged": 1744293342559
    }
   },
   "outputs": [
    {
     "name": "stdout",
     "output_type": "stream",
     "text": [
      "UNITED STATES SECURITIES AND EXCHANGE COMMISSION Washington, D.C. 20549\n",
      "FORM 10-Q\n",
      "☐ ☒ :selected: QUARTERLY REPORT PURSUANT TO SECTION 13 OR 15(d) OF THE SECURITIES EXCHANGE ACT OF 1934 For the Quarterly Period Ended March 31, 2020 OR :unselected: TRANSITION REPORT PURSUANT TO SECTION 13 OR 15(d) OF THE SECURITIES EXCHANGE ACT OF 1934 For the Transition Period From to\n",
      "Commission File Number 001-37845\n",
      "MICROSOFT CORPORATION\n",
      "WASHINGTON (STATE OF INCORPORATION) ONE MICROSOFT WAY, REDMOND, WASHINGTON 98052-6399 (425) 882-8080 www.microsoft.com/investor\n",
      "91-1144442 (I.R.S. ID)\n",
      "Securities registered pursuant to Section 12(b) of the Act:\n",
      "Title of each class\n",
      "Trading Symbol\n",
      "Name of exchange on which registered\n",
      "Common stock, $0.00000625 par value per share\n",
      "MSFT\n",
      "NASDAQ\n",
      "2.125% Notes due 2021\n",
      "MSFT\n",
      "NASDAQ\n",
      "3.125% Notes due 2028\n",
      "MSFT\n",
      "NASDAQ\n",
      "2.625% Notes due 2033\n",
      "MSFT\n",
      "NASDAQ\n",
      "Securities registered pursuant to Section 12(g) of the Act: NONE\n",
      "Indicate by check mark whether the registrant (1) has filed all reports required to be filed by Section 13 or 15(d) of the Securities Exchange Act of 1934 during the preceding 12 months (or for such shorter period that the registrant was required to file such reports), and (2) has been subject to such filing requirements for the past 90 days. Yes :unselected: No :selected:\n",
      "Indicate by check mark whether the registrant has submitted electronically every Interactive Data File required to be submitted pursuant to Rule 405 of Regulation S-T (§232.405 of this chapter) during the preceding 12 months (or for such shorter period that the registrant was required to submit such files). :selected: Yes :unselected: No\n",
      "Indicate by check mark whether the registrant is a large accelerated filer, an accelerated filer, a non-accelerated filer, a smaller reporting company, or an emerging growth company. See the definitions of \"large accelerated filer,\" \"accelerated filer,\" \"smaller reporting company,\" and \"emerging growth company\" in Rule 12b-2 of the Exchange Act. :selected: Large accelerated filer Non-accelerated filer :unselected: :unselected: Accelerated filer Smaller reporting company Emerging growth company :unselected: :unselected:\n",
      "If an emerging growth company, indicate by check mark if the registrant has elected not to use the extended transition period for complying with any new or revised financial accounting standards provided pursuant to Section 13(a) of the Exchange Act. :unselected:\n",
      "Indicate by check mark whether the registrant is a shell company (as defined in Rule 12b-2 of the Exchange Act). Yes :unselected: No :selected:\n",
      "Indicate the number of shares outstanding of each of the issuer's classes of common stock, as of the latest practicable date.\n",
      "Class\n",
      "Outstanding as of April 24, 2020\n",
      "Common Stock, $0.00000625 par value per share\n",
      "7,583,440,247 shares\n"
     ]
    }
   ],
   "source": [
    "print(result.content)"
   ]
  },
  {
   "cell_type": "code",
   "execution_count": 20,
   "metadata": {
    "gather": {
     "logged": 1744293344833
    }
   },
   "outputs": [
    {
     "name": "stdout",
     "output_type": "stream",
     "text": [
      "I've found 2 tables.\n"
     ]
    }
   ],
   "source": [
    "if result.tables:\n",
    "    print(f\"I've found {len(result.tables)} tables.\")"
   ]
  },
  {
   "cell_type": "markdown",
   "metadata": {},
   "source": [
    "#### Tables parsing"
   ]
  },
  {
   "cell_type": "code",
   "execution_count": 21,
   "metadata": {
    "gather": {
     "logged": 1744293347641
    }
   },
   "outputs": [
    {
     "name": "stdout",
     "output_type": "stream",
     "text": [
      "Table # 0 has 5 rows and 3 columns\n",
      "Table # 0 location on page: 1 is [0.5912, 4.9025, 6.9694, 4.9034, 6.9718, 5.7826, 0.5926, 5.782]\n",
      "...Cell[0][0] has text 'Title of each class'\n",
      "...content on page 1 is within bounding polygon '[0.5702, 4.8825, 3.8454, 4.8825, 3.8389, 5.1255, 0.5636, 5.1255]'\n",
      "...Cell[0][1] has text 'Trading Symbol'\n",
      "...content on page 1 is within bounding polygon '[3.8454, 4.8825, 5.3713, 4.8825, 5.3713, 5.1255, 3.8389, 5.1255]'\n",
      "...Cell[0][2] has text 'Name of exchange on which registered'\n",
      "...content on page 1 is within bounding polygon '[5.3713, 4.8825, 6.93, 4.8825, 6.93, 5.1123, 5.3713, 5.1255]'\n",
      "...Cell[1][0] has text 'Common stock, $0.00000625 par value per share'\n",
      "...content on page 1 is within bounding polygon '[0.5636, 5.1255, 3.8389, 5.1255, 3.8389, 5.2962, 0.5636, 5.2962]'\n",
      "...Cell[1][1] has text 'MSFT'\n",
      "...content on page 1 is within bounding polygon '[3.8389, 5.1255, 5.3713, 5.1255, 5.3713, 5.2962, 3.8389, 5.2962]'\n",
      "...Cell[1][2] has text 'NASDAQ'\n",
      "...content on page 1 is within bounding polygon '[5.3713, 5.1255, 6.93, 5.1123, 6.93, 5.2962, 5.3713, 5.2962]'\n",
      "...Cell[2][0] has text '2.125% Notes due 2021'\n",
      "...content on page 1 is within bounding polygon '[0.5636, 5.2962, 3.8389, 5.2962, 3.8323, 5.4538, 0.5636, 5.4538]'\n",
      "...Cell[2][1] has text 'MSFT'\n",
      "...content on page 1 is within bounding polygon '[3.8389, 5.2962, 5.3713, 5.2962, 5.3713, 5.4538, 3.8323, 5.4538]'\n",
      "...Cell[2][2] has text 'NASDAQ'\n",
      "...content on page 1 is within bounding polygon '[5.3713, 5.2962, 6.93, 5.2962, 6.93, 5.4538, 5.3713, 5.4538]'\n",
      "...Cell[3][0] has text '3.125% Notes due 2028'\n",
      "...content on page 1 is within bounding polygon '[0.5636, 5.4538, 3.8323, 5.4538, 3.8323, 5.6114, 0.5636, 5.6114]'\n",
      "...Cell[3][1] has text 'MSFT'\n",
      "...content on page 1 is within bounding polygon '[3.8323, 5.4538, 5.3713, 5.4538, 5.3713, 5.6114, 3.8323, 5.6114]'\n",
      "...Cell[3][2] has text 'NASDAQ'\n",
      "...content on page 1 is within bounding polygon '[5.3713, 5.4538, 6.93, 5.4538, 6.93, 5.6114, 5.3713, 5.6114]'\n",
      "...Cell[4][0] has text '2.625% Notes due 2033'\n",
      "...content on page 1 is within bounding polygon '[0.5636, 5.6114, 3.8323, 5.6114, 3.8323, 5.7953, 0.557, 5.8018]'\n",
      "...Cell[4][1] has text 'MSFT'\n",
      "...content on page 1 is within bounding polygon '[3.8323, 5.6114, 5.3713, 5.6114, 5.3713, 5.7953, 3.8323, 5.7953]'\n",
      "...Cell[4][2] has text 'NASDAQ'\n",
      "...content on page 1 is within bounding polygon '[5.3713, 5.6114, 6.93, 5.6114, 6.93, 5.8018, 5.3713, 5.7953]'\n",
      "Table # 1 has 2 rows and 2 columns\n",
      "Table # 1 location on page: 1 is [0.6052, 9.0426, 7.8791, 9.0456, 7.8827, 9.5129, 0.609, 9.5102]\n",
      "...Cell[0][0] has text 'Class'\n",
      "...content on page 1 is within bounding polygon '[0.5742, 9.0327, 4.6789, 9.0252, 4.6864, 9.2427, 0.5742, 9.2427]'\n",
      "...Cell[0][1] has text 'Outstanding as of April 24, 2020'\n",
      "...content on page 1 is within bounding polygon '[4.6789, 9.0252, 7.8284, 9.0252, 7.8358, 9.2427, 4.6864, 9.2427]'\n",
      "...Cell[1][0] has text 'Common Stock, $0.00000625 par value per share'\n",
      "...content on page 1 is within bounding polygon '[0.5742, 9.2427, 4.6864, 9.2427, 4.6864, 9.4901, 0.5742, 9.4901]'\n",
      "...Cell[1][1] has text '7,583,440,247 shares'\n",
      "...content on page 1 is within bounding polygon '[4.6864, 9.2427, 7.8358, 9.2427, 7.8433, 9.4901, 4.6864, 9.4901]'\n"
     ]
    }
   ],
   "source": [
    "if result.tables:\n",
    "    for table_idx, table in enumerate(result.tables):\n",
    "        print(\n",
    "            f\"Table # {table_idx} has {table.row_count} rows and \"\n",
    "            f\"{table.column_count} columns\"\n",
    "        )\n",
    "        if table.bounding_regions:\n",
    "            for region in table.bounding_regions:\n",
    "                print(\n",
    "                    f\"Table # {table_idx} location on page: {region.page_number} is {region.polygon}\"\n",
    "                )\n",
    "        for cell in table.cells:\n",
    "            print(\n",
    "                f\"...Cell[{cell.row_index}][{cell.column_index}] has text '{cell.content}'\"\n",
    "            )\n",
    "            if cell.bounding_regions:\n",
    "                for region in cell.bounding_regions:\n",
    "                    print(\n",
    "                        f\"...content on page {region.page_number} is within bounding polygon '{region.polygon}'\"\n",
    "                    )"
   ]
  },
  {
   "cell_type": "code",
   "execution_count": 22,
   "metadata": {
    "gather": {
     "logged": 1744293350033
    }
   },
   "outputs": [
    {
     "name": "stdout",
     "output_type": "stream",
     "text": [
      "Table # 0 has 4 rows and 3 columns\n",
      "Table # 1 has 1 rows and 2 columns\n"
     ]
    }
   ],
   "source": [
    "# table to dataframe\n",
    "if result.tables:\n",
    "    # list to store all dataframes\n",
    "    dataframes = []  \n",
    "    for table_idx, table in enumerate(result.tables):\n",
    "        # count rows and columns, considering the header row\n",
    "        print(\n",
    "            f\"Table # {table_idx} has {table.row_count - 1} rows and \"\n",
    "            f\"{table.column_count} columns\"\n",
    "        )\n",
    "        # initialize an empty dataframe with the correct dimensions\n",
    "        df = pd.DataFrame(index=range(table.row_count), columns=range(table.column_count))\n",
    "        for cell in table.cells:\n",
    "            # Assign the cell content to the correct location in the dataframe\n",
    "            df.at[cell.row_index, cell.column_index] = cell.content        \n",
    "        # promote the first row as column headers\n",
    "        df.columns = df.iloc[0]  # Set the first row as the header\n",
    "        df = df[1:].reset_index(drop=True)  # Drop the first row and reset the index\n",
    "        \n",
    "        # add the current dataframe to the list of dataframes\n",
    "        dataframes.append(df)  "
   ]
  },
  {
   "cell_type": "code",
   "execution_count": 23,
   "metadata": {
    "gather": {
     "logged": 1744293351899
    }
   },
   "outputs": [
    {
     "data": {
      "text/plain": [
       "2"
      ]
     },
     "execution_count": 23,
     "metadata": {},
     "output_type": "execute_result"
    }
   ],
   "source": [
    "len(dataframes)"
   ]
  },
  {
   "cell_type": "code",
   "execution_count": 24,
   "metadata": {
    "gather": {
     "logged": 1744293353019
    }
   },
   "outputs": [
    {
     "data": {
      "text/html": [
       "<div>\n",
       "<style scoped>\n",
       "    .dataframe tbody tr th:only-of-type {\n",
       "        vertical-align: middle;\n",
       "    }\n",
       "\n",
       "    .dataframe tbody tr th {\n",
       "        vertical-align: top;\n",
       "    }\n",
       "\n",
       "    .dataframe thead th {\n",
       "        text-align: right;\n",
       "    }\n",
       "</style>\n",
       "<table border=\"1\" class=\"dataframe\">\n",
       "  <thead>\n",
       "    <tr style=\"text-align: right;\">\n",
       "      <th></th>\n",
       "      <th>Title of each class</th>\n",
       "      <th>Trading Symbol</th>\n",
       "      <th>Name of exchange on which registered</th>\n",
       "    </tr>\n",
       "  </thead>\n",
       "  <tbody>\n",
       "    <tr>\n",
       "      <th>0</th>\n",
       "      <td>Common stock, $0.00000625 par value per share</td>\n",
       "      <td>MSFT</td>\n",
       "      <td>NASDAQ</td>\n",
       "    </tr>\n",
       "    <tr>\n",
       "      <th>1</th>\n",
       "      <td>2.125% Notes due 2021</td>\n",
       "      <td>MSFT</td>\n",
       "      <td>NASDAQ</td>\n",
       "    </tr>\n",
       "    <tr>\n",
       "      <th>2</th>\n",
       "      <td>3.125% Notes due 2028</td>\n",
       "      <td>MSFT</td>\n",
       "      <td>NASDAQ</td>\n",
       "    </tr>\n",
       "    <tr>\n",
       "      <th>3</th>\n",
       "      <td>2.625% Notes due 2033</td>\n",
       "      <td>MSFT</td>\n",
       "      <td>NASDAQ</td>\n",
       "    </tr>\n",
       "  </tbody>\n",
       "</table>\n",
       "</div>"
      ],
      "text/plain": [
       "0                            Title of each class Trading Symbol  \\\n",
       "0  Common stock, $0.00000625 par value per share           MSFT   \n",
       "1                          2.125% Notes due 2021           MSFT   \n",
       "2                          3.125% Notes due 2028           MSFT   \n",
       "3                          2.625% Notes due 2033           MSFT   \n",
       "\n",
       "0 Name of exchange on which registered  \n",
       "0                               NASDAQ  \n",
       "1                               NASDAQ  \n",
       "2                               NASDAQ  \n",
       "3                               NASDAQ  "
      ]
     },
     "execution_count": 24,
     "metadata": {},
     "output_type": "execute_result"
    }
   ],
   "source": [
    "dataframes[0]"
   ]
  },
  {
   "cell_type": "markdown",
   "metadata": {},
   "source": [
    "#### Key-value pairs"
   ]
  },
  {
   "cell_type": "code",
   "execution_count": 25,
   "metadata": {
    "gather": {
     "logged": 1744293415883
    }
   },
   "outputs": [],
   "source": [
    "# this example demonstrates how to pass a file stream to the API\n",
    "with open('assets/sample-invoice.pdf', \"rb\") as f:\n",
    "    poller = document_intelligence_client.begin_analyze_document(\n",
    "        \"prebuilt-layout\",\n",
    "        f,  # Pass the file stream as a positional argument\n",
    "        features=[DocumentAnalysisFeature.KEY_VALUE_PAIRS],\n",
    "        content_type=\"application/octet-stream\", # default value of \"application/json\", overriden for binary data\n",
    "    )"
   ]
  },
  {
   "cell_type": "code",
   "execution_count": 26,
   "metadata": {
    "gather": {
     "logged": 1744293437928
    }
   },
   "outputs": [
    {
     "name": "stdout",
     "output_type": "stream",
     "text": [
      "I've found 24 key-value pairs.\n"
     ]
    }
   ],
   "source": [
    "result: AnalyzeResult = poller.result()\n",
    "print(f\"I've found {len(result.key_value_pairs)} key-value pairs.\")"
   ]
  },
  {
   "cell_type": "code",
   "execution_count": 27,
   "metadata": {
    "gather": {
     "logged": 1744293439661
    }
   },
   "outputs": [
    {
     "data": {
      "text/plain": [
       "[{'key': {'content': 'INVOICE:', 'boundingRegions': [{'pageNumber': 1, 'polygon': [6.8368, 1.4018, 7.4325, 1.4024, 7.4323, 1.5448, 6.8367, 1.5442]}], 'spans': [{'offset': 75, 'length': 8}]}, 'value': {'content': 'INV-100', 'boundingRegions': [{'pageNumber': 1, 'polygon': [7.49, 1.4019, 8.013, 1.4007, 8.0133, 1.5445, 7.4903, 1.5457]}], 'spans': [{'offset': 84, 'length': 7}]}, 'confidence': 0.997},\n",
       " {'key': {'content': 'INVOICE DATE:', 'boundingRegions': [{'pageNumber': 1, 'polygon': [6.2044, 1.5987, 7.1897, 1.5999, 7.1895, 1.7504, 6.2042, 1.7492]}], 'spans': [{'offset': 92, 'length': 13}]}, 'value': {'content': '11/15/2019', 'boundingRegions': [{'pageNumber': 1, 'polygon': [7.2456, 1.5985, 8.0075, 1.5971, 8.0078, 1.7494, 7.2459, 1.7508]}], 'spans': [{'offset': 106, 'length': 10}]}, 'confidence': 0.997},\n",
       " {'key': {'content': 'DUE DATE:', 'boundingRegions': [{'pageNumber': 1, 'polygon': [6.4762, 1.8088, 7.1845, 1.8117, 7.1838, 1.9611, 6.4756, 1.9582]}], 'spans': [{'offset': 117, 'length': 9}]}, 'value': {'content': '12/15/2019', 'boundingRegions': [{'pageNumber': 1, 'polygon': [7.2418, 1.8097, 8.0075, 1.8072, 8.008, 1.9595, 7.2423, 1.9619]}], 'spans': [{'offset': 127, 'length': 10}]}, 'confidence': 0.997},\n",
       " {'key': {'content': 'CUSTOMER NAME:', 'boundingRegions': [{'pageNumber': 1, 'polygon': [4.9319, 2.0128, 6.1775, 2.0134, 6.1774, 2.1652, 4.9318, 2.1646]}], 'spans': [{'offset': 138, 'length': 14}]}, 'value': {'content': 'MICROSOFT CORPORATION', 'boundingRegions': [{'pageNumber': 1, 'polygon': [6.2332, 2.0128, 8.002, 2.0124, 8.002, 2.1637, 6.2332, 2.164]}], 'spans': [{'offset': 153, 'length': 21}]}, 'confidence': 0.997},\n",
       " {'key': {'content': 'SERVICE PERIOD:', 'boundingRegions': [{'pageNumber': 1, 'polygon': [5.1483, 2.2149, 6.2744, 2.2174, 6.2741, 2.3743, 5.148, 2.3718]}], 'spans': [{'offset': 175, 'length': 15}]}, 'value': {'content': '10/14/2019 - 11/14/2019', 'boundingRegions': [{'pageNumber': 1, 'polygon': [6.3268, 2.2157, 8.0075, 2.216, 8.0075, 2.3751, 6.3268, 2.3748]}], 'spans': [{'offset': 191, 'length': 23}]}, 'confidence': 0.996},\n",
       " {'key': {'content': 'CUSTOMER ID:', 'boundingRegions': [{'pageNumber': 1, 'polygon': [6.308, 2.4249, 7.2834, 2.4244, 7.2834, 2.5723, 6.308, 2.5727]}], 'spans': [{'offset': 215, 'length': 12}]}, 'value': {'content': 'CID-12345', 'boundingRegions': [{'pageNumber': 1, 'polygon': [7.3305, 2.4246, 8.013, 2.4233, 8.0133, 2.5707, 7.3308, 2.5721]}], 'spans': [{'offset': 228, 'length': 9}]}, 'confidence': 0.997},\n",
       " {'key': {'content': 'BILL TO:', 'boundingRegions': [{'pageNumber': 1, 'polygon': [0.5744, 3.5395, 1.1181, 3.5406, 1.1178, 3.6816, 0.5741, 3.6805]}], 'spans': [{'offset': 285, 'length': 8}]}, 'value': {'content': 'Microsoft Finance\\n123 Bill St,\\nRedmond WA, 98052', 'boundingRegions': [{'pageNumber': 1, 'polygon': [0.5742, 3.7537, 2.0252, 3.7528, 2.0255, 4.3162, 0.5746, 4.3171]}], 'spans': [{'offset': 294, 'length': 48}]}, 'confidence': 0.997},\n",
       " {'key': {'content': 'SHIP TO:', 'boundingRegions': [{'pageNumber': 1, 'polygon': [3.3224, 3.539, 3.9072, 3.5402, 3.9069, 3.6826, 3.3221, 3.6814]}], 'spans': [{'offset': 343, 'length': 8}]}, 'value': {'content': 'Microsoft Delivery\\n123 Ship St,\\nRedmond WA, 98052', 'boundingRegions': [{'pageNumber': 1, 'polygon': [3.3277, 3.7495, 4.778, 3.7554, 4.7757, 4.3219, 3.3254, 4.316]}], 'spans': [{'offset': 352, 'length': 49}]}, 'confidence': 0.996},\n",
       " {'key': {'content': 'SERVICE ADDRESS:', 'boundingRegions': [{'pageNumber': 1, 'polygon': [6.1945, 3.536, 7.4377, 3.5377, 7.4375, 3.687, 6.1943, 3.6853]}], 'spans': [{'offset': 402, 'length': 16}]}, 'value': {'content': 'Microsoft Services 123 Service St, Redmond WA, 98052', 'boundingRegions': [{'pageNumber': 1, 'polygon': [6.2011, 3.7525, 7.6534, 3.7528, 7.6533, 4.3183, 6.201, 4.3181]}], 'spans': [{'offset': 419, 'length': 52}]}, 'confidence': 0.997},\n",
       " {'key': {'content': 'REQUISITIONER', 'boundingRegions': [{'pageNumber': 1, 'polygon': [3.4775, 4.6287, 4.5267, 4.6286, 4.5267, 4.7776, 3.4776, 4.7777]}], 'spans': [{'offset': 496, 'length': 13}]}, 'confidence': 0.796},\n",
       " {'key': {'content': 'DATE', 'boundingRegions': [{'pageNumber': 1, 'polygon': [0.7203, 5.4047, 1.0902, 5.4027, 1.0909, 5.5392, 0.721, 5.5412]}], 'spans': [{'offset': 549, 'length': 4}]}, 'value': {'content': '3/4/2021\\n3/5/2021\\n3/6/2021', 'boundingRegions': [{'pageNumber': 1, 'polygon': [0.5722, 5.6719, 1.223, 5.6699, 1.2253, 6.4308, 0.5745, 6.4328]}], 'spans': [{'offset': 600, 'length': 8}, {'offset': 662, 'length': 8}, {'offset': 711, 'length': 8}]}, 'confidence': 0.996},\n",
       " {'key': {'content': 'ITEM CODE', 'boundingRegions': [{'pageNumber': 1, 'polygon': [1.4001, 5.4001, 2.1582, 5.399, 2.1584, 5.5439, 1.4003, 5.545]}], 'spans': [{'offset': 554, 'length': 9}]}, 'value': {'content': 'A123\\nB456\\nC789', 'boundingRegions': [{'pageNumber': 1, 'polygon': [1.5931, 5.6778, 1.9541, 5.6781, 1.9534, 6.4165, 1.5925, 6.4162]}], 'spans': [{'offset': 609, 'length': 4}, {'offset': 671, 'length': 4}, {'offset': 720, 'length': 4}]}, 'confidence': 0.994},\n",
       " {'key': {'content': 'DESCRIPTION', 'boundingRegions': [{'pageNumber': 1, 'polygon': [2.8349, 5.3971, 3.7299, 5.3979, 3.7298, 5.5471, 2.8347, 5.5463]}], 'spans': [{'offset': 564, 'length': 11}]}, 'value': {'content': 'Consulting Services\\nDocument Fee\\nPrinting Fee', 'boundingRegions': [{'pageNumber': 1, 'polygon': [2.3245, 5.6716, 3.6416, 5.674, 3.6402, 6.4435, 2.3231, 6.4411]}], 'spans': [{'offset': 614, 'length': 19}, {'offset': 676, 'length': 12}, {'offset': 725, 'length': 12}]}, 'confidence': 0.997},\n",
       " {'key': {'content': 'QTY', 'boundingRegions': [{'pageNumber': 1, 'polygon': [4.3929, 5.4036, 4.6761, 5.403, 4.6764, 5.5451, 4.3933, 5.5457]}], 'spans': [{'offset': 576, 'length': 3}]}, 'value': {'content': '2\\n3\\n10', 'boundingRegions': [{'pageNumber': 1, 'polygon': [4.5038, 5.681, 4.6778, 5.6814, 4.6761, 6.4166, 4.5021, 6.4162]}], 'spans': [{'offset': 634, 'length': 1}, {'offset': 689, 'length': 1}, {'offset': 738, 'length': 2}]}, 'confidence': 0.996},\n",
       " {'key': {'content': 'UM', 'boundingRegions': [{'pageNumber': 1, 'polygon': [5.0312, 5.405, 5.2829, 5.4056, 5.2826, 5.5384, 5.0309, 5.5379]}], 'spans': [{'offset': 580, 'length': 2}]}, 'value': {'content': 'hours\\npages', 'boundingRegions': [{'pageNumber': 1, 'polygon': [4.8242, 5.6828, 5.2383, 5.6846, 5.235, 6.4441, 4.8209, 6.4423]}], 'spans': [{'offset': 636, 'length': 5}, {'offset': 741, 'length': 5}]}, 'confidence': 0.998},\n",
       " {'key': {'content': 'PRICE', 'boundingRegions': [{'pageNumber': 1, 'polygon': [5.8389, 5.4017, 6.2357, 5.4011, 6.2359, 5.5389, 5.8391, 5.5395]}], 'spans': [{'offset': 583, 'length': 5}]}, 'value': {'content': '$30.00\\n$10.00\\n$1.00', 'boundingRegions': [{'pageNumber': 1, 'polygon': [5.9532, 5.6674, 6.4303, 5.6673, 6.4304, 6.429, 5.9533, 6.429]}], 'spans': [{'offset': 642, 'length': 6}, {'offset': 691, 'length': 6}, {'offset': 747, 'length': 5}]}, 'confidence': 0.998},\n",
       " {'key': {'content': 'TAX', 'boundingRegions': [{'pageNumber': 1, 'polygon': [6.7029, 5.4035, 6.9893, 5.4022, 6.9899, 5.5395, 6.7035, 5.5408]}], 'spans': [{'offset': 589, 'length': 3}]}, 'value': {'content': '$6.00\\n$3.00\\n$1.00', 'boundingRegions': [{'pageNumber': 1, 'polygon': [6.6956, 5.6667, 7.0889, 5.6666, 7.0891, 6.4273, 6.6959, 6.4274]}], 'spans': [{'offset': 649, 'length': 5}, {'offset': 698, 'length': 5}, {'offset': 753, 'length': 5}]}, 'confidence': 0.998},\n",
       " {'key': {'content': 'AMOUNT', 'boundingRegions': [{'pageNumber': 1, 'polygon': [7.2718, 5.4002, 7.9189, 5.3977, 7.9195, 5.5429, 7.2724, 5.5453]}], 'spans': [{'offset': 593, 'length': 6}]}, 'value': {'content': '$60.00\\n$30.00\\n$10.00', 'boundingRegions': [{'pageNumber': 1, 'polygon': [7.4504, 5.6684, 7.9245, 5.6675, 7.9259, 6.4309, 7.4519, 6.4318]}], 'spans': [{'offset': 655, 'length': 6}, {'offset': 704, 'length': 6}, {'offset': 759, 'length': 6}]}, 'confidence': 0.998},\n",
       " {'key': {'content': 'SUBTOTAL', 'boundingRegions': [{'pageNumber': 1, 'polygon': [6.0119, 6.891, 6.7404, 6.8916, 6.7402, 7.0423, 6.0118, 7.0418]}], 'spans': [{'offset': 766, 'length': 8}]}, 'value': {'content': '$100.00', 'boundingRegions': [{'pageNumber': 1, 'polygon': [7.3688, 6.8562, 7.9355, 6.8558, 7.9357, 7.0238, 7.3689, 7.0243]}], 'spans': [{'offset': 775, 'length': 7}]}, 'confidence': 0.998},\n",
       " {'key': {'content': 'SALES TAX', 'boundingRegions': [{'pageNumber': 1, 'polygon': [6.0255, 7.1864, 6.7459, 7.1869, 6.7458, 7.3356, 6.0254, 7.3352]}], 'spans': [{'offset': 783, 'length': 9}]}, 'value': {'content': '$10.00', 'boundingRegions': [{'pageNumber': 1, 'polygon': [7.4549, 7.1574, 7.93, 7.1555, 7.9307, 7.3194, 7.4556, 7.3213]}], 'spans': [{'offset': 793, 'length': 6}]}, 'confidence': 0.998},\n",
       " {'key': {'content': 'TOTAL', 'boundingRegions': [{'pageNumber': 1, 'polygon': [6.2889, 7.495, 6.7402, 7.495, 6.7402, 7.6376, 6.2889, 7.6376]}], 'spans': [{'offset': 800, 'length': 5}]}, 'value': {'content': '$110.00', 'boundingRegions': [{'pageNumber': 1, 'polygon': [7.3687, 7.4532, 7.9303, 7.4543, 7.93, 7.6186, 7.3683, 7.6175]}], 'spans': [{'offset': 806, 'length': 7}]}, 'confidence': 0.998},\n",
       " {'key': {'content': 'PREVIOUS UNPAID BALANCE', 'boundingRegions': [{'pageNumber': 1, 'polygon': [4.7901, 7.7774, 6.7442, 7.7779, 6.7442, 7.9376, 4.7901, 7.9372]}], 'spans': [{'offset': 814, 'length': 23}]}, 'value': {'content': '$500.00', 'boundingRegions': [{'pageNumber': 1, 'polygon': [7.3685, 7.7478, 7.93, 7.7454, 7.9307, 7.9126, 7.3692, 7.915]}], 'spans': [{'offset': 838, 'length': 7}]}, 'confidence': 0.997},\n",
       " {'key': {'content': 'AMOUNT DUE', 'boundingRegions': [{'pageNumber': 1, 'polygon': [5.7526, 8.0813, 6.7404, 8.0825, 6.7402, 8.2332, 5.7525, 8.232]}], 'spans': [{'offset': 846, 'length': 10}]}, 'value': {'content': '$610.00', 'boundingRegions': [{'pageNumber': 1, 'polygon': [7.3673, 8.0473, 7.9355, 8.0456, 7.9361, 8.2131, 7.3678, 8.2148]}], 'spans': [{'offset': 857, 'length': 7}]}, 'confidence': 0.997},\n",
       " {'key': {'content': 'REMIT TO:', 'boundingRegions': [{'pageNumber': 1, 'polygon': [0.5723, 9.1443, 1.2785, 9.145, 1.2783, 9.2836, 0.5722, 9.2829]}], 'spans': [{'offset': 894, 'length': 9}]}, 'value': {'content': 'Contoso Billing\\n123 Remit St\\nNew York, NY, 10001', 'boundingRegions': [{'pageNumber': 1, 'polygon': [0.5728, 9.3525, 2.0029, 9.3511, 2.0034, 9.9175, 0.5734, 9.9189]}], 'spans': [{'offset': 904, 'length': 48}]}, 'confidence': 0.997}]"
      ]
     },
     "execution_count": 27,
     "metadata": {},
     "output_type": "execute_result"
    }
   ],
   "source": [
    "# verbose print of key-value pairs\n",
    "result.key_value_pairs"
   ]
  },
  {
   "cell_type": "code",
   "execution_count": 28,
   "metadata": {
    "gather": {
     "logged": 1744293442787
    }
   },
   "outputs": [
    {
     "name": "stdout",
     "output_type": "stream",
     "text": [
      "----Key-value pairs found in document----\n",
      "Key: INVOICE:, \n",
      "Value: INV-100\n",
      "--\n",
      "Key: INVOICE DATE:, \n",
      "Value: 11/15/2019\n",
      "--\n",
      "Key: DUE DATE:, \n",
      "Value: 12/15/2019\n",
      "--\n",
      "Key: CUSTOMER NAME:, \n",
      "Value: MICROSOFT CORPORATION\n",
      "--\n",
      "Key: SERVICE PERIOD:, \n",
      "Value: 10/14/2019 - 11/14/2019\n",
      "--\n",
      "Key: CUSTOMER ID:, \n",
      "Value: CID-12345\n",
      "--\n",
      "Key: BILL TO:, \n",
      "Value: Microsoft Finance\n",
      "123 Bill St,\n",
      "Redmond WA, 98052\n",
      "--\n",
      "Key: SHIP TO:, \n",
      "Value: Microsoft Delivery\n",
      "123 Ship St,\n",
      "Redmond WA, 98052\n",
      "--\n",
      "Key: SERVICE ADDRESS:, \n",
      "Value: Microsoft Services 123 Service St, Redmond WA, 98052\n",
      "--\n",
      "Key: REQUISITIONER, \n",
      "Value: None\n",
      "--\n",
      "Key: DATE, \n",
      "Value: 3/4/2021\n",
      "3/5/2021\n",
      "3/6/2021\n",
      "--\n",
      "Key: ITEM CODE, \n",
      "Value: A123\n",
      "B456\n",
      "C789\n",
      "--\n",
      "Key: DESCRIPTION, \n",
      "Value: Consulting Services\n",
      "Document Fee\n",
      "Printing Fee\n",
      "--\n",
      "Key: QTY, \n",
      "Value: 2\n",
      "3\n",
      "10\n",
      "--\n",
      "Key: UM, \n",
      "Value: hours\n",
      "pages\n",
      "--\n",
      "Key: PRICE, \n",
      "Value: $30.00\n",
      "$10.00\n",
      "$1.00\n",
      "--\n",
      "Key: TAX, \n",
      "Value: $6.00\n",
      "$3.00\n",
      "$1.00\n",
      "--\n",
      "Key: AMOUNT, \n",
      "Value: $60.00\n",
      "$30.00\n",
      "$10.00\n",
      "--\n",
      "Key: SUBTOTAL, \n",
      "Value: $100.00\n",
      "--\n",
      "Key: SALES TAX, \n",
      "Value: $10.00\n",
      "--\n",
      "Key: TOTAL, \n",
      "Value: $110.00\n",
      "--\n",
      "Key: PREVIOUS UNPAID BALANCE, \n",
      "Value: $500.00\n",
      "--\n",
      "Key: AMOUNT DUE, \n",
      "Value: $610.00\n",
      "--\n",
      "Key: REMIT TO:, \n",
      "Value: Contoso Billing\n",
      "123 Remit St\n",
      "New York, NY, 10001\n",
      "--\n"
     ]
    }
   ],
   "source": [
    "print(\"----Key-value pairs found in document----\")\n",
    "if result.key_value_pairs:\n",
    "    for kv_pair in result.key_value_pairs:\n",
    "        key = kv_pair.key.content if kv_pair.key else \"None\"\n",
    "        value = kv_pair.value.content if kv_pair.value else \"None\"\n",
    "        print(f\"Key: {key}, \\nValue: {value}\")\n",
    "        print(\"--\")\n"
   ]
  },
  {
   "cell_type": "markdown",
   "metadata": {},
   "source": [
    "#### Markdown output"
   ]
  },
  {
   "cell_type": "code",
   "execution_count": 29,
   "metadata": {
    "gather": {
     "logged": 1744293447213
    }
   },
   "outputs": [],
   "source": [
    "poller = document_intelligence_client.begin_analyze_document(\n",
    "    \"prebuilt-layout\",\n",
    "    body=AnalyzeDocumentRequest(url_source=formUrl),\n",
    "    output_content_format=\"markdown\" # default \"text\"\n",
    ")"
   ]
  },
  {
   "cell_type": "code",
   "execution_count": 30,
   "metadata": {
    "gather": {
     "logged": 1744293448496
    }
   },
   "outputs": [
    {
     "name": "stdout",
     "output_type": "stream",
     "text": [
      "https://raw.githubusercontent.com/Azure-Samples/cognitive-services-REST-api-samples/master/curl/form-recognizer/sample-layout.pdf\n"
     ]
    }
   ],
   "source": [
    "print(formUrl)"
   ]
  },
  {
   "cell_type": "code",
   "execution_count": 31,
   "metadata": {
    "gather": {
     "logged": 1744293450702
    }
   },
   "outputs": [
    {
     "name": "stdout",
     "output_type": "stream",
     "text": [
      "File name: sample-layout.pdf\n"
     ]
    }
   ],
   "source": [
    "# retrieve the file name from the URL\n",
    "file_name = os.path.basename(formUrl)\n",
    "print(f\"File name: {file_name}\")\n",
    "# file name without extension\n",
    "file_name_without_ext = os.path.splitext(file_name)[0]"
   ]
  },
  {
   "cell_type": "code",
   "execution_count": 32,
   "metadata": {
    "gather": {
     "logged": 1744293451897
    }
   },
   "outputs": [],
   "source": [
    "result: AnalyzeResult = poller.result()"
   ]
  },
  {
   "cell_type": "code",
   "execution_count": 33,
   "metadata": {
    "gather": {
     "logged": 1744293453460
    }
   },
   "outputs": [
    {
     "name": "stdout",
     "output_type": "stream",
     "text": [
      "# UNITED STATES SECURITIES AND EXCHANGE COMMISSION Washington, D.C. 20549\n",
      "\n",
      "\n",
      "## FORM 10-Q\n",
      "\n",
      "☐\n",
      "☒\n",
      "☒\n",
      "QUARTERLY REPORT PURSUANT TO SECTION 13 OR 15(d) OF THE SECURITIES EXCHANGE ACT OF\n",
      "1934\n",
      "For the Quarterly Period Ended March 31, 2020\n",
      "OR\n",
      "☐\n",
      "TRANSITION REPORT PURSUANT TO SECTION 13 OR 15(d) OF THE SECURITIES EXCHANGE ACT OF\n",
      "1934\n",
      "For the Transition Period From\n",
      "to\n",
      "\n",
      "Commission File Number 001-37845\n",
      "\n",
      "\n",
      "## MICROSOFT CORPORATION\n",
      "\n",
      "WASHINGTON\n",
      "(STATE OF INCORPORATION)\n",
      "ONE MICROSOFT WAY, REDMOND, WASHINGTON 98052-6399\n",
      "(425) 882-8080\n",
      "www.microsoft.com/investor\n",
      "\n",
      "91-1144442\n",
      "(I.R.S. ID)\n",
      "\n",
      "Securities registered pursuant to Section 12(b) of the Act:\n",
      "\n",
      "\n",
      "<table>\n",
      "<tr>\n",
      "<th>Title of each class</th>\n",
      "<th>Trading Symbol</th>\n",
      "<th>Name of exchange on which registered</th>\n",
      "</tr>\n",
      "<tr>\n",
      "<td>Common stock, $0.00000625 par value per share</td>\n",
      "<td>MSFT</td>\n",
      "<td>NASDAQ</td>\n",
      "</tr>\n",
      "<tr>\n",
      "<td>2.125% Notes due 2021</td>\n",
      "<td>MSFT</td>\n",
      "<td>NASDAQ</td>\n",
      "</tr>\n",
      "<tr>\n",
      "<td>3.125% Notes due 2028</td>\n",
      "<td>MSFT</td>\n",
      "<td>NASDAQ</td>\n",
      "</tr>\n",
      "<tr>\n",
      "<td>2.625% Notes due 2033</td>\n",
      "<td>MSFT</td>\n",
      "<td>NASDAQ</td>\n",
      "</tr>\n",
      "</table>\n",
      "\n",
      "\n",
      "Securities registered pursuant to Section 12(g) of the Act:\n",
      "NONE\n",
      "\n",
      "Indicate by check mark whether the registrant (1) has filed all reports required to be filed by Section 13 or 15(d) of the Securities Exchange\n",
      "Act of 1934 during the preceding 12 months (or for such shorter period that the registrant was required to file such reports), and (2) has\n",
      "been subject to such filing requirements for the past 90 days. Yes\n",
      "☐\n",
      "No\n",
      "☒\n",
      "\n",
      "Indicate by check mark whether the registrant has submitted electronically every Interactive Data File required to be submitted pursuant to Rule\n",
      "405 of Regulation S-T (§232.405 of this chapter) during the preceding 12 months (or for such shorter period that the registrant was required to\n",
      "submit such files).\n",
      "☒\n",
      "Yes\n",
      "☐\n",
      "No\n",
      "\n",
      "Indicate by check mark whether the registrant is a large accelerated filer, an accelerated filer, a non-accelerated filer, a smaller reporting\n",
      "company, or an emerging growth company. See the definitions of \"large accelerated filer,\" \"accelerated filer,\" \"smaller reporting company,\"\n",
      "and \"emerging growth company\" in Rule 12b-2 of the Exchange Act.\n",
      "\n",
      "☒\n",
      "Large accelerated filer\n",
      "Non-accelerated filer\n",
      "☐\n",
      "\n",
      "☐\n",
      "Accelerated filer\n",
      "Smaller reporting company\n",
      "Emerging growth company\n",
      "☐\n",
      "\n",
      "☐\n",
      "\n",
      "If an emerging growth company, indicate by check mark if the registrant has elected not to use the extended transition period for complying\n",
      "with any new or revised financial accounting standards provided pursuant to Section 13(a) of the Exchange Act.\n",
      "☐\n",
      "\n",
      "Indicate by check mark whether the registrant is a shell company (as defined in Rule 12b-2 of the Exchange Act). Yes\n",
      "☐\n",
      "No\n",
      "\n",
      "☒\n",
      "\n",
      "Indicate the number of shares outstanding of each of the issuer's classes of common stock, as of the latest practicable date.\n",
      "\n",
      "\n",
      "<table>\n",
      "<tr>\n",
      "<th>Class</th>\n",
      "<th>Outstanding as of April 24, 2020</th>\n",
      "</tr>\n",
      "<tr>\n",
      "<td>Common Stock, $0.00000625 par value per share</td>\n",
      "<td>7,583,440,247 shares</td>\n",
      "</tr>\n",
      "</table>\n",
      "\n"
     ]
    }
   ],
   "source": [
    "print(result.content)"
   ]
  },
  {
   "cell_type": "code",
   "execution_count": 34,
   "metadata": {
    "gather": {
     "logged": 1744293455597
    }
   },
   "outputs": [],
   "source": [
    "# save result content to file\n",
    "with open(f\"assets/{file_name_without_ext}.md\", \"w\") as f:\n",
    "    f.write(result.content)  # Write the string content directly"
   ]
  },
  {
   "cell_type": "markdown",
   "metadata": {},
   "source": [
    "## Chat with your document (basic)"
   ]
  },
  {
   "cell_type": "code",
   "execution_count": 35,
   "metadata": {
    "gather": {
     "logged": 1744293457118
    }
   },
   "outputs": [],
   "source": [
    "from openai import AzureOpenAI"
   ]
  },
  {
   "cell_type": "code",
   "execution_count": 36,
   "metadata": {
    "gather": {
     "logged": 1744293482115
    }
   },
   "outputs": [
    {
     "name": "stdout",
     "output_type": "stream",
     "text": [
      "Current endpoint: https://ai-aifoundryupskillinghub687267079310.openai.azure.com/\n"
     ]
    }
   ],
   "source": [
    "# Load environment variables from .env file\n",
    "load_dotenv(dotenv_path='../infra/credentials.env', override=True)\n",
    "\n",
    "# Use your `key` and `endpoint` environment variables for Azure Document Intelligence\n",
    "azure_openai_endpoint = os.environ.get('AZURE_OPENAI_ENDPOINT')\n",
    "print(f'Current endpoint: {azure_openai_endpoint}')"
   ]
  },
  {
   "cell_type": "markdown",
   "metadata": {},
   "source": [
    "### Azure OpenAI client"
   ]
  },
  {
   "cell_type": "code",
   "execution_count": 37,
   "metadata": {
    "gather": {
     "logged": 1744293485394
    }
   },
   "outputs": [],
   "source": [
    "client = AzureOpenAI(\n",
    "  azure_endpoint = os.getenv(\"AZURE_OPENAI_ENDPOINT\"), \n",
    "  api_key=os.getenv(\"AZURE_OPENAI_KEY\"),  \n",
    "  api_version=\"2024-05-01-preview\" #\"2024-08-01-preview\"\n",
    ")"
   ]
  },
  {
   "cell_type": "markdown",
   "metadata": {},
   "source": [
    "### Prompt template"
   ]
  },
  {
   "cell_type": "code",
   "execution_count": 38,
   "metadata": {
    "gather": {
     "logged": 1744293487649
    }
   },
   "outputs": [],
   "source": [
    "question = \"What quarterly period does this form cover?\""
   ]
  },
  {
   "cell_type": "code",
   "execution_count": 39,
   "metadata": {
    "gather": {
     "logged": 1744293489393
    }
   },
   "outputs": [],
   "source": [
    "document_prompt = f\"\"\"\n",
    "Given the markdown-formatted content extracted, answer the following question using only the information contained in the content.\n",
    "---\n",
    "\n",
    "Answer concisely and factually. If the information is not present, reply: \"Not specified in the document.\"\n",
    "---\n",
    "\n",
    "Markdown Content:\n",
    "{result.content}\n",
    "---\n",
    "\n",
    "Question:\n",
    "{question}\n",
    "\"\"\""
   ]
  },
  {
   "cell_type": "markdown",
   "metadata": {},
   "source": [
    "### Chat"
   ]
  },
  {
   "cell_type": "code",
   "execution_count": 40,
   "metadata": {
    "gather": {
     "logged": 1744293493250
    }
   },
   "outputs": [
    {
     "name": "stdout",
     "output_type": "stream",
     "text": [
      "The quarterly period covered by this form is the period ended March 31, 2020.\n"
     ]
    }
   ],
   "source": [
    "document_response = client.chat.completions.create(\n",
    "    messages=[\n",
    "        {\n",
    "            \"role\": \"system\",\n",
    "            \"content\": \"You are a document understanding assistant.\",\n",
    "        },\n",
    "        {\n",
    "            \"role\": \"user\", \n",
    "            \"content\": document_prompt,\n",
    "        },\n",
    "    ],\n",
    "    model=\"gpt-4o\", \n",
    "    temperature=0.0, # for stable results\n",
    ")\n",
    "\n",
    "print(document_response.choices[0].message.content)"
   ]
  },
  {
   "cell_type": "markdown",
   "metadata": {},
   "source": [
    "### Questions generation"
   ]
  },
  {
   "cell_type": "code",
   "execution_count": 41,
   "metadata": {
    "gather": {
     "logged": 1744293496103
    }
   },
   "outputs": [],
   "source": [
    "questions_prompt = f\"\"\"\n",
    "Given the following markdown-formatted content, generate a list of 5 relevant questions that can be used to verify the correct processing and comprehension of the document by an automated pipeline.\n",
    "\n",
    "The questions could cover:\n",
    "- Document metadata and structure\n",
    "- Company information\n",
    "- Securities details\n",
    "- Compliance and filing status\n",
    "- Shares outstanding\n",
    "\n",
    "Make sure the questions are clear, factual, and refer only to the information available in the text.\n",
    "\n",
    "---\n",
    "\n",
    "Markdown Content:\n",
    "{result.content}\n",
    "\n",
    "---\n",
    "\n",
    "Now, list the questions based on the markdown content above.\n",
    "\"\"\""
   ]
  },
  {
   "cell_type": "code",
   "execution_count": 42,
   "metadata": {
    "gather": {
     "logged": 1744293499422
    }
   },
   "outputs": [
    {
     "name": "stdout",
     "output_type": "stream",
     "text": [
      "1. What is the Commission File Number associated with the Form 10-Q for Microsoft Corporation?\n",
      "\n",
      "2. What is the par value per share of Microsoft's common stock as registered on NASDAQ?\n",
      "\n",
      "3. Has Microsoft Corporation filed all reports required by Section 13 or 15(d) of the Securities Exchange Act of 1934 during the preceding 12 months?\n",
      "\n",
      "4. What is the total number of shares outstanding for Microsoft's common stock as of April 24, 2020?\n",
      "\n",
      "5. What is the state of incorporation for Microsoft Corporation as mentioned in the document?\n"
     ]
    }
   ],
   "source": [
    "questions_response = client.chat.completions.create(\n",
    "    messages=[\n",
    "        {\n",
    "            \"role\": \"system\",\n",
    "            \"content\": \"You are a document understanding assistant.\",\n",
    "        },\n",
    "        {\n",
    "            \"role\": \"user\", \n",
    "            \"content\": questions_prompt,\n",
    "        },\n",
    "    ],\n",
    "    model=\"gpt-4o\", \n",
    "    temperature=0.0, # for stable results\n",
    ")\n",
    "\n",
    "print(questions_response.choices[0].message.content)"
   ]
  },
  {
   "cell_type": "markdown",
   "metadata": {},
   "source": [
    "## Searchable PDF\n",
    "\n",
    "In the same directory as this notebook, you'll find the `searchable_pdf.py` script.  \n",
    "This script uses the **Azure Document Intelligence** service to convert an image into a searchable PDF.  \n",
    "You can customize the input image by modifying the `pdf_path` variable in the `main` function.\n",
    "\n",
    "To run the script execute the following command:"
   ]
  },
  {
   "cell_type": "code",
   "execution_count": 43,
   "metadata": {},
   "outputs": [
    {
     "name": "stdout",
     "output_type": "stream",
     "text": [
      "https://ep-di-standalone.cognitiveservices.azure.com\n",
      "File downloaded successfully as invoice_sample_search.pdf\n"
     ]
    }
   ],
   "source": [
    "!python searchable_pdf.py"
   ]
  }
 ],
 "metadata": {
  "kernel_info": {
   "name": "my_env"
  },
  "kernelspec": {
   "display_name": "my_env",
   "language": "python",
   "name": "my_env"
  },
  "language_info": {
   "codemirror_mode": {
    "name": "ipython",
    "version": 3
   },
   "file_extension": ".py",
   "mimetype": "text/x-python",
   "name": "python",
   "nbconvert_exporter": "python",
   "pygments_lexer": "ipython3",
   "version": "3.10.16"
  },
  "microsoft": {
   "ms_spell_check": {
    "ms_spell_check_language": "en"
   }
  },
  "nteract": {
   "version": "nteract-front-end@1.0.0"
  },
  "toc-autonumbering": true,
  "toc-showcode": false,
  "toc-showmarkdowntxt": true
 },
 "nbformat": 4,
 "nbformat_minor": 4
}
